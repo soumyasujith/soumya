{
 "cells": [
  {
   "cell_type": "markdown",
   "metadata": {},
   "source": [
    "<center>\n",
    "<img src=\"https://cf-courses-data.s3.us.cloud-object-storage.appdomain.cloud/IBMDeveloperSkillsNetwork-RP0321EN-SkillsNetwork/labs/module_1/images/SN_web_lightmode.png\" width=\"300\"> \n",
    "</center>\n",
    "\n",
    "# Assignment: Exploratory Data Analysis with tidyverse and ggplot2\n",
    "Estimated time needed: 60 minutes\n",
    "\n",
    "\n",
    "# Introduction and Objectives\n",
    "In this Lab, you will use an R notebook to perform exploratory data analysis using tidyverse and the ggplot2 R packages. \n",
    "\n",
    "You will start by doing some minor data preparation on the SEOUL BIKE SHARING dataset. Then you will generate and explore some statistics from the resulting dataframe and make some observations. Finally, you will generate some informative plots using the ggplot2 library. \n",
    "\n",
    "Your primary objective is to gather insights from your exploratory analysis. These findings will be part of your story that you will create your final capstone presentation. \n",
    "\n",
    "Visualization is a very powerful tool for better understanding your data and finding patterns that may exist in it. You can use scatterplots, for example, to display how well two features are correlated with, or similar to each other.  When data are highly correlated, it means they vary in similar ways, and so their graphs will look similar (once scaled to a common scale). We can say one variable 'explains' the variation in the other, and that they are 'covariates'. There could be a causal relationship between covariates, meaning that changing one variable has the effect of changing the other, but this need not be the case. Perhaps there is another factor which causes both covariates to respond to variations, or the similarity could be a random coincidence. Either way, the behaviour of one variable can be used to predict the behaviour of the other. The key practical difference is that in the causal case, if we can influence the first variable then we can have a corresponding causal influence on the second. Like turning a light switch on or off to control the light in the room, the state of the switch controls the state of the light bulb. This is an important topic for data science that is beyond our current scope, but we invite you to delve deeper into the subject as you progress in your career$.^{1}$\n",
    "\n",
    "Other ways visualization can inform your analysis is with spotting outliers and anomalous behaviour in your features. Boxplots are informative in these regards. You can also gain insights about any clear trends and anomalies that may be present in a variable, simply by plotting it directly. For instance, time series and spatial data are particularly interesting kinds of variables. Outliers can easily consume the range of your plot though, making your data look like a featureless flat line in comparison to these points. So some cleaning, namely outlier removal, may be required to get a clearer picture.\n",
    "\n",
    "A word of caution: be skeptical about any patterns you find, especially in smaller datasets. In very simple terms, it is true that any two points randomly placed in space always define a unique line; but add a third random point, and it is very unlikely that it will land on that same line. This suggests one of the main advantages of 'big data' - any patterns that emerge in very large datasets are far more likely to persist on unseen data than those found in small datasets.\n",
    "\n",
    "All right, let's move along and get started with our exploratory analysis!\n"
   ]
  },
  {
   "cell_type": "markdown",
   "metadata": {},
   "source": [
    "\n",
    "### For reference, we include the Attribute Information for the `seoul_bike_sharing` dataset:\n",
    "\n",
    "- DATE - format: \"2017-12-01\"\n",
    "- RENTED_BIKE_COUNT - Count of bikes rented at each hour\n",
    "- HOUR - Hour of the day\n",
    "- TEMPERATURE - Celsius\n",
    "- HUMIDITY - %\n",
    "- Windspeed - m/s\n",
    "- VISIBILITY - 10m\n",
    "- DEW_POINT_TEMPERATURE - Celsius\n",
    "- SOLAR_RADIATION - MJ/m2\n",
    "- RAINFALL - mm\n",
    "- SNOWFALL - cm\n",
    "- SEASONS -  \"Autumn\",\"Spring\",..\n",
    "- HOLIDAY - \"Holiday\", \"No holiday\"\n",
    "- FUNCTIONING_DAY - \"Yes\", \"No\"\n",
    "\n"
   ]
  },
  {
   "cell_type": "markdown",
   "metadata": {},
   "source": [
    "## Load the seoul_bike_sharing data into a dataframe\n",
    "\n",
    "Use the following URL to load your dataset.   \n",
    "The dataset is already clean, but you will still need to pay careful attention to data types, especially dates, which you may need to coerce. \n",
    "Also, ensure any categorical variables get typed as factors. \n",
    "\n",
    "```R\n",
    "seoul_bike_sharing <- \"https://cf-courses-data.s3.us.cloud-object-storage.appdomain.cloud/IBMDeveloperSkillsNetwork-RP0321EN-SkillsNetwork/labs/datasets/seoul_bike_sharing.csv\"  \n",
    "\n",
    "```\n"
   ]
  },
  {
   "cell_type": "markdown",
   "metadata": {},
   "source": [
    "### Task 1 - Load the dataset\n",
    "Ensure you read `DATE` as type `character`.\n",
    "### Solution 1\n"
   ]
  },
  {
   "cell_type": "code",
   "execution_count": 1,
   "metadata": {},
   "outputs": [
    {
     "name": "stderr",
     "output_type": "stream",
     "text": [
      "Updating HTML index of packages in '.Library'\n",
      "Making 'packages.html' ... done\n",
      "Updating HTML index of packages in '.Library'\n",
      "Making 'packages.html' ... done\n",
      "Updating HTML index of packages in '.Library'\n",
      "Making 'packages.html' ... done\n"
     ]
    }
   ],
   "source": [
    "install.packages(\"RSQLite\")\n",
    "install.packages(\"rlang\")\n",
    "install.packages(\"tidymodels\")\n"
   ]
  },
  {
   "cell_type": "code",
   "execution_count": 1,
   "metadata": {},
   "outputs": [
    {
     "name": "stderr",
     "output_type": "stream",
     "text": [
      "── Attaching packages ─────────────────────────────────────── tidyverse 1.3.0 ──\n",
      "✔ ggplot2 3.4.0     ✔ purrr   1.0.1\n",
      "✔ tibble  3.1.8     ✔ dplyr   1.1.0\n",
      "✔ tidyr   1.3.0     ✔ stringr 1.5.0\n",
      "✔ readr   1.3.1     ✔ forcats 0.5.0\n",
      "── Conflicts ────────────────────────────────────────── tidyverse_conflicts() ──\n",
      "✖ dplyr::filter() masks stats::filter()\n",
      "✖ dplyr::lag()    masks stats::lag()\n"
     ]
    }
   ],
   "source": [
    "library(tidyverse)"
   ]
  },
  {
   "cell_type": "code",
   "execution_count": 2,
   "metadata": {},
   "outputs": [],
   "source": [
    "library(RSQLite)"
   ]
  },
  {
   "cell_type": "code",
   "execution_count": 3,
   "metadata": {},
   "outputs": [],
   "source": [
    "# provide your solution here\n",
    "seoul_bike_sharing <- read.csv (\"https://cf-courses-data.s3.us.cloud-object-storage.appdomain.cloud/IBMDeveloperSkillsNetwork-RP0321EN-SkillsNetwork/labs/datasets/seoul_bike_sharing.csv\"\n",
    "                               )\n",
    "\n",
    "                      "
   ]
  },
  {
   "cell_type": "markdown",
   "metadata": {},
   "source": [
    "### Task 2 - Recast `DATE` as a date\n",
    "Use the format of the data, namely \"%d/%m/%Y\".\n",
    "### Solution 2\n"
   ]
  },
  {
   "cell_type": "code",
   "execution_count": 4,
   "metadata": {},
   "outputs": [
    {
     "data": {
      "text/html": [
       "<table>\n",
       "<caption>A data.frame: 6 × 16</caption>\n",
       "<thead>\n",
       "\t<tr><th></th><th scope=col>day</th><th scope=col>month</th><th scope=col>year</th><th scope=col>RENTED_BIKE_COUNT</th><th scope=col>HOUR</th><th scope=col>TEMPERATURE</th><th scope=col>HUMIDITY</th><th scope=col>WIND_SPEED</th><th scope=col>VISIBILITY</th><th scope=col>DEW_POINT_TEMPERATURE</th><th scope=col>SOLAR_RADIATION</th><th scope=col>RAINFALL</th><th scope=col>SNOWFALL</th><th scope=col>SEASONS</th><th scope=col>HOLIDAY</th><th scope=col>FUNCTIONING_DAY</th></tr>\n",
       "\t<tr><th></th><th scope=col>&lt;chr&gt;</th><th scope=col>&lt;chr&gt;</th><th scope=col>&lt;chr&gt;</th><th scope=col>&lt;int&gt;</th><th scope=col>&lt;int&gt;</th><th scope=col>&lt;dbl&gt;</th><th scope=col>&lt;int&gt;</th><th scope=col>&lt;dbl&gt;</th><th scope=col>&lt;int&gt;</th><th scope=col>&lt;dbl&gt;</th><th scope=col>&lt;dbl&gt;</th><th scope=col>&lt;dbl&gt;</th><th scope=col>&lt;dbl&gt;</th><th scope=col>&lt;fct&gt;</th><th scope=col>&lt;fct&gt;</th><th scope=col>&lt;fct&gt;</th></tr>\n",
       "</thead>\n",
       "<tbody>\n",
       "\t<tr><th scope=row>1</th><td>01</td><td>12</td><td>2017</td><td>254</td><td>0</td><td>-5.2</td><td>37</td><td>2.2</td><td>2000</td><td>-17.6</td><td>0</td><td>0</td><td>0</td><td>Winter</td><td>No Holiday</td><td>Yes</td></tr>\n",
       "\t<tr><th scope=row>2</th><td>01</td><td>12</td><td>2017</td><td>204</td><td>1</td><td>-5.5</td><td>38</td><td>0.8</td><td>2000</td><td>-17.6</td><td>0</td><td>0</td><td>0</td><td>Winter</td><td>No Holiday</td><td>Yes</td></tr>\n",
       "\t<tr><th scope=row>3</th><td>01</td><td>12</td><td>2017</td><td>173</td><td>2</td><td>-6.0</td><td>39</td><td>1.0</td><td>2000</td><td>-17.7</td><td>0</td><td>0</td><td>0</td><td>Winter</td><td>No Holiday</td><td>Yes</td></tr>\n",
       "\t<tr><th scope=row>4</th><td>01</td><td>12</td><td>2017</td><td>107</td><td>3</td><td>-6.2</td><td>40</td><td>0.9</td><td>2000</td><td>-17.6</td><td>0</td><td>0</td><td>0</td><td>Winter</td><td>No Holiday</td><td>Yes</td></tr>\n",
       "\t<tr><th scope=row>5</th><td>01</td><td>12</td><td>2017</td><td> 78</td><td>4</td><td>-6.0</td><td>36</td><td>2.3</td><td>2000</td><td>-18.6</td><td>0</td><td>0</td><td>0</td><td>Winter</td><td>No Holiday</td><td>Yes</td></tr>\n",
       "\t<tr><th scope=row>6</th><td>01</td><td>12</td><td>2017</td><td>100</td><td>5</td><td>-6.4</td><td>37</td><td>1.5</td><td>2000</td><td>-18.7</td><td>0</td><td>0</td><td>0</td><td>Winter</td><td>No Holiday</td><td>Yes</td></tr>\n",
       "</tbody>\n",
       "</table>\n"
      ],
      "text/latex": [
       "A data.frame: 6 × 16\n",
       "\\begin{tabular}{r|llllllllllllllll}\n",
       "  & day & month & year & RENTED\\_BIKE\\_COUNT & HOUR & TEMPERATURE & HUMIDITY & WIND\\_SPEED & VISIBILITY & DEW\\_POINT\\_TEMPERATURE & SOLAR\\_RADIATION & RAINFALL & SNOWFALL & SEASONS & HOLIDAY & FUNCTIONING\\_DAY\\\\\n",
       "  & <chr> & <chr> & <chr> & <int> & <int> & <dbl> & <int> & <dbl> & <int> & <dbl> & <dbl> & <dbl> & <dbl> & <fct> & <fct> & <fct>\\\\\n",
       "\\hline\n",
       "\t1 & 01 & 12 & 2017 & 254 & 0 & -5.2 & 37 & 2.2 & 2000 & -17.6 & 0 & 0 & 0 & Winter & No Holiday & Yes\\\\\n",
       "\t2 & 01 & 12 & 2017 & 204 & 1 & -5.5 & 38 & 0.8 & 2000 & -17.6 & 0 & 0 & 0 & Winter & No Holiday & Yes\\\\\n",
       "\t3 & 01 & 12 & 2017 & 173 & 2 & -6.0 & 39 & 1.0 & 2000 & -17.7 & 0 & 0 & 0 & Winter & No Holiday & Yes\\\\\n",
       "\t4 & 01 & 12 & 2017 & 107 & 3 & -6.2 & 40 & 0.9 & 2000 & -17.6 & 0 & 0 & 0 & Winter & No Holiday & Yes\\\\\n",
       "\t5 & 01 & 12 & 2017 &  78 & 4 & -6.0 & 36 & 2.3 & 2000 & -18.6 & 0 & 0 & 0 & Winter & No Holiday & Yes\\\\\n",
       "\t6 & 01 & 12 & 2017 & 100 & 5 & -6.4 & 37 & 1.5 & 2000 & -18.7 & 0 & 0 & 0 & Winter & No Holiday & Yes\\\\\n",
       "\\end{tabular}\n"
      ],
      "text/markdown": [
       "\n",
       "A data.frame: 6 × 16\n",
       "\n",
       "| <!--/--> | day &lt;chr&gt; | month &lt;chr&gt; | year &lt;chr&gt; | RENTED_BIKE_COUNT &lt;int&gt; | HOUR &lt;int&gt; | TEMPERATURE &lt;dbl&gt; | HUMIDITY &lt;int&gt; | WIND_SPEED &lt;dbl&gt; | VISIBILITY &lt;int&gt; | DEW_POINT_TEMPERATURE &lt;dbl&gt; | SOLAR_RADIATION &lt;dbl&gt; | RAINFALL &lt;dbl&gt; | SNOWFALL &lt;dbl&gt; | SEASONS &lt;fct&gt; | HOLIDAY &lt;fct&gt; | FUNCTIONING_DAY &lt;fct&gt; |\n",
       "|---|---|---|---|---|---|---|---|---|---|---|---|---|---|---|---|---|\n",
       "| 1 | 01 | 12 | 2017 | 254 | 0 | -5.2 | 37 | 2.2 | 2000 | -17.6 | 0 | 0 | 0 | Winter | No Holiday | Yes |\n",
       "| 2 | 01 | 12 | 2017 | 204 | 1 | -5.5 | 38 | 0.8 | 2000 | -17.6 | 0 | 0 | 0 | Winter | No Holiday | Yes |\n",
       "| 3 | 01 | 12 | 2017 | 173 | 2 | -6.0 | 39 | 1.0 | 2000 | -17.7 | 0 | 0 | 0 | Winter | No Holiday | Yes |\n",
       "| 4 | 01 | 12 | 2017 | 107 | 3 | -6.2 | 40 | 0.9 | 2000 | -17.6 | 0 | 0 | 0 | Winter | No Holiday | Yes |\n",
       "| 5 | 01 | 12 | 2017 |  78 | 4 | -6.0 | 36 | 2.3 | 2000 | -18.6 | 0 | 0 | 0 | Winter | No Holiday | Yes |\n",
       "| 6 | 01 | 12 | 2017 | 100 | 5 | -6.4 | 37 | 1.5 | 2000 | -18.7 | 0 | 0 | 0 | Winter | No Holiday | Yes |\n",
       "\n"
      ],
      "text/plain": [
       "  day month year RENTED_BIKE_COUNT HOUR TEMPERATURE HUMIDITY WIND_SPEED\n",
       "1 01  12    2017 254               0    -5.2        37       2.2       \n",
       "2 01  12    2017 204               1    -5.5        38       0.8       \n",
       "3 01  12    2017 173               2    -6.0        39       1.0       \n",
       "4 01  12    2017 107               3    -6.2        40       0.9       \n",
       "5 01  12    2017  78               4    -6.0        36       2.3       \n",
       "6 01  12    2017 100               5    -6.4        37       1.5       \n",
       "  VISIBILITY DEW_POINT_TEMPERATURE SOLAR_RADIATION RAINFALL SNOWFALL SEASONS\n",
       "1 2000       -17.6                 0               0        0        Winter \n",
       "2 2000       -17.6                 0               0        0        Winter \n",
       "3 2000       -17.7                 0               0        0        Winter \n",
       "4 2000       -17.6                 0               0        0        Winter \n",
       "5 2000       -18.6                 0               0        0        Winter \n",
       "6 2000       -18.7                 0               0        0        Winter \n",
       "  HOLIDAY    FUNCTIONING_DAY\n",
       "1 No Holiday Yes            \n",
       "2 No Holiday Yes            \n",
       "3 No Holiday Yes            \n",
       "4 No Holiday Yes            \n",
       "5 No Holiday Yes            \n",
       "6 No Holiday Yes            "
      ]
     },
     "metadata": {},
     "output_type": "display_data"
    }
   ],
   "source": [
    "# provide your solution here\n",
    "seoul_bike_sharing <- seoul_bike_sharing %>% separate(DATE, sep = \"/\" , into = c(\"day\",\"month\",\"year\"))\n",
    "head(seoul_bike_sharing)"
   ]
  },
  {
   "cell_type": "markdown",
   "metadata": {},
   "source": [
    "### Task 3 - Cast `HOURS` as a categorical variable\n",
    "Also, coerce its levels to be an ordered sequence.  This will ensure your visualizations correctly utilize `HOURS` as a discrete variable with the expected ordering.  \n",
    "### Solution 3\n"
   ]
  },
  {
   "cell_type": "code",
   "execution_count": 10,
   "metadata": {},
   "outputs": [
    {
     "data": {
      "text/html": [
       "<table>\n",
       "<caption>A data.frame: 8465 × 17</caption>\n",
       "<thead>\n",
       "\t<tr><th scope=col>day</th><th scope=col>month</th><th scope=col>year</th><th scope=col>RENTED_BIKE_COUNT</th><th scope=col>HOUR</th><th scope=col>TEMPERATURE</th><th scope=col>HUMIDITY</th><th scope=col>WIND_SPEED</th><th scope=col>VISIBILITY</th><th scope=col>DEW_POINT_TEMPERATURE</th><th scope=col>SOLAR_RADIATION</th><th scope=col>RAINFALL</th><th scope=col>SNOWFALL</th><th scope=col>SEASONS</th><th scope=col>HOLIDAY</th><th scope=col>FUNCTIONING_DAY</th><th scope=col>seoul_bike_sharing$HOUR == ...</th></tr>\n",
       "\t<tr><th scope=col>&lt;chr&gt;</th><th scope=col>&lt;chr&gt;</th><th scope=col>&lt;chr&gt;</th><th scope=col>&lt;int&gt;</th><th scope=col>&lt;int&gt;</th><th scope=col>&lt;dbl&gt;</th><th scope=col>&lt;int&gt;</th><th scope=col>&lt;dbl&gt;</th><th scope=col>&lt;int&gt;</th><th scope=col>&lt;dbl&gt;</th><th scope=col>&lt;dbl&gt;</th><th scope=col>&lt;dbl&gt;</th><th scope=col>&lt;dbl&gt;</th><th scope=col>&lt;fct&gt;</th><th scope=col>&lt;fct&gt;</th><th scope=col>&lt;fct&gt;</th><th scope=col>&lt;lgl&gt;</th></tr>\n",
       "</thead>\n",
       "<tbody>\n",
       "\t<tr><td>01</td><td>12</td><td>2017</td><td>254</td><td> 0</td><td>-5.2</td><td>37</td><td>2.2</td><td>2000</td><td>-17.6</td><td>0.00</td><td>0</td><td>0</td><td>Winter</td><td>No Holiday</td><td>Yes</td><td>TRUE</td></tr>\n",
       "\t<tr><td>01</td><td>12</td><td>2017</td><td>204</td><td> 1</td><td>-5.5</td><td>38</td><td>0.8</td><td>2000</td><td>-17.6</td><td>0.00</td><td>0</td><td>0</td><td>Winter</td><td>No Holiday</td><td>Yes</td><td>TRUE</td></tr>\n",
       "\t<tr><td>01</td><td>12</td><td>2017</td><td>173</td><td> 2</td><td>-6.0</td><td>39</td><td>1.0</td><td>2000</td><td>-17.7</td><td>0.00</td><td>0</td><td>0</td><td>Winter</td><td>No Holiday</td><td>Yes</td><td>TRUE</td></tr>\n",
       "\t<tr><td>01</td><td>12</td><td>2017</td><td>107</td><td> 3</td><td>-6.2</td><td>40</td><td>0.9</td><td>2000</td><td>-17.6</td><td>0.00</td><td>0</td><td>0</td><td>Winter</td><td>No Holiday</td><td>Yes</td><td>TRUE</td></tr>\n",
       "\t<tr><td>01</td><td>12</td><td>2017</td><td> 78</td><td> 4</td><td>-6.0</td><td>36</td><td>2.3</td><td>2000</td><td>-18.6</td><td>0.00</td><td>0</td><td>0</td><td>Winter</td><td>No Holiday</td><td>Yes</td><td>TRUE</td></tr>\n",
       "\t<tr><td>01</td><td>12</td><td>2017</td><td>100</td><td> 5</td><td>-6.4</td><td>37</td><td>1.5</td><td>2000</td><td>-18.7</td><td>0.00</td><td>0</td><td>0</td><td>Winter</td><td>No Holiday</td><td>Yes</td><td>TRUE</td></tr>\n",
       "\t<tr><td>01</td><td>12</td><td>2017</td><td>181</td><td> 6</td><td>-6.6</td><td>35</td><td>1.3</td><td>2000</td><td>-19.5</td><td>0.00</td><td>0</td><td>0</td><td>Winter</td><td>No Holiday</td><td>Yes</td><td>TRUE</td></tr>\n",
       "\t<tr><td>01</td><td>12</td><td>2017</td><td>460</td><td> 7</td><td>-7.4</td><td>38</td><td>0.9</td><td>2000</td><td>-19.3</td><td>0.00</td><td>0</td><td>0</td><td>Winter</td><td>No Holiday</td><td>Yes</td><td>TRUE</td></tr>\n",
       "\t<tr><td>01</td><td>12</td><td>2017</td><td>930</td><td> 8</td><td>-7.6</td><td>37</td><td>1.1</td><td>2000</td><td>-19.8</td><td>0.01</td><td>0</td><td>0</td><td>Winter</td><td>No Holiday</td><td>Yes</td><td>TRUE</td></tr>\n",
       "\t<tr><td>01</td><td>12</td><td>2017</td><td>490</td><td> 9</td><td>-6.5</td><td>27</td><td>0.5</td><td>1928</td><td>-22.4</td><td>0.23</td><td>0</td><td>0</td><td>Winter</td><td>No Holiday</td><td>Yes</td><td>TRUE</td></tr>\n",
       "\t<tr><td>01</td><td>12</td><td>2017</td><td>339</td><td>10</td><td>-3.5</td><td>24</td><td>1.2</td><td>1996</td><td>-21.2</td><td>0.65</td><td>0</td><td>0</td><td>Winter</td><td>No Holiday</td><td>Yes</td><td>TRUE</td></tr>\n",
       "\t<tr><td>01</td><td>12</td><td>2017</td><td>360</td><td>11</td><td>-0.5</td><td>21</td><td>1.3</td><td>1936</td><td>-20.2</td><td>0.94</td><td>0</td><td>0</td><td>Winter</td><td>No Holiday</td><td>Yes</td><td>TRUE</td></tr>\n",
       "\t<tr><td>01</td><td>12</td><td>2017</td><td>449</td><td>12</td><td> 1.7</td><td>23</td><td>1.4</td><td>2000</td><td>-17.2</td><td>1.11</td><td>0</td><td>0</td><td>Winter</td><td>No Holiday</td><td>Yes</td><td>TRUE</td></tr>\n",
       "\t<tr><td>01</td><td>12</td><td>2017</td><td>451</td><td>13</td><td> 2.4</td><td>25</td><td>1.6</td><td>2000</td><td>-15.6</td><td>1.16</td><td>0</td><td>0</td><td>Winter</td><td>No Holiday</td><td>Yes</td><td>TRUE</td></tr>\n",
       "\t<tr><td>01</td><td>12</td><td>2017</td><td>447</td><td>14</td><td> 3.0</td><td>26</td><td>2.0</td><td>2000</td><td>-14.6</td><td>1.01</td><td>0</td><td>0</td><td>Winter</td><td>No Holiday</td><td>Yes</td><td>TRUE</td></tr>\n",
       "\t<tr><td>01</td><td>12</td><td>2017</td><td>463</td><td>15</td><td> 2.1</td><td>36</td><td>3.2</td><td>2000</td><td>-11.4</td><td>0.54</td><td>0</td><td>0</td><td>Winter</td><td>No Holiday</td><td>Yes</td><td>TRUE</td></tr>\n",
       "\t<tr><td>01</td><td>12</td><td>2017</td><td>484</td><td>16</td><td> 1.2</td><td>54</td><td>4.2</td><td> 793</td><td> -7.0</td><td>0.24</td><td>0</td><td>0</td><td>Winter</td><td>No Holiday</td><td>Yes</td><td>TRUE</td></tr>\n",
       "\t<tr><td>01</td><td>12</td><td>2017</td><td>555</td><td>17</td><td> 0.8</td><td>58</td><td>1.6</td><td>2000</td><td> -6.5</td><td>0.08</td><td>0</td><td>0</td><td>Winter</td><td>No Holiday</td><td>Yes</td><td>TRUE</td></tr>\n",
       "\t<tr><td>01</td><td>12</td><td>2017</td><td>862</td><td>18</td><td> 0.6</td><td>66</td><td>1.4</td><td>2000</td><td> -5.0</td><td>0.00</td><td>0</td><td>0</td><td>Winter</td><td>No Holiday</td><td>Yes</td><td>TRUE</td></tr>\n",
       "\t<tr><td>01</td><td>12</td><td>2017</td><td>600</td><td>19</td><td> 0.0</td><td>77</td><td>1.7</td><td>2000</td><td> -3.5</td><td>0.00</td><td>0</td><td>0</td><td>Winter</td><td>No Holiday</td><td>Yes</td><td>TRUE</td></tr>\n",
       "\t<tr><td>01</td><td>12</td><td>2017</td><td>426</td><td>20</td><td>-0.3</td><td>79</td><td>1.5</td><td>1913</td><td> -3.5</td><td>0.00</td><td>0</td><td>0</td><td>Winter</td><td>No Holiday</td><td>Yes</td><td>TRUE</td></tr>\n",
       "\t<tr><td>01</td><td>12</td><td>2017</td><td>405</td><td>21</td><td>-0.8</td><td>81</td><td>0.8</td><td>1687</td><td> -3.6</td><td>0.00</td><td>0</td><td>0</td><td>Winter</td><td>No Holiday</td><td>Yes</td><td>TRUE</td></tr>\n",
       "\t<tr><td>01</td><td>12</td><td>2017</td><td>398</td><td>22</td><td>-0.9</td><td>83</td><td>1.5</td><td>1380</td><td> -3.4</td><td>0.00</td><td>0</td><td>0</td><td>Winter</td><td>No Holiday</td><td>Yes</td><td>TRUE</td></tr>\n",
       "\t<tr><td>01</td><td>12</td><td>2017</td><td>323</td><td>23</td><td>-1.3</td><td>84</td><td>1.0</td><td>1265</td><td> -3.6</td><td>0.00</td><td>0</td><td>0</td><td>Winter</td><td>No Holiday</td><td>Yes</td><td>TRUE</td></tr>\n",
       "\t<tr><td>02</td><td>12</td><td>2017</td><td>328</td><td> 0</td><td>-1.8</td><td>87</td><td>1.1</td><td> 994</td><td> -3.6</td><td>0.00</td><td>0</td><td>0</td><td>Winter</td><td>No Holiday</td><td>Yes</td><td>TRUE</td></tr>\n",
       "\t<tr><td>02</td><td>12</td><td>2017</td><td>308</td><td> 1</td><td>-2.2</td><td>86</td><td>0.6</td><td> 990</td><td> -4.2</td><td>0.00</td><td>0</td><td>0</td><td>Winter</td><td>No Holiday</td><td>Yes</td><td>TRUE</td></tr>\n",
       "\t<tr><td>02</td><td>12</td><td>2017</td><td>262</td><td> 2</td><td>-2.9</td><td>86</td><td>1.5</td><td>1256</td><td> -4.9</td><td>0.00</td><td>0</td><td>0</td><td>Winter</td><td>No Holiday</td><td>Yes</td><td>TRUE</td></tr>\n",
       "\t<tr><td>02</td><td>12</td><td>2017</td><td>167</td><td> 3</td><td>-3.5</td><td>81</td><td>2.2</td><td>1221</td><td> -6.2</td><td>0.00</td><td>0</td><td>0</td><td>Winter</td><td>No Holiday</td><td>Yes</td><td>TRUE</td></tr>\n",
       "\t<tr><td>02</td><td>12</td><td>2017</td><td> 89</td><td> 4</td><td>-3.8</td><td>79</td><td>2.0</td><td>1167</td><td> -6.9</td><td>0.00</td><td>0</td><td>0</td><td>Winter</td><td>No Holiday</td><td>Yes</td><td>TRUE</td></tr>\n",
       "\t<tr><td>02</td><td>12</td><td>2017</td><td> 79</td><td> 5</td><td>-4.0</td><td>79</td><td>1.5</td><td>1202</td><td> -7.1</td><td>0.00</td><td>0</td><td>0</td><td>Winter</td><td>No Holiday</td><td>Yes</td><td>TRUE</td></tr>\n",
       "\t<tr><td>⋮</td><td>⋮</td><td>⋮</td><td>⋮</td><td>⋮</td><td>⋮</td><td>⋮</td><td>⋮</td><td>⋮</td><td>⋮</td><td>⋮</td><td>⋮</td><td>⋮</td><td>⋮</td><td>⋮</td><td>⋮</td><td>⋮</td></tr>\n",
       "\t<tr><td>29</td><td>11</td><td>2018</td><td>1577</td><td>18</td><td> 0.0</td><td>46</td><td>0.9</td><td>1566</td><td> -4.8</td><td>0.00</td><td>0</td><td>0</td><td>Autumn</td><td>No Holiday</td><td>Yes</td><td>TRUE</td></tr>\n",
       "\t<tr><td>29</td><td>11</td><td>2018</td><td>1026</td><td>19</td><td> 5.2</td><td>48</td><td>1.9</td><td>1590</td><td> -4.9</td><td>0.00</td><td>0</td><td>0</td><td>Autumn</td><td>No Holiday</td><td>Yes</td><td>TRUE</td></tr>\n",
       "\t<tr><td>29</td><td>11</td><td>2018</td><td> 818</td><td>20</td><td> 4.1</td><td>54</td><td>1.3</td><td>1434</td><td> -4.3</td><td>0.00</td><td>0</td><td>0</td><td>Autumn</td><td>No Holiday</td><td>Yes</td><td>TRUE</td></tr>\n",
       "\t<tr><td>29</td><td>11</td><td>2018</td><td> 792</td><td>21</td><td> 3.8</td><td>55</td><td>2.1</td><td>1231</td><td> -4.4</td><td>0.00</td><td>0</td><td>0</td><td>Autumn</td><td>No Holiday</td><td>Yes</td><td>TRUE</td></tr>\n",
       "\t<tr><td>29</td><td>11</td><td>2018</td><td> 726</td><td>22</td><td> 3.0</td><td>59</td><td>1.1</td><td>1218</td><td> -4.2</td><td>0.00</td><td>0</td><td>0</td><td>Autumn</td><td>No Holiday</td><td>Yes</td><td>TRUE</td></tr>\n",
       "\t<tr><td>29</td><td>11</td><td>2018</td><td> 559</td><td>23</td><td> 2.6</td><td>56</td><td>1.9</td><td>1394</td><td> -5.3</td><td>0.00</td><td>0</td><td>0</td><td>Autumn</td><td>No Holiday</td><td>Yes</td><td>TRUE</td></tr>\n",
       "\t<tr><td>30</td><td>11</td><td>2018</td><td> 474</td><td> 0</td><td> 1.8</td><td>62</td><td>1.6</td><td>1411</td><td> -4.7</td><td>0.00</td><td>0</td><td>0</td><td>Autumn</td><td>No Holiday</td><td>Yes</td><td>TRUE</td></tr>\n",
       "\t<tr><td>30</td><td>11</td><td>2018</td><td> 456</td><td> 1</td><td> 1.3</td><td>63</td><td>2.0</td><td>1379</td><td> -4.9</td><td>0.00</td><td>0</td><td>0</td><td>Autumn</td><td>No Holiday</td><td>Yes</td><td>TRUE</td></tr>\n",
       "\t<tr><td>30</td><td>11</td><td>2018</td><td> 300</td><td> 2</td><td> 0.6</td><td>66</td><td>0.5</td><td>1368</td><td> -5.0</td><td>0.00</td><td>0</td><td>0</td><td>Autumn</td><td>No Holiday</td><td>Yes</td><td>TRUE</td></tr>\n",
       "\t<tr><td>30</td><td>11</td><td>2018</td><td> 213</td><td> 3</td><td>-0.1</td><td>69</td><td>0.9</td><td>1338</td><td> -5.1</td><td>0.00</td><td>0</td><td>0</td><td>Autumn</td><td>No Holiday</td><td>Yes</td><td>TRUE</td></tr>\n",
       "\t<tr><td>30</td><td>11</td><td>2018</td><td> 116</td><td> 4</td><td>-0.5</td><td>71</td><td>0.4</td><td>1345</td><td> -5.1</td><td>0.00</td><td>0</td><td>0</td><td>Autumn</td><td>No Holiday</td><td>Yes</td><td>TRUE</td></tr>\n",
       "\t<tr><td>30</td><td>11</td><td>2018</td><td> 149</td><td> 5</td><td>-0.7</td><td>66</td><td>0.5</td><td>1336</td><td> -6.2</td><td>0.00</td><td>0</td><td>0</td><td>Autumn</td><td>No Holiday</td><td>Yes</td><td>TRUE</td></tr>\n",
       "\t<tr><td>30</td><td>11</td><td>2018</td><td> 293</td><td> 6</td><td>-0.8</td><td>68</td><td>0.8</td><td>1322</td><td> -5.9</td><td>0.00</td><td>0</td><td>0</td><td>Autumn</td><td>No Holiday</td><td>Yes</td><td>TRUE</td></tr>\n",
       "\t<tr><td>30</td><td>11</td><td>2018</td><td> 750</td><td> 7</td><td>-1.2</td><td>70</td><td>0.8</td><td>1351</td><td> -5.9</td><td>0.00</td><td>0</td><td>0</td><td>Autumn</td><td>No Holiday</td><td>Yes</td><td>TRUE</td></tr>\n",
       "\t<tr><td>30</td><td>11</td><td>2018</td><td>1527</td><td> 8</td><td>-1.5</td><td>68</td><td>1.1</td><td>1286</td><td> -6.6</td><td>0.02</td><td>0</td><td>0</td><td>Autumn</td><td>No Holiday</td><td>Yes</td><td>TRUE</td></tr>\n",
       "\t<tr><td>30</td><td>11</td><td>2018</td><td> 809</td><td> 9</td><td>-0.4</td><td>57</td><td>0.6</td><td>1270</td><td> -7.8</td><td>0.45</td><td>0</td><td>0</td><td>Autumn</td><td>No Holiday</td><td>Yes</td><td>TRUE</td></tr>\n",
       "\t<tr><td>30</td><td>11</td><td>2018</td><td> 554</td><td>10</td><td> 1.9</td><td>51</td><td>0.8</td><td>1029</td><td> -7.1</td><td>1.01</td><td>0</td><td>0</td><td>Autumn</td><td>No Holiday</td><td>Yes</td><td>TRUE</td></tr>\n",
       "\t<tr><td>30</td><td>11</td><td>2018</td><td> 642</td><td>11</td><td> 5.3</td><td>43</td><td>1.8</td><td>1177</td><td> -6.2</td><td>1.38</td><td>0</td><td>0</td><td>Autumn</td><td>No Holiday</td><td>Yes</td><td>TRUE</td></tr>\n",
       "\t<tr><td>30</td><td>11</td><td>2018</td><td> 720</td><td>12</td><td> 6.6</td><td>35</td><td>1.3</td><td>1409</td><td> -7.8</td><td>1.70</td><td>0</td><td>0</td><td>Autumn</td><td>No Holiday</td><td>Yes</td><td>TRUE</td></tr>\n",
       "\t<tr><td>30</td><td>11</td><td>2018</td><td> 740</td><td>13</td><td> 7.1</td><td>24</td><td>2.8</td><td>1838</td><td>-12.1</td><td>1.83</td><td>0</td><td>0</td><td>Autumn</td><td>No Holiday</td><td>Yes</td><td>TRUE</td></tr>\n",
       "\t<tr><td>30</td><td>11</td><td>2018</td><td> 761</td><td>14</td><td> 7.8</td><td>20</td><td>2.2</td><td>2000</td><td>-13.8</td><td>1.67</td><td>0</td><td>0</td><td>Autumn</td><td>No Holiday</td><td>Yes</td><td>TRUE</td></tr>\n",
       "\t<tr><td>30</td><td>11</td><td>2018</td><td> 768</td><td>15</td><td> 7.0</td><td>20</td><td>3.3</td><td>1994</td><td>-14.4</td><td>1.21</td><td>0</td><td>0</td><td>Autumn</td><td>No Holiday</td><td>Yes</td><td>TRUE</td></tr>\n",
       "\t<tr><td>30</td><td>11</td><td>2018</td><td> 837</td><td>16</td><td> 7.2</td><td>23</td><td>1.5</td><td>1945</td><td>-12.6</td><td>0.72</td><td>0</td><td>0</td><td>Autumn</td><td>No Holiday</td><td>Yes</td><td>TRUE</td></tr>\n",
       "\t<tr><td>30</td><td>11</td><td>2018</td><td>1047</td><td>17</td><td> 6.0</td><td>29</td><td>2.1</td><td>1877</td><td>-10.7</td><td>0.23</td><td>0</td><td>0</td><td>Autumn</td><td>No Holiday</td><td>Yes</td><td>TRUE</td></tr>\n",
       "\t<tr><td>30</td><td>11</td><td>2018</td><td>1384</td><td>18</td><td> 4.7</td><td>34</td><td>1.9</td><td>1661</td><td> -9.8</td><td>0.00</td><td>0</td><td>0</td><td>Autumn</td><td>No Holiday</td><td>Yes</td><td>TRUE</td></tr>\n",
       "\t<tr><td>30</td><td>11</td><td>2018</td><td>1003</td><td>19</td><td> 4.2</td><td>34</td><td>2.6</td><td>1894</td><td>-10.3</td><td>0.00</td><td>0</td><td>0</td><td>Autumn</td><td>No Holiday</td><td>Yes</td><td>TRUE</td></tr>\n",
       "\t<tr><td>30</td><td>11</td><td>2018</td><td> 764</td><td>20</td><td> 3.4</td><td>37</td><td>2.3</td><td>2000</td><td> -9.9</td><td>0.00</td><td>0</td><td>0</td><td>Autumn</td><td>No Holiday</td><td>Yes</td><td>TRUE</td></tr>\n",
       "\t<tr><td>30</td><td>11</td><td>2018</td><td> 694</td><td>21</td><td> 2.6</td><td>39</td><td>0.3</td><td>1968</td><td> -9.9</td><td>0.00</td><td>0</td><td>0</td><td>Autumn</td><td>No Holiday</td><td>Yes</td><td>TRUE</td></tr>\n",
       "\t<tr><td>30</td><td>11</td><td>2018</td><td> 712</td><td>22</td><td> 2.1</td><td>41</td><td>1.0</td><td>1859</td><td> -9.8</td><td>0.00</td><td>0</td><td>0</td><td>Autumn</td><td>No Holiday</td><td>Yes</td><td>TRUE</td></tr>\n",
       "\t<tr><td>30</td><td>11</td><td>2018</td><td> 584</td><td>23</td><td> 1.9</td><td>43</td><td>1.3</td><td>1909</td><td> -9.3</td><td>0.00</td><td>0</td><td>0</td><td>Autumn</td><td>No Holiday</td><td>Yes</td><td>TRUE</td></tr>\n",
       "</tbody>\n",
       "</table>\n"
      ],
      "text/latex": [
       "A data.frame: 8465 × 17\n",
       "\\begin{tabular}{lllllllllllllllll}\n",
       " day & month & year & RENTED\\_BIKE\\_COUNT & HOUR & TEMPERATURE & HUMIDITY & WIND\\_SPEED & VISIBILITY & DEW\\_POINT\\_TEMPERATURE & SOLAR\\_RADIATION & RAINFALL & SNOWFALL & SEASONS & HOLIDAY & FUNCTIONING\\_DAY & seoul\\_bike\\_sharing\\$HOUR == ...\\\\\n",
       " <chr> & <chr> & <chr> & <int> & <int> & <dbl> & <int> & <dbl> & <int> & <dbl> & <dbl> & <dbl> & <dbl> & <fct> & <fct> & <fct> & <lgl>\\\\\n",
       "\\hline\n",
       "\t 01 & 12 & 2017 & 254 &  0 & -5.2 & 37 & 2.2 & 2000 & -17.6 & 0.00 & 0 & 0 & Winter & No Holiday & Yes & TRUE\\\\\n",
       "\t 01 & 12 & 2017 & 204 &  1 & -5.5 & 38 & 0.8 & 2000 & -17.6 & 0.00 & 0 & 0 & Winter & No Holiday & Yes & TRUE\\\\\n",
       "\t 01 & 12 & 2017 & 173 &  2 & -6.0 & 39 & 1.0 & 2000 & -17.7 & 0.00 & 0 & 0 & Winter & No Holiday & Yes & TRUE\\\\\n",
       "\t 01 & 12 & 2017 & 107 &  3 & -6.2 & 40 & 0.9 & 2000 & -17.6 & 0.00 & 0 & 0 & Winter & No Holiday & Yes & TRUE\\\\\n",
       "\t 01 & 12 & 2017 &  78 &  4 & -6.0 & 36 & 2.3 & 2000 & -18.6 & 0.00 & 0 & 0 & Winter & No Holiday & Yes & TRUE\\\\\n",
       "\t 01 & 12 & 2017 & 100 &  5 & -6.4 & 37 & 1.5 & 2000 & -18.7 & 0.00 & 0 & 0 & Winter & No Holiday & Yes & TRUE\\\\\n",
       "\t 01 & 12 & 2017 & 181 &  6 & -6.6 & 35 & 1.3 & 2000 & -19.5 & 0.00 & 0 & 0 & Winter & No Holiday & Yes & TRUE\\\\\n",
       "\t 01 & 12 & 2017 & 460 &  7 & -7.4 & 38 & 0.9 & 2000 & -19.3 & 0.00 & 0 & 0 & Winter & No Holiday & Yes & TRUE\\\\\n",
       "\t 01 & 12 & 2017 & 930 &  8 & -7.6 & 37 & 1.1 & 2000 & -19.8 & 0.01 & 0 & 0 & Winter & No Holiday & Yes & TRUE\\\\\n",
       "\t 01 & 12 & 2017 & 490 &  9 & -6.5 & 27 & 0.5 & 1928 & -22.4 & 0.23 & 0 & 0 & Winter & No Holiday & Yes & TRUE\\\\\n",
       "\t 01 & 12 & 2017 & 339 & 10 & -3.5 & 24 & 1.2 & 1996 & -21.2 & 0.65 & 0 & 0 & Winter & No Holiday & Yes & TRUE\\\\\n",
       "\t 01 & 12 & 2017 & 360 & 11 & -0.5 & 21 & 1.3 & 1936 & -20.2 & 0.94 & 0 & 0 & Winter & No Holiday & Yes & TRUE\\\\\n",
       "\t 01 & 12 & 2017 & 449 & 12 &  1.7 & 23 & 1.4 & 2000 & -17.2 & 1.11 & 0 & 0 & Winter & No Holiday & Yes & TRUE\\\\\n",
       "\t 01 & 12 & 2017 & 451 & 13 &  2.4 & 25 & 1.6 & 2000 & -15.6 & 1.16 & 0 & 0 & Winter & No Holiday & Yes & TRUE\\\\\n",
       "\t 01 & 12 & 2017 & 447 & 14 &  3.0 & 26 & 2.0 & 2000 & -14.6 & 1.01 & 0 & 0 & Winter & No Holiday & Yes & TRUE\\\\\n",
       "\t 01 & 12 & 2017 & 463 & 15 &  2.1 & 36 & 3.2 & 2000 & -11.4 & 0.54 & 0 & 0 & Winter & No Holiday & Yes & TRUE\\\\\n",
       "\t 01 & 12 & 2017 & 484 & 16 &  1.2 & 54 & 4.2 &  793 &  -7.0 & 0.24 & 0 & 0 & Winter & No Holiday & Yes & TRUE\\\\\n",
       "\t 01 & 12 & 2017 & 555 & 17 &  0.8 & 58 & 1.6 & 2000 &  -6.5 & 0.08 & 0 & 0 & Winter & No Holiday & Yes & TRUE\\\\\n",
       "\t 01 & 12 & 2017 & 862 & 18 &  0.6 & 66 & 1.4 & 2000 &  -5.0 & 0.00 & 0 & 0 & Winter & No Holiday & Yes & TRUE\\\\\n",
       "\t 01 & 12 & 2017 & 600 & 19 &  0.0 & 77 & 1.7 & 2000 &  -3.5 & 0.00 & 0 & 0 & Winter & No Holiday & Yes & TRUE\\\\\n",
       "\t 01 & 12 & 2017 & 426 & 20 & -0.3 & 79 & 1.5 & 1913 &  -3.5 & 0.00 & 0 & 0 & Winter & No Holiday & Yes & TRUE\\\\\n",
       "\t 01 & 12 & 2017 & 405 & 21 & -0.8 & 81 & 0.8 & 1687 &  -3.6 & 0.00 & 0 & 0 & Winter & No Holiday & Yes & TRUE\\\\\n",
       "\t 01 & 12 & 2017 & 398 & 22 & -0.9 & 83 & 1.5 & 1380 &  -3.4 & 0.00 & 0 & 0 & Winter & No Holiday & Yes & TRUE\\\\\n",
       "\t 01 & 12 & 2017 & 323 & 23 & -1.3 & 84 & 1.0 & 1265 &  -3.6 & 0.00 & 0 & 0 & Winter & No Holiday & Yes & TRUE\\\\\n",
       "\t 02 & 12 & 2017 & 328 &  0 & -1.8 & 87 & 1.1 &  994 &  -3.6 & 0.00 & 0 & 0 & Winter & No Holiday & Yes & TRUE\\\\\n",
       "\t 02 & 12 & 2017 & 308 &  1 & -2.2 & 86 & 0.6 &  990 &  -4.2 & 0.00 & 0 & 0 & Winter & No Holiday & Yes & TRUE\\\\\n",
       "\t 02 & 12 & 2017 & 262 &  2 & -2.9 & 86 & 1.5 & 1256 &  -4.9 & 0.00 & 0 & 0 & Winter & No Holiday & Yes & TRUE\\\\\n",
       "\t 02 & 12 & 2017 & 167 &  3 & -3.5 & 81 & 2.2 & 1221 &  -6.2 & 0.00 & 0 & 0 & Winter & No Holiday & Yes & TRUE\\\\\n",
       "\t 02 & 12 & 2017 &  89 &  4 & -3.8 & 79 & 2.0 & 1167 &  -6.9 & 0.00 & 0 & 0 & Winter & No Holiday & Yes & TRUE\\\\\n",
       "\t 02 & 12 & 2017 &  79 &  5 & -4.0 & 79 & 1.5 & 1202 &  -7.1 & 0.00 & 0 & 0 & Winter & No Holiday & Yes & TRUE\\\\\n",
       "\t ⋮ & ⋮ & ⋮ & ⋮ & ⋮ & ⋮ & ⋮ & ⋮ & ⋮ & ⋮ & ⋮ & ⋮ & ⋮ & ⋮ & ⋮ & ⋮ & ⋮\\\\\n",
       "\t 29 & 11 & 2018 & 1577 & 18 &  0.0 & 46 & 0.9 & 1566 &  -4.8 & 0.00 & 0 & 0 & Autumn & No Holiday & Yes & TRUE\\\\\n",
       "\t 29 & 11 & 2018 & 1026 & 19 &  5.2 & 48 & 1.9 & 1590 &  -4.9 & 0.00 & 0 & 0 & Autumn & No Holiday & Yes & TRUE\\\\\n",
       "\t 29 & 11 & 2018 &  818 & 20 &  4.1 & 54 & 1.3 & 1434 &  -4.3 & 0.00 & 0 & 0 & Autumn & No Holiday & Yes & TRUE\\\\\n",
       "\t 29 & 11 & 2018 &  792 & 21 &  3.8 & 55 & 2.1 & 1231 &  -4.4 & 0.00 & 0 & 0 & Autumn & No Holiday & Yes & TRUE\\\\\n",
       "\t 29 & 11 & 2018 &  726 & 22 &  3.0 & 59 & 1.1 & 1218 &  -4.2 & 0.00 & 0 & 0 & Autumn & No Holiday & Yes & TRUE\\\\\n",
       "\t 29 & 11 & 2018 &  559 & 23 &  2.6 & 56 & 1.9 & 1394 &  -5.3 & 0.00 & 0 & 0 & Autumn & No Holiday & Yes & TRUE\\\\\n",
       "\t 30 & 11 & 2018 &  474 &  0 &  1.8 & 62 & 1.6 & 1411 &  -4.7 & 0.00 & 0 & 0 & Autumn & No Holiday & Yes & TRUE\\\\\n",
       "\t 30 & 11 & 2018 &  456 &  1 &  1.3 & 63 & 2.0 & 1379 &  -4.9 & 0.00 & 0 & 0 & Autumn & No Holiday & Yes & TRUE\\\\\n",
       "\t 30 & 11 & 2018 &  300 &  2 &  0.6 & 66 & 0.5 & 1368 &  -5.0 & 0.00 & 0 & 0 & Autumn & No Holiday & Yes & TRUE\\\\\n",
       "\t 30 & 11 & 2018 &  213 &  3 & -0.1 & 69 & 0.9 & 1338 &  -5.1 & 0.00 & 0 & 0 & Autumn & No Holiday & Yes & TRUE\\\\\n",
       "\t 30 & 11 & 2018 &  116 &  4 & -0.5 & 71 & 0.4 & 1345 &  -5.1 & 0.00 & 0 & 0 & Autumn & No Holiday & Yes & TRUE\\\\\n",
       "\t 30 & 11 & 2018 &  149 &  5 & -0.7 & 66 & 0.5 & 1336 &  -6.2 & 0.00 & 0 & 0 & Autumn & No Holiday & Yes & TRUE\\\\\n",
       "\t 30 & 11 & 2018 &  293 &  6 & -0.8 & 68 & 0.8 & 1322 &  -5.9 & 0.00 & 0 & 0 & Autumn & No Holiday & Yes & TRUE\\\\\n",
       "\t 30 & 11 & 2018 &  750 &  7 & -1.2 & 70 & 0.8 & 1351 &  -5.9 & 0.00 & 0 & 0 & Autumn & No Holiday & Yes & TRUE\\\\\n",
       "\t 30 & 11 & 2018 & 1527 &  8 & -1.5 & 68 & 1.1 & 1286 &  -6.6 & 0.02 & 0 & 0 & Autumn & No Holiday & Yes & TRUE\\\\\n",
       "\t 30 & 11 & 2018 &  809 &  9 & -0.4 & 57 & 0.6 & 1270 &  -7.8 & 0.45 & 0 & 0 & Autumn & No Holiday & Yes & TRUE\\\\\n",
       "\t 30 & 11 & 2018 &  554 & 10 &  1.9 & 51 & 0.8 & 1029 &  -7.1 & 1.01 & 0 & 0 & Autumn & No Holiday & Yes & TRUE\\\\\n",
       "\t 30 & 11 & 2018 &  642 & 11 &  5.3 & 43 & 1.8 & 1177 &  -6.2 & 1.38 & 0 & 0 & Autumn & No Holiday & Yes & TRUE\\\\\n",
       "\t 30 & 11 & 2018 &  720 & 12 &  6.6 & 35 & 1.3 & 1409 &  -7.8 & 1.70 & 0 & 0 & Autumn & No Holiday & Yes & TRUE\\\\\n",
       "\t 30 & 11 & 2018 &  740 & 13 &  7.1 & 24 & 2.8 & 1838 & -12.1 & 1.83 & 0 & 0 & Autumn & No Holiday & Yes & TRUE\\\\\n",
       "\t 30 & 11 & 2018 &  761 & 14 &  7.8 & 20 & 2.2 & 2000 & -13.8 & 1.67 & 0 & 0 & Autumn & No Holiday & Yes & TRUE\\\\\n",
       "\t 30 & 11 & 2018 &  768 & 15 &  7.0 & 20 & 3.3 & 1994 & -14.4 & 1.21 & 0 & 0 & Autumn & No Holiday & Yes & TRUE\\\\\n",
       "\t 30 & 11 & 2018 &  837 & 16 &  7.2 & 23 & 1.5 & 1945 & -12.6 & 0.72 & 0 & 0 & Autumn & No Holiday & Yes & TRUE\\\\\n",
       "\t 30 & 11 & 2018 & 1047 & 17 &  6.0 & 29 & 2.1 & 1877 & -10.7 & 0.23 & 0 & 0 & Autumn & No Holiday & Yes & TRUE\\\\\n",
       "\t 30 & 11 & 2018 & 1384 & 18 &  4.7 & 34 & 1.9 & 1661 &  -9.8 & 0.00 & 0 & 0 & Autumn & No Holiday & Yes & TRUE\\\\\n",
       "\t 30 & 11 & 2018 & 1003 & 19 &  4.2 & 34 & 2.6 & 1894 & -10.3 & 0.00 & 0 & 0 & Autumn & No Holiday & Yes & TRUE\\\\\n",
       "\t 30 & 11 & 2018 &  764 & 20 &  3.4 & 37 & 2.3 & 2000 &  -9.9 & 0.00 & 0 & 0 & Autumn & No Holiday & Yes & TRUE\\\\\n",
       "\t 30 & 11 & 2018 &  694 & 21 &  2.6 & 39 & 0.3 & 1968 &  -9.9 & 0.00 & 0 & 0 & Autumn & No Holiday & Yes & TRUE\\\\\n",
       "\t 30 & 11 & 2018 &  712 & 22 &  2.1 & 41 & 1.0 & 1859 &  -9.8 & 0.00 & 0 & 0 & Autumn & No Holiday & Yes & TRUE\\\\\n",
       "\t 30 & 11 & 2018 &  584 & 23 &  1.9 & 43 & 1.3 & 1909 &  -9.3 & 0.00 & 0 & 0 & Autumn & No Holiday & Yes & TRUE\\\\\n",
       "\\end{tabular}\n"
      ],
      "text/markdown": [
       "\n",
       "A data.frame: 8465 × 17\n",
       "\n",
       "| day &lt;chr&gt; | month &lt;chr&gt; | year &lt;chr&gt; | RENTED_BIKE_COUNT &lt;int&gt; | HOUR &lt;int&gt; | TEMPERATURE &lt;dbl&gt; | HUMIDITY &lt;int&gt; | WIND_SPEED &lt;dbl&gt; | VISIBILITY &lt;int&gt; | DEW_POINT_TEMPERATURE &lt;dbl&gt; | SOLAR_RADIATION &lt;dbl&gt; | RAINFALL &lt;dbl&gt; | SNOWFALL &lt;dbl&gt; | SEASONS &lt;fct&gt; | HOLIDAY &lt;fct&gt; | FUNCTIONING_DAY &lt;fct&gt; | seoul_bike_sharing$HOUR == ... &lt;lgl&gt; |\n",
       "|---|---|---|---|---|---|---|---|---|---|---|---|---|---|---|---|---|\n",
       "| 01 | 12 | 2017 | 254 |  0 | -5.2 | 37 | 2.2 | 2000 | -17.6 | 0.00 | 0 | 0 | Winter | No Holiday | Yes | TRUE |\n",
       "| 01 | 12 | 2017 | 204 |  1 | -5.5 | 38 | 0.8 | 2000 | -17.6 | 0.00 | 0 | 0 | Winter | No Holiday | Yes | TRUE |\n",
       "| 01 | 12 | 2017 | 173 |  2 | -6.0 | 39 | 1.0 | 2000 | -17.7 | 0.00 | 0 | 0 | Winter | No Holiday | Yes | TRUE |\n",
       "| 01 | 12 | 2017 | 107 |  3 | -6.2 | 40 | 0.9 | 2000 | -17.6 | 0.00 | 0 | 0 | Winter | No Holiday | Yes | TRUE |\n",
       "| 01 | 12 | 2017 |  78 |  4 | -6.0 | 36 | 2.3 | 2000 | -18.6 | 0.00 | 0 | 0 | Winter | No Holiday | Yes | TRUE |\n",
       "| 01 | 12 | 2017 | 100 |  5 | -6.4 | 37 | 1.5 | 2000 | -18.7 | 0.00 | 0 | 0 | Winter | No Holiday | Yes | TRUE |\n",
       "| 01 | 12 | 2017 | 181 |  6 | -6.6 | 35 | 1.3 | 2000 | -19.5 | 0.00 | 0 | 0 | Winter | No Holiday | Yes | TRUE |\n",
       "| 01 | 12 | 2017 | 460 |  7 | -7.4 | 38 | 0.9 | 2000 | -19.3 | 0.00 | 0 | 0 | Winter | No Holiday | Yes | TRUE |\n",
       "| 01 | 12 | 2017 | 930 |  8 | -7.6 | 37 | 1.1 | 2000 | -19.8 | 0.01 | 0 | 0 | Winter | No Holiday | Yes | TRUE |\n",
       "| 01 | 12 | 2017 | 490 |  9 | -6.5 | 27 | 0.5 | 1928 | -22.4 | 0.23 | 0 | 0 | Winter | No Holiday | Yes | TRUE |\n",
       "| 01 | 12 | 2017 | 339 | 10 | -3.5 | 24 | 1.2 | 1996 | -21.2 | 0.65 | 0 | 0 | Winter | No Holiday | Yes | TRUE |\n",
       "| 01 | 12 | 2017 | 360 | 11 | -0.5 | 21 | 1.3 | 1936 | -20.2 | 0.94 | 0 | 0 | Winter | No Holiday | Yes | TRUE |\n",
       "| 01 | 12 | 2017 | 449 | 12 |  1.7 | 23 | 1.4 | 2000 | -17.2 | 1.11 | 0 | 0 | Winter | No Holiday | Yes | TRUE |\n",
       "| 01 | 12 | 2017 | 451 | 13 |  2.4 | 25 | 1.6 | 2000 | -15.6 | 1.16 | 0 | 0 | Winter | No Holiday | Yes | TRUE |\n",
       "| 01 | 12 | 2017 | 447 | 14 |  3.0 | 26 | 2.0 | 2000 | -14.6 | 1.01 | 0 | 0 | Winter | No Holiday | Yes | TRUE |\n",
       "| 01 | 12 | 2017 | 463 | 15 |  2.1 | 36 | 3.2 | 2000 | -11.4 | 0.54 | 0 | 0 | Winter | No Holiday | Yes | TRUE |\n",
       "| 01 | 12 | 2017 | 484 | 16 |  1.2 | 54 | 4.2 |  793 |  -7.0 | 0.24 | 0 | 0 | Winter | No Holiday | Yes | TRUE |\n",
       "| 01 | 12 | 2017 | 555 | 17 |  0.8 | 58 | 1.6 | 2000 |  -6.5 | 0.08 | 0 | 0 | Winter | No Holiday | Yes | TRUE |\n",
       "| 01 | 12 | 2017 | 862 | 18 |  0.6 | 66 | 1.4 | 2000 |  -5.0 | 0.00 | 0 | 0 | Winter | No Holiday | Yes | TRUE |\n",
       "| 01 | 12 | 2017 | 600 | 19 |  0.0 | 77 | 1.7 | 2000 |  -3.5 | 0.00 | 0 | 0 | Winter | No Holiday | Yes | TRUE |\n",
       "| 01 | 12 | 2017 | 426 | 20 | -0.3 | 79 | 1.5 | 1913 |  -3.5 | 0.00 | 0 | 0 | Winter | No Holiday | Yes | TRUE |\n",
       "| 01 | 12 | 2017 | 405 | 21 | -0.8 | 81 | 0.8 | 1687 |  -3.6 | 0.00 | 0 | 0 | Winter | No Holiday | Yes | TRUE |\n",
       "| 01 | 12 | 2017 | 398 | 22 | -0.9 | 83 | 1.5 | 1380 |  -3.4 | 0.00 | 0 | 0 | Winter | No Holiday | Yes | TRUE |\n",
       "| 01 | 12 | 2017 | 323 | 23 | -1.3 | 84 | 1.0 | 1265 |  -3.6 | 0.00 | 0 | 0 | Winter | No Holiday | Yes | TRUE |\n",
       "| 02 | 12 | 2017 | 328 |  0 | -1.8 | 87 | 1.1 |  994 |  -3.6 | 0.00 | 0 | 0 | Winter | No Holiday | Yes | TRUE |\n",
       "| 02 | 12 | 2017 | 308 |  1 | -2.2 | 86 | 0.6 |  990 |  -4.2 | 0.00 | 0 | 0 | Winter | No Holiday | Yes | TRUE |\n",
       "| 02 | 12 | 2017 | 262 |  2 | -2.9 | 86 | 1.5 | 1256 |  -4.9 | 0.00 | 0 | 0 | Winter | No Holiday | Yes | TRUE |\n",
       "| 02 | 12 | 2017 | 167 |  3 | -3.5 | 81 | 2.2 | 1221 |  -6.2 | 0.00 | 0 | 0 | Winter | No Holiday | Yes | TRUE |\n",
       "| 02 | 12 | 2017 |  89 |  4 | -3.8 | 79 | 2.0 | 1167 |  -6.9 | 0.00 | 0 | 0 | Winter | No Holiday | Yes | TRUE |\n",
       "| 02 | 12 | 2017 |  79 |  5 | -4.0 | 79 | 1.5 | 1202 |  -7.1 | 0.00 | 0 | 0 | Winter | No Holiday | Yes | TRUE |\n",
       "| ⋮ | ⋮ | ⋮ | ⋮ | ⋮ | ⋮ | ⋮ | ⋮ | ⋮ | ⋮ | ⋮ | ⋮ | ⋮ | ⋮ | ⋮ | ⋮ | ⋮ |\n",
       "| 29 | 11 | 2018 | 1577 | 18 |  0.0 | 46 | 0.9 | 1566 |  -4.8 | 0.00 | 0 | 0 | Autumn | No Holiday | Yes | TRUE |\n",
       "| 29 | 11 | 2018 | 1026 | 19 |  5.2 | 48 | 1.9 | 1590 |  -4.9 | 0.00 | 0 | 0 | Autumn | No Holiday | Yes | TRUE |\n",
       "| 29 | 11 | 2018 |  818 | 20 |  4.1 | 54 | 1.3 | 1434 |  -4.3 | 0.00 | 0 | 0 | Autumn | No Holiday | Yes | TRUE |\n",
       "| 29 | 11 | 2018 |  792 | 21 |  3.8 | 55 | 2.1 | 1231 |  -4.4 | 0.00 | 0 | 0 | Autumn | No Holiday | Yes | TRUE |\n",
       "| 29 | 11 | 2018 |  726 | 22 |  3.0 | 59 | 1.1 | 1218 |  -4.2 | 0.00 | 0 | 0 | Autumn | No Holiday | Yes | TRUE |\n",
       "| 29 | 11 | 2018 |  559 | 23 |  2.6 | 56 | 1.9 | 1394 |  -5.3 | 0.00 | 0 | 0 | Autumn | No Holiday | Yes | TRUE |\n",
       "| 30 | 11 | 2018 |  474 |  0 |  1.8 | 62 | 1.6 | 1411 |  -4.7 | 0.00 | 0 | 0 | Autumn | No Holiday | Yes | TRUE |\n",
       "| 30 | 11 | 2018 |  456 |  1 |  1.3 | 63 | 2.0 | 1379 |  -4.9 | 0.00 | 0 | 0 | Autumn | No Holiday | Yes | TRUE |\n",
       "| 30 | 11 | 2018 |  300 |  2 |  0.6 | 66 | 0.5 | 1368 |  -5.0 | 0.00 | 0 | 0 | Autumn | No Holiday | Yes | TRUE |\n",
       "| 30 | 11 | 2018 |  213 |  3 | -0.1 | 69 | 0.9 | 1338 |  -5.1 | 0.00 | 0 | 0 | Autumn | No Holiday | Yes | TRUE |\n",
       "| 30 | 11 | 2018 |  116 |  4 | -0.5 | 71 | 0.4 | 1345 |  -5.1 | 0.00 | 0 | 0 | Autumn | No Holiday | Yes | TRUE |\n",
       "| 30 | 11 | 2018 |  149 |  5 | -0.7 | 66 | 0.5 | 1336 |  -6.2 | 0.00 | 0 | 0 | Autumn | No Holiday | Yes | TRUE |\n",
       "| 30 | 11 | 2018 |  293 |  6 | -0.8 | 68 | 0.8 | 1322 |  -5.9 | 0.00 | 0 | 0 | Autumn | No Holiday | Yes | TRUE |\n",
       "| 30 | 11 | 2018 |  750 |  7 | -1.2 | 70 | 0.8 | 1351 |  -5.9 | 0.00 | 0 | 0 | Autumn | No Holiday | Yes | TRUE |\n",
       "| 30 | 11 | 2018 | 1527 |  8 | -1.5 | 68 | 1.1 | 1286 |  -6.6 | 0.02 | 0 | 0 | Autumn | No Holiday | Yes | TRUE |\n",
       "| 30 | 11 | 2018 |  809 |  9 | -0.4 | 57 | 0.6 | 1270 |  -7.8 | 0.45 | 0 | 0 | Autumn | No Holiday | Yes | TRUE |\n",
       "| 30 | 11 | 2018 |  554 | 10 |  1.9 | 51 | 0.8 | 1029 |  -7.1 | 1.01 | 0 | 0 | Autumn | No Holiday | Yes | TRUE |\n",
       "| 30 | 11 | 2018 |  642 | 11 |  5.3 | 43 | 1.8 | 1177 |  -6.2 | 1.38 | 0 | 0 | Autumn | No Holiday | Yes | TRUE |\n",
       "| 30 | 11 | 2018 |  720 | 12 |  6.6 | 35 | 1.3 | 1409 |  -7.8 | 1.70 | 0 | 0 | Autumn | No Holiday | Yes | TRUE |\n",
       "| 30 | 11 | 2018 |  740 | 13 |  7.1 | 24 | 2.8 | 1838 | -12.1 | 1.83 | 0 | 0 | Autumn | No Holiday | Yes | TRUE |\n",
       "| 30 | 11 | 2018 |  761 | 14 |  7.8 | 20 | 2.2 | 2000 | -13.8 | 1.67 | 0 | 0 | Autumn | No Holiday | Yes | TRUE |\n",
       "| 30 | 11 | 2018 |  768 | 15 |  7.0 | 20 | 3.3 | 1994 | -14.4 | 1.21 | 0 | 0 | Autumn | No Holiday | Yes | TRUE |\n",
       "| 30 | 11 | 2018 |  837 | 16 |  7.2 | 23 | 1.5 | 1945 | -12.6 | 0.72 | 0 | 0 | Autumn | No Holiday | Yes | TRUE |\n",
       "| 30 | 11 | 2018 | 1047 | 17 |  6.0 | 29 | 2.1 | 1877 | -10.7 | 0.23 | 0 | 0 | Autumn | No Holiday | Yes | TRUE |\n",
       "| 30 | 11 | 2018 | 1384 | 18 |  4.7 | 34 | 1.9 | 1661 |  -9.8 | 0.00 | 0 | 0 | Autumn | No Holiday | Yes | TRUE |\n",
       "| 30 | 11 | 2018 | 1003 | 19 |  4.2 | 34 | 2.6 | 1894 | -10.3 | 0.00 | 0 | 0 | Autumn | No Holiday | Yes | TRUE |\n",
       "| 30 | 11 | 2018 |  764 | 20 |  3.4 | 37 | 2.3 | 2000 |  -9.9 | 0.00 | 0 | 0 | Autumn | No Holiday | Yes | TRUE |\n",
       "| 30 | 11 | 2018 |  694 | 21 |  2.6 | 39 | 0.3 | 1968 |  -9.9 | 0.00 | 0 | 0 | Autumn | No Holiday | Yes | TRUE |\n",
       "| 30 | 11 | 2018 |  712 | 22 |  2.1 | 41 | 1.0 | 1859 |  -9.8 | 0.00 | 0 | 0 | Autumn | No Holiday | Yes | TRUE |\n",
       "| 30 | 11 | 2018 |  584 | 23 |  1.9 | 43 | 1.3 | 1909 |  -9.3 | 0.00 | 0 | 0 | Autumn | No Holiday | Yes | TRUE |\n",
       "\n"
      ],
      "text/plain": [
       "     day month year RENTED_BIKE_COUNT HOUR TEMPERATURE HUMIDITY WIND_SPEED\n",
       "1    01  12    2017 254                0   -5.2        37       2.2       \n",
       "2    01  12    2017 204                1   -5.5        38       0.8       \n",
       "3    01  12    2017 173                2   -6.0        39       1.0       \n",
       "4    01  12    2017 107                3   -6.2        40       0.9       \n",
       "5    01  12    2017  78                4   -6.0        36       2.3       \n",
       "6    01  12    2017 100                5   -6.4        37       1.5       \n",
       "7    01  12    2017 181                6   -6.6        35       1.3       \n",
       "8    01  12    2017 460                7   -7.4        38       0.9       \n",
       "9    01  12    2017 930                8   -7.6        37       1.1       \n",
       "10   01  12    2017 490                9   -6.5        27       0.5       \n",
       "11   01  12    2017 339               10   -3.5        24       1.2       \n",
       "12   01  12    2017 360               11   -0.5        21       1.3       \n",
       "13   01  12    2017 449               12    1.7        23       1.4       \n",
       "14   01  12    2017 451               13    2.4        25       1.6       \n",
       "15   01  12    2017 447               14    3.0        26       2.0       \n",
       "16   01  12    2017 463               15    2.1        36       3.2       \n",
       "17   01  12    2017 484               16    1.2        54       4.2       \n",
       "18   01  12    2017 555               17    0.8        58       1.6       \n",
       "19   01  12    2017 862               18    0.6        66       1.4       \n",
       "20   01  12    2017 600               19    0.0        77       1.7       \n",
       "21   01  12    2017 426               20   -0.3        79       1.5       \n",
       "22   01  12    2017 405               21   -0.8        81       0.8       \n",
       "23   01  12    2017 398               22   -0.9        83       1.5       \n",
       "24   01  12    2017 323               23   -1.3        84       1.0       \n",
       "25   02  12    2017 328                0   -1.8        87       1.1       \n",
       "26   02  12    2017 308                1   -2.2        86       0.6       \n",
       "27   02  12    2017 262                2   -2.9        86       1.5       \n",
       "28   02  12    2017 167                3   -3.5        81       2.2       \n",
       "29   02  12    2017  89                4   -3.8        79       2.0       \n",
       "30   02  12    2017  79                5   -4.0        79       1.5       \n",
       "⋮    ⋮   ⋮     ⋮    ⋮                 ⋮    ⋮           ⋮        ⋮         \n",
       "8436 29  11    2018 1577              18    0.0        46       0.9       \n",
       "8437 29  11    2018 1026              19    5.2        48       1.9       \n",
       "8438 29  11    2018  818              20    4.1        54       1.3       \n",
       "8439 29  11    2018  792              21    3.8        55       2.1       \n",
       "8440 29  11    2018  726              22    3.0        59       1.1       \n",
       "8441 29  11    2018  559              23    2.6        56       1.9       \n",
       "8442 30  11    2018  474               0    1.8        62       1.6       \n",
       "8443 30  11    2018  456               1    1.3        63       2.0       \n",
       "8444 30  11    2018  300               2    0.6        66       0.5       \n",
       "8445 30  11    2018  213               3   -0.1        69       0.9       \n",
       "8446 30  11    2018  116               4   -0.5        71       0.4       \n",
       "8447 30  11    2018  149               5   -0.7        66       0.5       \n",
       "8448 30  11    2018  293               6   -0.8        68       0.8       \n",
       "8449 30  11    2018  750               7   -1.2        70       0.8       \n",
       "8450 30  11    2018 1527               8   -1.5        68       1.1       \n",
       "8451 30  11    2018  809               9   -0.4        57       0.6       \n",
       "8452 30  11    2018  554              10    1.9        51       0.8       \n",
       "8453 30  11    2018  642              11    5.3        43       1.8       \n",
       "8454 30  11    2018  720              12    6.6        35       1.3       \n",
       "8455 30  11    2018  740              13    7.1        24       2.8       \n",
       "8456 30  11    2018  761              14    7.8        20       2.2       \n",
       "8457 30  11    2018  768              15    7.0        20       3.3       \n",
       "8458 30  11    2018  837              16    7.2        23       1.5       \n",
       "8459 30  11    2018 1047              17    6.0        29       2.1       \n",
       "8460 30  11    2018 1384              18    4.7        34       1.9       \n",
       "8461 30  11    2018 1003              19    4.2        34       2.6       \n",
       "8462 30  11    2018  764              20    3.4        37       2.3       \n",
       "8463 30  11    2018  694              21    2.6        39       0.3       \n",
       "8464 30  11    2018  712              22    2.1        41       1.0       \n",
       "8465 30  11    2018  584              23    1.9        43       1.3       \n",
       "     VISIBILITY DEW_POINT_TEMPERATURE SOLAR_RADIATION RAINFALL SNOWFALL SEASONS\n",
       "1    2000       -17.6                 0.00            0        0        Winter \n",
       "2    2000       -17.6                 0.00            0        0        Winter \n",
       "3    2000       -17.7                 0.00            0        0        Winter \n",
       "4    2000       -17.6                 0.00            0        0        Winter \n",
       "5    2000       -18.6                 0.00            0        0        Winter \n",
       "6    2000       -18.7                 0.00            0        0        Winter \n",
       "7    2000       -19.5                 0.00            0        0        Winter \n",
       "8    2000       -19.3                 0.00            0        0        Winter \n",
       "9    2000       -19.8                 0.01            0        0        Winter \n",
       "10   1928       -22.4                 0.23            0        0        Winter \n",
       "11   1996       -21.2                 0.65            0        0        Winter \n",
       "12   1936       -20.2                 0.94            0        0        Winter \n",
       "13   2000       -17.2                 1.11            0        0        Winter \n",
       "14   2000       -15.6                 1.16            0        0        Winter \n",
       "15   2000       -14.6                 1.01            0        0        Winter \n",
       "16   2000       -11.4                 0.54            0        0        Winter \n",
       "17    793        -7.0                 0.24            0        0        Winter \n",
       "18   2000        -6.5                 0.08            0        0        Winter \n",
       "19   2000        -5.0                 0.00            0        0        Winter \n",
       "20   2000        -3.5                 0.00            0        0        Winter \n",
       "21   1913        -3.5                 0.00            0        0        Winter \n",
       "22   1687        -3.6                 0.00            0        0        Winter \n",
       "23   1380        -3.4                 0.00            0        0        Winter \n",
       "24   1265        -3.6                 0.00            0        0        Winter \n",
       "25    994        -3.6                 0.00            0        0        Winter \n",
       "26    990        -4.2                 0.00            0        0        Winter \n",
       "27   1256        -4.9                 0.00            0        0        Winter \n",
       "28   1221        -6.2                 0.00            0        0        Winter \n",
       "29   1167        -6.9                 0.00            0        0        Winter \n",
       "30   1202        -7.1                 0.00            0        0        Winter \n",
       "⋮    ⋮          ⋮                     ⋮               ⋮        ⋮        ⋮      \n",
       "8436 1566        -4.8                 0.00            0        0        Autumn \n",
       "8437 1590        -4.9                 0.00            0        0        Autumn \n",
       "8438 1434        -4.3                 0.00            0        0        Autumn \n",
       "8439 1231        -4.4                 0.00            0        0        Autumn \n",
       "8440 1218        -4.2                 0.00            0        0        Autumn \n",
       "8441 1394        -5.3                 0.00            0        0        Autumn \n",
       "8442 1411        -4.7                 0.00            0        0        Autumn \n",
       "8443 1379        -4.9                 0.00            0        0        Autumn \n",
       "8444 1368        -5.0                 0.00            0        0        Autumn \n",
       "8445 1338        -5.1                 0.00            0        0        Autumn \n",
       "8446 1345        -5.1                 0.00            0        0        Autumn \n",
       "8447 1336        -6.2                 0.00            0        0        Autumn \n",
       "8448 1322        -5.9                 0.00            0        0        Autumn \n",
       "8449 1351        -5.9                 0.00            0        0        Autumn \n",
       "8450 1286        -6.6                 0.02            0        0        Autumn \n",
       "8451 1270        -7.8                 0.45            0        0        Autumn \n",
       "8452 1029        -7.1                 1.01            0        0        Autumn \n",
       "8453 1177        -6.2                 1.38            0        0        Autumn \n",
       "8454 1409        -7.8                 1.70            0        0        Autumn \n",
       "8455 1838       -12.1                 1.83            0        0        Autumn \n",
       "8456 2000       -13.8                 1.67            0        0        Autumn \n",
       "8457 1994       -14.4                 1.21            0        0        Autumn \n",
       "8458 1945       -12.6                 0.72            0        0        Autumn \n",
       "8459 1877       -10.7                 0.23            0        0        Autumn \n",
       "8460 1661        -9.8                 0.00            0        0        Autumn \n",
       "8461 1894       -10.3                 0.00            0        0        Autumn \n",
       "8462 2000        -9.9                 0.00            0        0        Autumn \n",
       "8463 1968        -9.9                 0.00            0        0        Autumn \n",
       "8464 1859        -9.8                 0.00            0        0        Autumn \n",
       "8465 1909        -9.3                 0.00            0        0        Autumn \n",
       "     HOLIDAY    FUNCTIONING_DAY seoul_bike_sharing$HOUR == ...\n",
       "1    No Holiday Yes             TRUE                          \n",
       "2    No Holiday Yes             TRUE                          \n",
       "3    No Holiday Yes             TRUE                          \n",
       "4    No Holiday Yes             TRUE                          \n",
       "5    No Holiday Yes             TRUE                          \n",
       "6    No Holiday Yes             TRUE                          \n",
       "7    No Holiday Yes             TRUE                          \n",
       "8    No Holiday Yes             TRUE                          \n",
       "9    No Holiday Yes             TRUE                          \n",
       "10   No Holiday Yes             TRUE                          \n",
       "11   No Holiday Yes             TRUE                          \n",
       "12   No Holiday Yes             TRUE                          \n",
       "13   No Holiday Yes             TRUE                          \n",
       "14   No Holiday Yes             TRUE                          \n",
       "15   No Holiday Yes             TRUE                          \n",
       "16   No Holiday Yes             TRUE                          \n",
       "17   No Holiday Yes             TRUE                          \n",
       "18   No Holiday Yes             TRUE                          \n",
       "19   No Holiday Yes             TRUE                          \n",
       "20   No Holiday Yes             TRUE                          \n",
       "21   No Holiday Yes             TRUE                          \n",
       "22   No Holiday Yes             TRUE                          \n",
       "23   No Holiday Yes             TRUE                          \n",
       "24   No Holiday Yes             TRUE                          \n",
       "25   No Holiday Yes             TRUE                          \n",
       "26   No Holiday Yes             TRUE                          \n",
       "27   No Holiday Yes             TRUE                          \n",
       "28   No Holiday Yes             TRUE                          \n",
       "29   No Holiday Yes             TRUE                          \n",
       "30   No Holiday Yes             TRUE                          \n",
       "⋮    ⋮          ⋮               ⋮                             \n",
       "8436 No Holiday Yes             TRUE                          \n",
       "8437 No Holiday Yes             TRUE                          \n",
       "8438 No Holiday Yes             TRUE                          \n",
       "8439 No Holiday Yes             TRUE                          \n",
       "8440 No Holiday Yes             TRUE                          \n",
       "8441 No Holiday Yes             TRUE                          \n",
       "8442 No Holiday Yes             TRUE                          \n",
       "8443 No Holiday Yes             TRUE                          \n",
       "8444 No Holiday Yes             TRUE                          \n",
       "8445 No Holiday Yes             TRUE                          \n",
       "8446 No Holiday Yes             TRUE                          \n",
       "8447 No Holiday Yes             TRUE                          \n",
       "8448 No Holiday Yes             TRUE                          \n",
       "8449 No Holiday Yes             TRUE                          \n",
       "8450 No Holiday Yes             TRUE                          \n",
       "8451 No Holiday Yes             TRUE                          \n",
       "8452 No Holiday Yes             TRUE                          \n",
       "8453 No Holiday Yes             TRUE                          \n",
       "8454 No Holiday Yes             TRUE                          \n",
       "8455 No Holiday Yes             TRUE                          \n",
       "8456 No Holiday Yes             TRUE                          \n",
       "8457 No Holiday Yes             TRUE                          \n",
       "8458 No Holiday Yes             TRUE                          \n",
       "8459 No Holiday Yes             TRUE                          \n",
       "8460 No Holiday Yes             TRUE                          \n",
       "8461 No Holiday Yes             TRUE                          \n",
       "8462 No Holiday Yes             TRUE                          \n",
       "8463 No Holiday Yes             TRUE                          \n",
       "8464 No Holiday Yes             TRUE                          \n",
       "8465 No Holiday Yes             TRUE                          "
      ]
     },
     "metadata": {},
     "output_type": "display_data"
    }
   ],
   "source": [
    "seoul_bike_sharing %>% mutate(seoul_bike_sharing$HOUR == as.factor(seoul_bike_sharing$HOUR))\n"
   ]
  },
  {
   "cell_type": "markdown",
   "metadata": {},
   "source": [
    "### Check the structure of the dataframe\n"
   ]
  },
  {
   "cell_type": "code",
   "execution_count": 7,
   "metadata": {},
   "outputs": [
    {
     "name": "stdout",
     "output_type": "stream",
     "text": [
      "'data.frame':\t8465 obs. of  16 variables:\n",
      " $ day                  : chr  \"01\" \"01\" \"01\" \"01\" ...\n",
      " $ month                : chr  \"12\" \"12\" \"12\" \"12\" ...\n",
      " $ year                 : chr  \"2017\" \"2017\" \"2017\" \"2017\" ...\n",
      " $ RENTED_BIKE_COUNT    : int  254 204 173 107 78 100 181 460 930 490 ...\n",
      " $ HOUR                 : int  0 1 2 3 4 5 6 7 8 9 ...\n",
      " $ TEMPERATURE          : num  -5.2 -5.5 -6 -6.2 -6 -6.4 -6.6 -7.4 -7.6 -6.5 ...\n",
      " $ HUMIDITY             : int  37 38 39 40 36 37 35 38 37 27 ...\n",
      " $ WIND_SPEED           : num  2.2 0.8 1 0.9 2.3 1.5 1.3 0.9 1.1 0.5 ...\n",
      " $ VISIBILITY           : int  2000 2000 2000 2000 2000 2000 2000 2000 2000 1928 ...\n",
      " $ DEW_POINT_TEMPERATURE: num  -17.6 -17.6 -17.7 -17.6 -18.6 -18.7 -19.5 -19.3 -19.8 -22.4 ...\n",
      " $ SOLAR_RADIATION      : num  0 0 0 0 0 0 0 0 0.01 0.23 ...\n",
      " $ RAINFALL             : num  0 0 0 0 0 0 0 0 0 0 ...\n",
      " $ SNOWFALL             : num  0 0 0 0 0 0 0 0 0 0 ...\n",
      " $ SEASONS              : Factor w/ 4 levels \"Autumn\",\"Spring\",..: 4 4 4 4 4 4 4 4 4 4 ...\n",
      " $ HOLIDAY              : Factor w/ 2 levels \"Holiday\",\"No Holiday\": 2 2 2 2 2 2 2 2 2 2 ...\n",
      " $ FUNCTIONING_DAY      : Factor w/ 1 level \"Yes\": 1 1 1 1 1 1 1 1 1 1 ...\n"
     ]
    }
   ],
   "source": [
    "str(seoul_bike_sharing)"
   ]
  },
  {
   "cell_type": "markdown",
   "metadata": {},
   "source": [
    "### Finally, ensure there are no missing values\n"
   ]
  },
  {
   "cell_type": "code",
   "execution_count": 8,
   "metadata": {},
   "outputs": [
    {
     "data": {
      "text/html": [
       "0"
      ],
      "text/latex": [
       "0"
      ],
      "text/markdown": [
       "0"
      ],
      "text/plain": [
       "[1] 0"
      ]
     },
     "metadata": {},
     "output_type": "display_data"
    }
   ],
   "source": [
    "sum(is.na(seoul_bike_sharing))"
   ]
  },
  {
   "cell_type": "markdown",
   "metadata": {},
   "source": [
    "## Descriptive Statistics\n",
    "\n",
    "Now you are all set to take a look at some high level statistics of the `seoul_bike_sharing` dataset. \n"
   ]
  },
  {
   "cell_type": "markdown",
   "metadata": {},
   "source": [
    "### Task 4 - Dataset Summary\n",
    "Use the base R `sumamry()` function to describe the `seoul_bike_sharing` dataset.\n",
    "\n",
    "### Solution 4\n"
   ]
  },
  {
   "cell_type": "code",
   "execution_count": 9,
   "metadata": {},
   "outputs": [
    {
     "data": {
      "text/plain": [
       "     day               month               year           RENTED_BIKE_COUNT\n",
       " Length:8465        Length:8465        Length:8465        Min.   :   2.0   \n",
       " Class :character   Class :character   Class :character   1st Qu.: 214.0   \n",
       " Mode  :character   Mode  :character   Mode  :character   Median : 542.0   \n",
       "                                                          Mean   : 729.2   \n",
       "                                                          3rd Qu.:1084.0   \n",
       "                                                          Max.   :3556.0   \n",
       "      HOUR        TEMPERATURE        HUMIDITY       WIND_SPEED   \n",
       " Min.   : 0.00   Min.   :-17.80   Min.   : 0.00   Min.   :0.000  \n",
       " 1st Qu.: 6.00   1st Qu.:  3.00   1st Qu.:42.00   1st Qu.:0.900  \n",
       " Median :12.00   Median : 13.50   Median :57.00   Median :1.500  \n",
       " Mean   :11.51   Mean   : 12.77   Mean   :58.15   Mean   :1.726  \n",
       " 3rd Qu.:18.00   3rd Qu.: 22.70   3rd Qu.:74.00   3rd Qu.:2.300  \n",
       " Max.   :23.00   Max.   : 39.40   Max.   :98.00   Max.   :7.400  \n",
       "   VISIBILITY   DEW_POINT_TEMPERATURE SOLAR_RADIATION     RAINFALL      \n",
       " Min.   :  27   Min.   :-30.600       Min.   :0.0000   Min.   : 0.0000  \n",
       " 1st Qu.: 935   1st Qu.: -5.100       1st Qu.:0.0000   1st Qu.: 0.0000  \n",
       " Median :1690   Median :  4.700       Median :0.0100   Median : 0.0000  \n",
       " Mean   :1434   Mean   :  3.945       Mean   :0.5679   Mean   : 0.1491  \n",
       " 3rd Qu.:2000   3rd Qu.: 15.200       3rd Qu.:0.9300   3rd Qu.: 0.0000  \n",
       " Max.   :2000   Max.   : 27.200       Max.   :3.5200   Max.   :35.0000  \n",
       "    SNOWFALL         SEASONS           HOLIDAY     FUNCTIONING_DAY\n",
       " Min.   :0.00000   Autumn:1937   Holiday   : 408   Yes:8465       \n",
       " 1st Qu.:0.00000   Spring:2160   No Holiday:8057                  \n",
       " Median :0.00000   Summer:2208                                    \n",
       " Mean   :0.07769   Winter:2160                                    \n",
       " 3rd Qu.:0.00000                                                  \n",
       " Max.   :8.80000                                                  "
      ]
     },
     "metadata": {},
     "output_type": "display_data"
    }
   ],
   "source": [
    "# provide your solution here\n",
    "summary(seoul_bike_sharing)"
   ]
  },
  {
   "cell_type": "code",
   "execution_count": 10,
   "metadata": {},
   "outputs": [],
   "source": [
    "conn <- dbConnect(RSQLite::SQLite(),\"FinalsRSQLite\")"
   ]
  },
  {
   "cell_type": "code",
   "execution_count": 11,
   "metadata": {},
   "outputs": [
    {
     "ename": "ERROR",
     "evalue": "Error: table SEOUL_BIKE_SHARING already exists\n",
     "execution_count": 11,
     "output_type": "error",
     "traceback": [
      "Error: table SEOUL_BIKE_SHARING already exists\nTraceback:\n",
      "1. dbExecute(conn, \"CREATE TABLE SEOUL_BIKE_SHARING (\\n                                      DATE DATE NOT NULL,\\n                                      WEATHER INTEGER NOT NULL,\\n                                      HOUR TIME NOT NULL,\\n                                      TEMPERATURE  NOT NULL, \\n                                      HUMIDITY INTEGER NOT NULL,\\n                                      WIND_SPEED INTEGER NOT NULL,\\n                                      VISIBILITY INTEGER NOT NULL,\\n                                      DEW_POINT_TEMPERATURE INTEGER NOT NULL,\\n                                      SOLAR_RADIATION INTEGER NOT NULL,\\n                                      RAINFALL INTEGER NOT NULL,\\n                                      SNOWFALL INTEGER NOT NULL,\\n                                      SEASONS VARCHAR(20)  NOT NULL,\\n                                      HOLIDAY  VARCHAR(20) NOT NULL,\\n                                      FUNCTIONING DAY VARCHAR(20) NOT NULL\\n   )\", \n .     errors = FALSE)",
      "2. dbExecute(conn, \"CREATE TABLE SEOUL_BIKE_SHARING (\\n                                      DATE DATE NOT NULL,\\n                                      WEATHER INTEGER NOT NULL,\\n                                      HOUR TIME NOT NULL,\\n                                      TEMPERATURE  NOT NULL, \\n                                      HUMIDITY INTEGER NOT NULL,\\n                                      WIND_SPEED INTEGER NOT NULL,\\n                                      VISIBILITY INTEGER NOT NULL,\\n                                      DEW_POINT_TEMPERATURE INTEGER NOT NULL,\\n                                      SOLAR_RADIATION INTEGER NOT NULL,\\n                                      RAINFALL INTEGER NOT NULL,\\n                                      SNOWFALL INTEGER NOT NULL,\\n                                      SEASONS VARCHAR(20)  NOT NULL,\\n                                      HOLIDAY  VARCHAR(20) NOT NULL,\\n                                      FUNCTIONING DAY VARCHAR(20) NOT NULL\\n   )\", \n .     errors = FALSE)",
      "3. dbSendStatement(conn, statement, ...)",
      "4. dbSendStatement(conn, statement, ...)",
      "5. dbSendQuery(conn, statement, ...)",
      "6. dbSendQuery(conn, statement, ...)",
      "7. .local(conn, statement, ...)",
      "8. new(\"SQLiteResult\", sql = statement, ptr = result_create(conn@ptr, \n .     statement), conn = conn, bigint = conn@bigint)",
      "9. initialize(value, ...)",
      "10. initialize(value, ...)",
      "11. result_create(conn@ptr, statement)"
     ]
    }
   ],
   "source": [
    "df1 <- dbExecute(conn, \n",
    "                    \"CREATE TABLE SEOUL_BIKE_SHARING (\n",
    "                                      DATE DATE NOT NULL,\n",
    "                                      WEATHER INTEGER NOT NULL,\n",
    "                                      HOUR TIME NOT NULL,\n",
    "                                      TEMPERATURE  NOT NULL, \n",
    "                                      HUMIDITY INTEGER NOT NULL,\n",
    "                                      WIND_SPEED INTEGER NOT NULL,\n",
    "                                      VISIBILITY INTEGER NOT NULL,\n",
    "                                      DEW_POINT_TEMPERATURE INTEGER NOT NULL,\n",
    "                                      SOLAR_RADIATION INTEGER NOT NULL,\n",
    "                                      RAINFALL INTEGER NOT NULL,\n",
    "                                      SNOWFALL INTEGER NOT NULL,\n",
    "                                      SEASONS VARCHAR(20)  NOT NULL,\n",
    "                                      HOLIDAY  VARCHAR(20) NOT NULL,\n",
    "                                      FUNCTIONING DAY VARCHAR(20) NOT NULL\n",
    "   )\", \n",
    "                    errors=FALSE\n",
    "                    )\n",
    "\n",
    "    if (df1 == -1){\n",
    "        cat (\"An error has occurred.\\n\")\n",
    "        msg <- odbcGetErrMsg(conn)\n",
    "        print (msg)\n",
    "    } else {\n",
    "        cat (\"Table was created successfully.\\n\")\n",
    "    }\n",
    "dbListTables(conn)"
   ]
  },
  {
   "cell_type": "code",
   "execution_count": null,
   "metadata": {},
   "outputs": [],
   "source": [
    "seouldf <- read.csv(\"https://cf-courses-data.s3.us.cloud-object-storage.appdomain.cloud/IBMDeveloperSkillsNetwork-RP0321EN-SkillsNetwork/labs/datasets/seoul_bike_sharing.csv\")\n",
    "dbWriteTable(conn, \"SEOUL_BIKE_SHARING\", seouldf, overwrite=TRUE, header = TRUE)"
   ]
  },
  {
   "cell_type": "markdown",
   "metadata": {},
   "source": [
    "### Some Basic Observations:\n",
    "- We can see from `DATE` that we have exactly a full year of data.  \n",
    "- No records have zero bike counts.  \n",
    "- Spring and Winter have the same count of records, while autumn has the least and Summer has the most.\n",
    "- Temperature has a large range, so we might expect it to explain at least some of the variation in bike rentals.  \n",
    "- Precipitation seems to be quite rare, only happening in the fourth quartiles for both `RAINFALL` and `SNOWFALL`.\n",
    "- The average `WINDSPEED` is very light at only 1.7 m/s, and even the maximum is only a moderate breeze (Google 'Beaufort Wind Scale' to find the different wind descriptions)  \n",
    "\n",
    "By now, you might agree that Exploratory Data Analysis can create more questions than answers. That's okay - you'll have a much deeper understanding and appreciation for your data as a result! \n",
    "\n",
    "\n",
    "### Task 5 - Based on the above stats, calculate how many Holidays there are.\n",
    "### Solution 5:\n"
   ]
  },
  {
   "cell_type": "code",
   "execution_count": null,
   "metadata": {},
   "outputs": [],
   "source": [
    "dbGetQuery(conn,'SELECT COUNT(HOLIDAY) FROM SEOUL_BIKE_SHARING\n",
    "WHERE HOLIDAY=\" No Holiday\"')"
   ]
  },
  {
   "cell_type": "markdown",
   "metadata": {},
   "source": [
    "### Task 6 - Calculate the percentage of records that fall on a holiday.\n",
    "### Solution 6\n"
   ]
  },
  {
   "cell_type": "code",
   "execution_count": null,
   "metadata": {},
   "outputs": [],
   "source": []
  },
  {
   "cell_type": "code",
   "execution_count": null,
   "metadata": {},
   "outputs": [],
   "source": [
    "# provide your solution here\n",
    "SELECT COUNT("
   ]
  },
  {
   "cell_type": "markdown",
   "metadata": {},
   "source": [
    "### Task 7 - Given there is exactly a full year of data, determine how many records we expect to have.\n",
    "### Solution 7\n"
   ]
  },
  {
   "cell_type": "code",
   "execution_count": null,
   "metadata": {},
   "outputs": [],
   "source": [
    "# provide your solution here\n",
    "seoul_bike_sharing %>% summarise(HOLIDAY)"
   ]
  },
  {
   "cell_type": "code",
   "execution_count": null,
   "metadata": {},
   "outputs": [],
   "source": [
    "SELECT COUNT(HOLIDAY) FROM SEOUL_BIKE_SHARING"
   ]
  },
  {
   "cell_type": "markdown",
   "metadata": {},
   "source": [
    "### Task 8 - Given the observations for the 'FUNCTIONING_DAY' how many records must there be?\n",
    "### Solution 8\n"
   ]
  },
  {
   "cell_type": "code",
   "execution_count": null,
   "metadata": {},
   "outputs": [],
   "source": [
    "# provide your solution here\n",
    "seoul_bike_sharing %>% summarise(FUNCTIONING_DAY)"
   ]
  },
  {
   "cell_type": "code",
   "execution_count": null,
   "metadata": {},
   "outputs": [],
   "source": [
    "SELECT COUNT(FUNCTIONING_DAY) FROM SEOUL_BIKE_SHARING"
   ]
  },
  {
   "cell_type": "markdown",
   "metadata": {
    "tags": []
   },
   "source": [
    "## Drilling Down\n",
    "Let's calculate some seasonally aggregated measures to help build some more context.  \n",
    "### Task 9 - Load the dplyr package, group the data by `SEASONS`, and use the `summarize()` function to calculate the seasonal total rainfall and snowfall.\n",
    "### Solution 9\n"
   ]
  },
  {
   "cell_type": "code",
   "execution_count": null,
   "metadata": {},
   "outputs": [],
   "source": [
    "# provide your solution here\n",
    "seoul_bike_sharing %>% group_by(SEASONS) %>% summarise(RAINFALL,SNOWFALL)"
   ]
  },
  {
   "cell_type": "markdown",
   "metadata": {},
   "source": [
    "Wow, that seems like a lot of snow.  \n",
    "Now that you have some ideas about what sorts of questions can be answered through descriptive statistics, let's start visualizing the data.  \n"
   ]
  },
  {
   "cell_type": "markdown",
   "metadata": {},
   "source": [
    "## Data Visualization\n",
    "\n",
    "Let's take a closer look at our main variable of interest, namely, `RENTED_BIKE_COUNT`.  \n",
    "Think of this variable as the key _measure_ or _dependent variable_ in your analysis.  \n",
    "\n",
    "Indeed, it is a measured quantity, and we expect it to depend on factors such as the expected weather.  \n",
    "Evidently, if the immediate or forecasted weather is harsh or unpleasant, many people could choose to use alternate transit or simply wait for better weather rather than rent a bike.   \n",
    "On the other hand, many people may be inspired to ride under pleasant expected weather conditions.  \n",
    "\n",
    "The weather is largely infuenced by the time of day and the seasons, so these are also factors.  \n",
    "The time of day, the day of week, and Holidays all matter because they control commuting schedules.  \n",
    "\n",
    "Finer granularity data such as a unique ID for each bike and/or rider, when and where each bike was rented, or even finer - a history of when and where each bike was used or idle - would be interesting as well.\n",
    "\n",
    "\n",
    "### Load the ggplot2 package so we can generate some data visualizations.\n"
   ]
  },
  {
   "cell_type": "code",
   "execution_count": null,
   "metadata": {},
   "outputs": [],
   "source": [
    "library(tidymodels)\n",
    "\n",
    "# Load tidyverse\n",
    "library(tidyverse)"
   ]
  },
  {
   "cell_type": "markdown",
   "metadata": {},
   "source": [
    "Our variable of interest is a time series, so why not start by taking a look at it in it's natural form?\n",
    "\n",
    "### Task 10 - Create a scatter plot of `RENTED_BIKE_COUNT` vs `DATE`. \n",
    "Tune the opacity using the `alpha` parameter such that the points don't obscure each other too much.\n",
    "### Solution 10\n"
   ]
  },
  {
   "cell_type": "code",
   "execution_count": null,
   "metadata": {},
   "outputs": [],
   "source": [
    "# provide your solution here\n",
    "ggplot(data = seoul_bike_sharing, mapping = aes(x = DATE, y = RENTED_BIKE_COUNT)) +\n",
    "  geom_point()+\n",
    "ggtitle(\"RENTED_BIKE_COUNT vs DATE\")"
   ]
  },
  {
   "cell_type": "markdown",
   "metadata": {},
   "source": [
    "### Ungraded Task: We can see some patterns emerging here.\n",
    "Describe them and keep your findings for your presentation in the final project.\n"
   ]
  },
  {
   "cell_type": "markdown",
   "metadata": {},
   "source": [
    "### Solution\n"
   ]
  },
  {
   "cell_type": "markdown",
   "metadata": {},
   "source": [
    "#### provide your solution here\n"
   ]
  },
  {
   "cell_type": "markdown",
   "metadata": {},
   "source": [
    "### Using colour\n",
    "Let's see if we can enhance some of these features by incorporating colour. Given our observations so far, `HOURS` is a great candidate for this task.  \n",
    "\n",
    "### Task 11 - Create the same plot of the `RENTED_BIKE_COUNT` time series, but now add `HOURS` as the colour.\n",
    "### Solution 11\n"
   ]
  },
  {
   "cell_type": "code",
   "execution_count": null,
   "metadata": {},
   "outputs": [],
   "source": [
    "# provide your solution here\n",
    "ggplot(seoul_bike_sharing)+geom_point(aes(x=DATE,y=RENTED_BIKE_COUNT,color=HOUR),alpha=0.8)+\n",
    "  labs(title=\"Scatter plot of Rent Bike Number vs Date (Color by Hours)\",xlab=\"Date\",ylab=\"No. of Rent Bike\")+\n",
    "  scale_colour_hue(h = c(0, 270))+\n",
    "  scale_x_date(breaks=\"month\",date_labels=\"%Y=%m\")\n",
    "  \n"
   ]
  },
  {
   "cell_type": "markdown",
   "metadata": {},
   "source": [
    "### Ungraded Task: The trends are much more clear now. \n",
    "Describe them and keep your findings for your presentation in the final project.\n"
   ]
  },
  {
   "cell_type": "markdown",
   "metadata": {
    "tags": []
   },
   "source": [
    "### Solution\n"
   ]
  },
  {
   "cell_type": "markdown",
   "metadata": {
    "jp-MarkdownHeadingCollapsed": true,
    "tags": []
   },
   "source": [
    "#### provide your solution here\n"
   ]
  },
  {
   "cell_type": "markdown",
   "metadata": {},
   "source": [
    "## Distributions\n"
   ]
  },
  {
   "cell_type": "markdown",
   "metadata": {},
   "source": [
    "### Task 12 - Create a histogram overlaid with a kernel density curve\n",
    "Normalize the histogram so the y axis represents 'density'. This can be done by setting `y=..density..` in the aesthetics of the histogram.\n"
   ]
  },
  {
   "cell_type": "markdown",
   "metadata": {},
   "source": [
    "<details><summary>Click here for a hint</summary>\n",
    "Set the colour to something like black and the fill to white so you can see the kernel density plot layer better.\n"
   ]
  },
  {
   "cell_type": "markdown",
   "metadata": {},
   "source": [
    "<details><summary>Click here for another hint</summary>\n",
    "Set the color and alpha such that your denstiy plot is clearly visible, without obscuring the histogram. \n"
   ]
  },
  {
   "cell_type": "markdown",
   "metadata": {},
   "source": [
    "### Solution 12\n"
   ]
  },
  {
   "cell_type": "code",
   "execution_count": null,
   "metadata": {},
   "outputs": [],
   "source": [
    "# provide your solution here\n",
    "ggplot(data = seoul_bike_sharing, mapping = aes(x = DATE, y = RENTED_BIKE_COUNT)) +\n",
    "   geom_histogram() +\n",
    "   ggtitle(\"RENTED_BIKE_COUNT vs DATE\")"
   ]
  },
  {
   "cell_type": "markdown",
   "metadata": {},
   "source": [
    "### Ungraded Task: Describe the main features you see in your plot.\n",
    "Consider what it's shape tells you, and keep your findings for your presentation in the final project. \n"
   ]
  },
  {
   "cell_type": "markdown",
   "metadata": {},
   "source": [
    "<details><summary>Click here for a solution</summary>\n",
    "    \n",
    "We can see from the histogram that most of the time there are relatively few bikes rented. Indeed, the 'mode', or most frequent amount of bikes rented, is about 250.  \n",
    "\n",
    "Judging by the 'bumps' at about 700, 900, and 1900, and 3200 bikes, it looks like there may be other modes hiding within subgroups of the data. \n",
    "\n",
    "Interestingly, judging from the tail of the distribution, on rare occasions there are many more bikes rented out than usual.\n"
   ]
  },
  {
   "cell_type": "markdown",
   "metadata": {},
   "source": [
    "## Correlation between two variables (scatter plot)\n",
    "### Task 13 - Use a scatter plot to visualize the correlation between `RENTED_BIKE_COUNT` and `TEMPERATURE` by `SEASONS`.\n",
    "Start with `RENTED_BIKE_COUNT` vs. `TEMPERATURE`, then generate four plots corresponding to the `SEASONS` by adding a `facet_wrap()` layer.\n",
    "Also, make use of colour and opacity to emphasize any patterns that emerge. Use `HOUR` as the color.\n",
    "\n",
    "### Solution 13\n"
   ]
  },
  {
   "cell_type": "code",
   "execution_count": null,
   "metadata": {},
   "outputs": [],
   "source": [
    "# provide your solution here\n",
    "ggplot(cleaned_seoul_bike)+geom_point(aes(x=TEMPERATURE,y=RENTED_BIKE_COUNT,color=HOUR),alpha=0.8)+\n",
    "  labs(title=\"Scatter plot of Rent Bike Number vs Temperature (Color by Hours)\")+\n",
    "  xlab(label = \"Temperature\")+ ylab(label = \"Rent No.\")+\n",
    "  facet_wrap(~SEASONS)+\n",
    "  theme_base()+\n",
    "  scale_colour_hue(h = c(0, 270))"
   ]
  },
  {
   "cell_type": "markdown",
   "metadata": {},
   "source": [
    "### Ungraded Task: Describe the patterns you see. \n",
    "What do these patterns imply about the relationships between these variables? Keep your findings for your presentation in the final project.\n"
   ]
  },
  {
   "cell_type": "markdown",
   "metadata": {},
   "source": [
    "<details><summary>Click here for a solution</summary>\n",
    "    \n",
    "Visually, we can see some strong correlations as approximately linear patterns.  \n"
   ]
  },
  {
   "cell_type": "markdown",
   "metadata": {},
   "source": [
    "Comparing this plot to the same plot below, but without grouping by `SEASONS`, shows how important seasonality is in explaining bike rental counts.  \n"
   ]
  },
  {
   "cell_type": "code",
   "execution_count": null,
   "metadata": {},
   "outputs": [],
   "source": [
    "ggplot(seoul_bike_sharing) +\n",
    "   geom_point(aes(x=TEMPERATURE,y=RENTED_BIKE_COUNT,colour=HOUR),alpha=1/5)"
   ]
  },
  {
   "cell_type": "markdown",
   "metadata": {},
   "source": [
    "## Outliers (boxplot)\n",
    "### Task 14 - Create a display of four boxplots of `RENTED_BIKE_COUNT` vs. `HOUR` grouped by `SEASONS`.\n",
    "Use `facet_wrap` to generate four plots corresponding to the seasons.\n",
    "\n",
    "### Solution 14\n"
   ]
  },
  {
   "cell_type": "code",
   "execution_count": null,
   "metadata": {},
   "outputs": [],
   "source": [
    "# provide your solution here\n",
    "ggplot(cleaned_seoul_bike) +\n",
    "  geom_boxplot(aes(x=HOUR,y=RENTED_BIKE_COUNT,fill=HOUR))+\n",
    "  labs(title=\"Boxplot of Rent Bike Number vs Hour\")+\n",
    "  xlab(label = \"Hour\")+ ylab(label = \"Rent No.\")+\n",
    "  theme_base()+\n",
    "  facet_wrap(~SEASONS)+\n",
    "  scale_colour_hue(h = c(0, 270))"
   ]
  },
  {
   "cell_type": "markdown",
   "metadata": {},
   "source": [
    "### Ungraded Task: Compare and contrast the key features of these boxplots between seasons.\n",
    "At this point, a story should be taking shape. Again, keep your findings for your presentation in the final project. \n"
   ]
  },
  {
   "cell_type": "markdown",
   "metadata": {},
   "source": [
    "<details><summary>Click here for a solution</summary>\n",
    "    \n",
    "Although the overall scale of bike rental counts changes with the seasons, key features remain very similar.  \n",
    "For example, peak demand times are the same across all seasons, at 8 am and 6 pm.  \n"
   ]
  },
  {
   "cell_type": "markdown",
   "metadata": {},
   "source": [
    "### Task 15 - Group the data by `DATE`, and use the summarize() function to calculate the daily total rainfall and snowfall.\n",
    "Also, go ahead and plot the results if you wish.\n",
    "### Solution 15\n"
   ]
  },
  {
   "cell_type": "code",
   "execution_count": null,
   "metadata": {},
   "outputs": [],
   "source": [
    "# provide your solution here\n",
    "s1=ggplot(cleaned_seoul_bike) +\n",
    "  geom_line(aes(x=DATE,y=RAINFALL),color=\"violet\")+\n",
    "  labs(title=\"Total daily Rainfall over 1 year\")+\n",
    "  xlab(label = \"Date\")+ ylab(label = \"Rainfall-mm\")+\n",
    "  scale_x_date(date_breaks=\"months\",date_labels=\"%Y-%m\")+\n",
    "  theme_base()\n",
    "\n",
    "s2=ggplot(cleaned_seoul_bike) +\n",
    "  geom_line(aes(x=DATE,y=SNOWFALL),color=\"light green\")+\n",
    "  labs(title=\"Total daily Snowfall over 1 year\")+\n",
    "  xlab(label = \"Date\")+ ylab(label = \"Snowfall-cm\")+\n",
    "  scale_x_date(date_breaks=\"months\",date_labels=\"%Y-%m\")+\n",
    "  theme_base()\n",
    "\n",
    "ggarrange(s1,s2,nrow=2)"
   ]
  },
  {
   "cell_type": "markdown",
   "metadata": {},
   "source": [
    "### Task 16 - Determine how many days had snowfall.\n",
    "### Solution 16\n"
   ]
  },
  {
   "cell_type": "code",
   "execution_count": null,
   "metadata": {},
   "outputs": [],
   "source": [
    "# provide your solution here\n"
   ]
  },
  {
   "cell_type": "markdown",
   "metadata": {},
   "source": [
    "There are many more visualizations we could have chosen to cover here, but the important thing was that you deepen your understanding of the dataset.  \n",
    "I hope we succeeded in that endeavour! \n",
    "\n",
    "(Keep going, you are getting closer to the finish line with each step you take. :-) )\n"
   ]
  },
  {
   "cell_type": "markdown",
   "metadata": {},
   "source": [
    "## Further Reading\n",
    "[1] 'Causal Model' (2021) _Wikipedia_. Available at \"https://en.wikipedia.org/wiki/Causal_model\" (Accessed: 22 April 2021).\n"
   ]
  },
  {
   "cell_type": "markdown",
   "metadata": {},
   "source": [
    "## Author(s)\n",
    "\n",
    "<h4> Jeff Grossman </h4>\n",
    "\n",
    "## Contributor(s)\n",
    "\n",
    "<h4> Yan Luo, Rav Ahuja </h4>\n",
    "\n",
    "## Change log\n",
    "\n",
    "| Date       | Version | Changed by    | Change Description                                                                                          |\n",
    "| ---------- | ------- | ------------- | ----------------------------------------------------------------------------------------------------------- |\n",
    "| 2021-05-04 | 0.4     | Jeff Grossman | Remove solutions                                                                                           |\n",
    "| 2021-04-23 | 0.3     | Jeff Grossman | Update per review                                                                                           |\n",
    "| 2021-04-20 | 0.2     | Jeff Grossman | Push for peer review                                                                                        | \n",
    "| 2021-04-05 | 0.1     | Jeff Grossman | Start content creation                                                                                    |\n",
    "\n",
    "\n",
    "## <h3 align=\"center\"> © IBM Corporation 2021. All rights reserved. <h3/>\n"
   ]
  },
  {
   "cell_type": "code",
   "execution_count": null,
   "metadata": {},
   "outputs": [],
   "source": []
  }
 ],
 "metadata": {
  "kernelspec": {
   "display_name": "R",
   "language": "R",
   "name": "conda-env-r-r"
  },
  "language_info": {
   "codemirror_mode": "r",
   "file_extension": ".r",
   "mimetype": "text/x-r-source",
   "name": "R",
   "pygments_lexer": "r",
   "version": "3.5.1"
  }
 },
 "nbformat": 4,
 "nbformat_minor": 4
}
