{
 "cells": [
  {
   "cell_type": "markdown",
   "metadata": {},
   "source": [
    "<center>\n",
    "<img src=\"https://cf-courses-data.s3.us.cloud-object-storage.appdomain.cloud/IBMDeveloperSkillsNetwork-RP0321EN-SkillsNetwork/labs/module_1/images/SN_web_lightmode.png\" width=\"300\"> \n",
    "</center>\n",
    "\n",
    "# Assignment: Exploratory Data Analysis with SQL\n",
    "Estimated time needed: 60 minutes\n",
    "\n",
    "\n",
    "# Introduction\n",
    "Using this R notebook you will perform exploratory data analysis using SQL queries with the RSQLite R package. You will be graded on the accuracy of your results as well as the content of your SQL queries.\n"
   ]
  },
  {
   "cell_type": "markdown",
   "metadata": {},
   "source": [
    "### Establish your SQlIte connection\n",
    "Load the 'RSQLite' library, and use the 'dbConnect( )' function as you did in the previous lab to establish the connection to your SQLite database.  \n",
    "You are now ready to start running SQL queries using the RSQLite library as you did in Course 3.\n"
   ]
  },
  {
   "cell_type": "code",
   "execution_count": 1,
   "metadata": {},
   "outputs": [
    {
     "name": "stderr",
     "output_type": "stream",
     "text": [
      "also installing the dependencies ‘bit’, ‘cachem’, ‘bit64’, ‘blob’, ‘memoise’, ‘Rcpp’\n",
      "\n",
      "Updating HTML index of packages in '.Library'\n",
      "Making 'packages.html' ... done\n"
     ]
    }
   ],
   "source": [
    "# provide your solution here\n",
    "install.packages(\"RSQLite\")\n"
   ]
  },
  {
   "cell_type": "code",
   "execution_count": 1,
   "metadata": {},
   "outputs": [],
   "source": [
    "library(\"RSQLite\")"
   ]
  },
  {
   "cell_type": "code",
   "execution_count": 2,
   "metadata": {},
   "outputs": [],
   "source": [
    "conn <- dbConnect(RSQLite::SQLite(),\"FinalRSQLite\")"
   ]
  },
  {
   "cell_type": "markdown",
   "metadata": {},
   "source": [
    "Download the following csv files:\n",
    "\n",
    "*   [WORLD_CITIES](https://cf-courses-data.s3.us.cloud-object-storage.appdomain.cloud/IBMDeveloperSkillsNetwork-RP0321EN-SkillsNetwork/labs/datasets/world_cities.csv)\n",
    "\n",
    "*   [BIKE_SHARING_SYSTEMS](https://cf-courses-data.s3.us.cloud-object-storage.appdomain.cloud/IBMDeveloperSkillsNetwork-RP0321EN-SkillsNetwork/labs/datasets/bike_sharing_systems.csv)\n",
    "\n",
    "*   [CITIES_WEATHER_FORECAST](https://cf-courses-data.s3.us.cloud-object-storage.appdomain.cloud/IBMDeveloperSkillsNetwork-RP0321EN-SkillsNetwork/labs/datasets/cities_weather_forecast.csv)\n",
    "\n",
    "*   [SEOUL_BIKE_SHARING](https://cf-courses-data.s3.us.cloud-object-storage.appdomain.cloud/IBMDeveloperSkillsNetwork-RP0321EN-SkillsNetwork/labs/datasets/seoul_bike_sharing.csv)\n",
    "\n",
    "and load the csv's  into 4 tables as mentioned below\n",
    "* SEOUL_BIKE_SHARING\n",
    "\n",
    "* CITIES_WEATHER_FORECAST\n",
    "\n",
    "* BIKE_SHARING_SYSTEMS \n",
    "\n",
    "*  WORLD_CITIES\n",
    "\n",
    "> Hint : Use the read_csv() function and dbWriteTable() functions\n"
   ]
  },
  {
   "cell_type": "code",
   "execution_count": 17,
   "metadata": {},
   "outputs": [
    {
     "name": "stdout",
     "output_type": "stream",
     "text": [
      "Table was created successfully.\n"
     ]
    }
   ],
   "source": [
    "df1 <- dbExecute(conn, \n",
    "                    \"CREATE TABLE SEOUL_BIKE_SHARING (\n",
    "                                      DATE DATE NOT NULL,\n",
    "                                      WEATHER INTEGER NOT NULL,\n",
    "                                      HOUR TIME NOT NULL,\n",
    "                                      TEMPERATURE  NOT NULL, \n",
    "                                      HUMIDITY INTEGER NOT NULL,\n",
    "                                      WIND_SPEED INTEGER NOT NULL,\n",
    "                                      VISIBILITY INTEGER NOT NULL,\n",
    "                                      DEW_POINT_TEMPERATURE INTEGER NOT NULL,\n",
    "                                      SOLAR_RADIATION INTEGER NOT NULL,\n",
    "                                      RAINFALL INTEGER NOT NULL,\n",
    "                                      SNOWFALL INTEGER NOT NULL,\n",
    "                                      SEASONS VARCHAR(20)  NOT NULL,\n",
    "                                      HOLIDAY  VARCHAR(20) NOT NULL,\n",
    "                                      FUNCTIONING DAY VARCHAR(20) NOT NULL\n",
    "   )\", \n",
    "                    errors=FALSE\n",
    "                    )\n",
    "\n",
    "    if (df1 == -1){\n",
    "        cat (\"An error has occurred.\\n\")\n",
    "        msg <- odbcGetErrMsg(conn)\n",
    "        print (msg)\n",
    "    } else {\n",
    "        cat (\"Table was created successfully.\\n\")\n",
    "    }\n"
   ]
  },
  {
   "cell_type": "code",
   "execution_count": 14,
   "metadata": {},
   "outputs": [
    {
     "name": "stdout",
     "output_type": "stream",
     "text": [
      "Table was created successfully.\n"
     ]
    }
   ],
   "source": [
    "          \n",
    "df2 <- dbExecute(conn, \n",
    "                    \"CREATE TABLE CITIES_WEATHER_FORECAST (\n",
    "                                      CITY VARCHAR(20) NOT NULL,\n",
    "                                      WEATHER VARCHAR(20) NOT NULL,\n",
    "                                      VISIBILITY INTEGER NOT NULL,\n",
    "                                      TEMP INTEGER NOT NULL, \n",
    "                                      TEMP_MIN INTEGER NOT NULL,\n",
    "                                      TEMP_MAX INTEGER NOT NULL,\n",
    "                                      PRESSURE INTEGER NOT NULL,\n",
    "                                      HUMIDITY INTEGER NOT NULL,\n",
    "                                      WIND_SPEED INTEGER NOT NULL,\n",
    "                                      WIND_DEG INTEGER NOT NULL,\n",
    "                                      SEASON VARCHAR (20)  NOT NULL,\n",
    "                                      FORECAST_DATETIME DATE NOT NULL\n",
    "   )\", \n",
    "                    errors=FALSE\n",
    "                    )\n",
    "\n",
    "    if (df2 == -1){\n",
    "        cat (\"An error has occurred.\\n\")\n",
    "        msg <- odbcGetErrMsg(conn)\n",
    "        print (msg)\n",
    "    } else {\n",
    "        cat (\"Table was created successfully.\\n\")\n",
    "    }\n",
    "\n",
    "\n",
    "\n",
    "\n",
    "\n",
    "\n",
    "\n",
    "\n"
   ]
  },
  {
   "cell_type": "code",
   "execution_count": 15,
   "metadata": {},
   "outputs": [
    {
     "name": "stdout",
     "output_type": "stream",
     "text": [
      "Table was created successfully.\n"
     ]
    }
   ],
   "source": [
    "\n",
    "df3 <- dbExecute(conn, \n",
    "                    \"CREATE TABLE BIKE_SHARING_SYSTEMS  (\n",
    "                                      COUNTRY VARCHAR(20) NOT NULL,\n",
    "                                      CITY VARCHAR(20) NOT NULL,\n",
    "                                      SYSTEM VARCHAR(20) NOT NULL,\n",
    "                                      BICYCLES INTEGER NOTULL\n",
    "                                       )\", \n",
    "                    errors=FALSE\n",
    "                    )\n",
    "\n",
    "    if (df3 == -1){\n",
    "        cat (\"An error has occurred.\\n\")\n",
    "        msg <- odbcGetErrMsg(conn)\n",
    "        print (msg)\n",
    "    } else {\n",
    "        cat (\"Table was created successfully.\\n\")\n",
    "    }\n"
   ]
  },
  {
   "cell_type": "code",
   "execution_count": 16,
   "metadata": {},
   "outputs": [
    {
     "name": "stdout",
     "output_type": "stream",
     "text": [
      "Table was created successfully.\n"
     ]
    }
   ],
   "source": [
    "\n",
    "df4<- dbExecute(conn, \n",
    "                    \"CREATE TABLE  WORLD_CITIES  (\n",
    "CITY VAR HAR(20) NOT NULL,\n",
    "CITY_ASCII VAR CHAR(20) NOT NULL,\n",
    "LAT INTEGER NOT NULL,\n",
    "LNG INTEGER NOT NULL,\n",
    "COUNTRY VARCHAR(20) NOT NULL,\n",
    "ISO2 CHAR NOT NULL,\n",
    "ISO3CHAR NOT NULL,\n",
    "ADMIN_NAME  VARCHAR (20) NOT NULL,\n",
    "CAPITAL VARCHAR(20) NOT NULL,\n",
    "POPULATION INTEGER NOT NULL,\n",
    "ID INTEGER NOT NULL,\n",
    "PRIMARY KEY(ID)\n",
    "              )\", \n",
    "                    errors=FALSE\n",
    "                    )\n",
    "\n",
    "    if (df4== -1){\n",
    "        cat (\"An error has occurred.\\n\")\n",
    "        msg <- odbcGetErrMsg(conn)\n",
    "        print (msg)\n",
    "    } else {\n",
    "        cat (\"Table was created successfully.\\n\")\n",
    "    }"
   ]
  },
  {
   "cell_type": "code",
   "execution_count": 3,
   "metadata": {},
   "outputs": [
    {
     "data": {
      "text/html": [
       "<style>\n",
       ".list-inline {list-style: none; margin:0; padding: 0}\n",
       ".list-inline>li {display: inline-block}\n",
       ".list-inline>li:not(:last-child)::after {content: \"\\00b7\"; padding: 0 .5ex}\n",
       "</style>\n",
       "<ol class=list-inline><li>'BIKE_SHARING_SYSTEMS'</li><li>'CITIES_WEATHER_FORECAST'</li><li>'SEOUL_BIKE_SHARING'</li><li>'WORLD_CITIES'</li></ol>\n"
      ],
      "text/latex": [
       "\\begin{enumerate*}\n",
       "\\item 'BIKE\\_SHARING\\_SYSTEMS'\n",
       "\\item 'CITIES\\_WEATHER\\_FORECAST'\n",
       "\\item 'SEOUL\\_BIKE\\_SHARING'\n",
       "\\item 'WORLD\\_CITIES'\n",
       "\\end{enumerate*}\n"
      ],
      "text/markdown": [
       "1. 'BIKE_SHARING_SYSTEMS'\n",
       "2. 'CITIES_WEATHER_FORECAST'\n",
       "3. 'SEOUL_BIKE_SHARING'\n",
       "4. 'WORLD_CITIES'\n",
       "\n",
       "\n"
      ],
      "text/plain": [
       "[1] \"BIKE_SHARING_SYSTEMS\"    \"CITIES_WEATHER_FORECAST\"\n",
       "[3] \"SEOUL_BIKE_SHARING\"      \"WORLD_CITIES\"           "
      ]
     },
     "metadata": {},
     "output_type": "display_data"
    }
   ],
   "source": [
    "dbListTables(conn)"
   ]
  },
  {
   "cell_type": "code",
   "execution_count": 4,
   "metadata": {},
   "outputs": [
    {
     "name": "stderr",
     "output_type": "stream",
     "text": [
      "Warning message in file(file, \"rt\"):\n",
      "“cannot open file 'CITIES_WEATHER_FORECAST': No such file or directory”"
     ]
    },
    {
     "ename": "ERROR",
     "evalue": "Error in file(file, \"rt\"): cannot open the connection\n",
     "execution_count": 4,
     "output_type": "error",
     "traceback": [
      "Error in file(file, \"rt\"): cannot open the connection\nTraceback:\n",
      "1. read.csv(\"CITIES_WEATHER_FORECAST\")",
      "2. read.table(file = file, header = header, sep = sep, quote = quote, \n .     dec = dec, fill = fill, comment.char = comment.char, ...)",
      "3. file(file, \"rt\")"
     ]
    }
   ],
   "source": [
    "# seouldf <- read.csv(' \"https://cf-courses-data.s3.us.cloud-object-storage.appdomain.cloud/IBMDeveloperSkillsNetwork-RP0321EN-SkillsNetwork/labs/datasets/seoul_bike_sharing.csv\"  ')\n",
    "city_weatherdf <- read.csv('CITIES_WEATHER_FORECAST')\n",
    "bike_sharedf <- read.csv('BIKE_SHARING_SYSTEMS')\n",
    "world_citydf <- read.csv('WORLD_CITIES')\n",
    "head(seouldf)\n",
    "head(city_weatherdf)\n",
    "head(bike_sharedf)\n",
    "head( world_citydf)"
   ]
  },
  {
   "cell_type": "code",
   "execution_count": null,
   "metadata": {},
   "outputs": [],
   "source": [
    "dbWriteTable(conn, \"SEOUL_BIKE_SHARING\", seouldf, overwrite=TRUE, header = TRUE)\n",
    "dbWriteTable(conn, \"CITIES_WEATHER_FORECAST\", city_weatherdf, overwrite=TRUE, header = TRUE)\n",
    "dbWriteTable(conn, \"BIKE_SHARING_SYSTEMS\", bike_sharedf, overwrite=TRUE, header = TRUE)\n",
    "dbWriteTable(conn,\"WORLD_CITIES\" , world_citydf, overwrite=TRUE, header = TRUE)"
   ]
  },
  {
   "cell_type": "markdown",
   "metadata": {},
   "source": [
    "\n",
    "## Task 1 - Record Count\n",
    "#### Determine how many records are in the seoul_bike_sharing dataset.\n"
   ]
  },
  {
   "cell_type": "markdown",
   "metadata": {},
   "source": [
    "### Solution 1\n"
   ]
  },
  {
   "cell_type": "code",
   "execution_count": null,
   "metadata": {},
   "outputs": [],
   "source": [
    "# provide your solution here\n",
    "dbGetQuery(conn,'SELECT COUNT(SEASON) FROM SEOUL_BIKE_SHARING')"
   ]
  },
  {
   "cell_type": "markdown",
   "metadata": {},
   "source": [
    "## Task 2 - Operational Hours\n",
    "#### Determine how many hours had non-zero rented bike count.\n"
   ]
  },
  {
   "cell_type": "markdown",
   "metadata": {},
   "source": [
    "### Solution 2\n"
   ]
  },
  {
   "cell_type": "code",
   "execution_count": null,
   "metadata": {},
   "outputs": [],
   "source": [
    "# provide your solution here\n",
    "dbGetQuery(conn,'SELECT COUNT(HOURS) FROM SEOUL_BIKE_SHARING \n",
    "WHERE RENTED_BIKE_COUNT<>0')"
   ]
  },
  {
   "cell_type": "markdown",
   "metadata": {},
   "source": [
    "## Task 3 - Weather Outlook\n",
    "#### Query the the weather forecast for Seoul over the next 3 hours.\n",
    "Recall that the records in the CITIES_WEATHER_FORECAST dataset are 3 hours apart, so we just need the first record from the query.\n"
   ]
  },
  {
   "cell_type": "markdown",
   "metadata": {},
   "source": [
    "### Solution 3\n"
   ]
  },
  {
   "cell_type": "code",
   "execution_count": null,
   "metadata": {},
   "outputs": [],
   "source": [
    "# provide your solution here\n",
    "dbGetQuery(conn, 'SELECT WEATHER , CURRENT(FORECAST_DATETIME) FROM CITIES_WEATHER_FORECAST\n",
    "WHERE  CITY=\"Seoul\" ')"
   ]
  },
  {
   "cell_type": "markdown",
   "metadata": {},
   "source": [
    "## Task 4 - Seasons\n",
    "#### Find which seasons are included in the seoul bike sharing dataset.\n"
   ]
  },
  {
   "cell_type": "markdown",
   "metadata": {},
   "source": [
    "### Solution 4\n"
   ]
  },
  {
   "cell_type": "code",
   "execution_count": null,
   "metadata": {},
   "outputs": [],
   "source": [
    "# provide your solution here\n",
    "dbGetQuery(conn,'SELECT DISTINCT SEASONS FROM SEOUL BIKE SHARING')"
   ]
  },
  {
   "cell_type": "markdown",
   "metadata": {},
   "source": [
    "## Task 5 - Date Range\n",
    "#### Find the first and last dates in the Seoul Bike Sharing dataset.\n"
   ]
  },
  {
   "cell_type": "markdown",
   "metadata": {},
   "source": [
    "### Solution 5\n"
   ]
  },
  {
   "cell_type": "code",
   "execution_count": null,
   "metadata": {},
   "outputs": [],
   "source": [
    "# provide your solution here\n",
    "dbGetQuery(conn,'SELECT min(DATE) FIRST_DATE, max(DATE) LAST_DATE FROM SEOUL BIKE SHARING')"
   ]
  },
  {
   "cell_type": "markdown",
   "metadata": {},
   "source": [
    "## Task 6 - Subquery - 'all-time high'\n",
    "#### determine which date and hour had the most bike rentals.\n"
   ]
  },
  {
   "cell_type": "markdown",
   "metadata": {},
   "source": [
    "### Solution 6\n"
   ]
  },
  {
   "cell_type": "code",
   "execution_count": null,
   "metadata": {},
   "outputs": [],
   "source": [
    "# provide your solution here\n",
    "dbGetQuery(conn,'SELECT MAX(RENTED_BIKE_COUNT),DATE,HOUR FROM SEOUL_BIKE_SHARING')"
   ]
  },
  {
   "cell_type": "markdown",
   "metadata": {},
   "source": [
    "## Task 7 - Hourly popularity and temperature by season\n",
    "#### Determine the average hourly temperature and the average number of bike rentals per hour over each season. List the top ten results by average bike count.\n"
   ]
  },
  {
   "cell_type": "markdown",
   "metadata": {},
   "source": [
    "### Solution 7\n"
   ]
  },
  {
   "cell_type": "code",
   "execution_count": null,
   "metadata": {},
   "outputs": [],
   "source": [
    "# provide your solution here\n",
    "dbGetQuery(conn,'SELECT SEASONS, HOUR,  AVG(TEMPERATURE), AVG(RENTED_BIKE_COUNT) AS AVG_BIKE_COUNT FROM  SEOUL_BIKE_SHARING\n",
    "GROUP BY SEASONS, HOUR\n",
    "ORDER BY AVG_BIKE_COUNT DESC LIMIT 10')"
   ]
  },
  {
   "cell_type": "markdown",
   "metadata": {},
   "source": [
    "## Task 8 - Rental Seasonality\n",
    "#### Find the average hourly bike count during each season. \n",
    "Also include the minimum, maximum, and standard deviation of the hourly bike count for each season. \n",
    "\n",
    "> Hint : Use the SQRT(AVG(col*col) - AVG(col)*AVG(col) ) function where col refers to your column name for finding the standard deviation\n"
   ]
  },
  {
   "cell_type": "markdown",
   "metadata": {},
   "source": [
    "### Solution 8\n"
   ]
  },
  {
   "cell_type": "code",
   "execution_count": null,
   "metadata": {},
   "outputs": [],
   "source": [
    "# provide your solution here\n",
    "dbGetQuery(conn,'SELECT SEASONS, AVG(RENTED_BIKE_COUNT) AS AVG_BIKE_COUNT,\n",
    "\n",
    "        MIN(RENTED_BIKE_COUNT) as MIN_BIKE_COUNT,\n",
    "\n",
    "        MAX(RENTED_BIKE_COUNT) as MAX_BIKE_COUNT,\n",
    "\n",
    "        STDDEV(RENTED_BIKE_COUNT) as STD_BIKE_COUNT\n",
    "\n",
    "FROM  SEOUL_BIKE_SHARING\n",
    "\n",
    "GROUP BY SEASONS\n",
    "\n",
    "ORDER BY AVG_BIKE_COUNT DESC')"
   ]
  },
  {
   "cell_type": "markdown",
   "metadata": {},
   "source": [
    "Let's explore a bit and see what might be the most significant contributing factors in terms of the provided data.\n"
   ]
  },
  {
   "cell_type": "markdown",
   "metadata": {},
   "source": [
    "## Task 9 - Weather Seasonality\n",
    "#### Consider the weather over each season. On average, what were the TEMPERATURE, HUMIDITY, WIND_SPEED, VISIBILITY, DEW_POINT_TEMPERATURE, SOLAR_RADIATION, RAINFALL, and SNOWFALL per season?\n",
    "Include the average bike count as well , and rank the results by average bike count so you can see if it is correlated with the weather at all. \n"
   ]
  },
  {
   "cell_type": "markdown",
   "metadata": {},
   "source": [
    "### Solution 9\n"
   ]
  },
  {
   "cell_type": "code",
   "execution_count": null,
   "metadata": {},
   "outputs": [],
   "source": [
    "# provide your solution here\n",
    "dbGetQuery(conn,\"SELECT SEASONS,\n",
    "(RENTED_BIKE_COUNT/HOUR) AS AVERAGE_BIKE_COUNT,\n",
    "(TEMPERATURE/HOUR) AS_HOURLY_TEMP,\n",
    "(HUMIDITY/HOUR) ASAVG_HUMIDITY,\n",
    "(WIND_SPEED/HOUR)B AS AVG_WINDSPEED,\n",
    "(VISIBILITY/HOUR) AS AVG_VISIBILITY,\n",
    "(DEW_POINT_TEMPERATURE/HOUR) AS AVG_DP,\n",
    "(SOLAR_RADIATION/HOUR) AS AVG_SOLARRAD,\n",
    "(RAINFALL/HOUR) AS AVG_RAINFALL,\n",
    "(SNOWFALL/HOUR) AS AVG SNOWFALL  FROM SEOUL_BIKE_SHARING\n",
    "WHERE HOUR>0\n",
    "ORDER BY AVERAGE BIKE_COUNT DESC\")\n"
   ]
  },
  {
   "cell_type": "markdown",
   "metadata": {},
   "source": [
    "## Task 10 - Total Bike Count and City Info for Seoul\n",
    "#### Use an implicit join across the WORLD_CITIES and the BIKE_SHARING_SYSTEMS tables to determine the total number of bikes avaialble in Seoul, plus the following city information about Seoul: CITY, COUNTRY, LAT, LON, POPULATION, in a single view.\n",
    "Notice that in this case, the CITY column will work for the WORLD_CITIES table, but in general you would have to use the CITY_ASCII column.\n"
   ]
  },
  {
   "cell_type": "markdown",
   "metadata": {},
   "source": [
    "### Solution 10\n"
   ]
  },
  {
   "cell_type": "code",
   "execution_count": null,
   "metadata": {},
   "outputs": [],
   "source": [
    "# provide your solution here\n",
    "dbGetQuery(conn,'SELECT COUNT(B.BICYCLES) AS TOTAL_BIKECOUNT,W.COUNTRY,W.CITY,W.LAT,W.LNG,W.POPULATION \n",
    "FROM BIKE_SHARING_SYSTEMS B, WORLD_CITIES W\n",
    "WHERE B.CITY=\"Seoul\" AND W.CITY=\"Seoul\"')\n"
   ]
  },
  {
   "cell_type": "markdown",
   "metadata": {},
   "source": [
    "## Task 11 - Find all city names and coordinates with comparable bike scale to Seoul's bike sharing system\n",
    "#### Find all cities with total bike counts between 15000 and 20000. Return the city and country names, plus the coordinates (LAT, LNG), population, and number of bicycles for each city.\n",
    "Later we will ask you to visualize these similar cities on leaflet, with some weather data.\n"
   ]
  },
  {
   "cell_type": "markdown",
   "metadata": {},
   "source": [
    "### Solution 11\n"
   ]
  },
  {
   "cell_type": "code",
   "execution_count": null,
   "metadata": {},
   "outputs": [],
   "source": [
    "# provide your solution hereLAT, LAN and POPULATION: \n",
    "\n",
    "dbGetQuery(conn,'SELECT COUNT(B.BICYCLES) , W.CITY,W.COUNTRY,W.LAT,W.LNG,W.POPULATION FROM BIKE_SHARING_SYSTEMS B, WORLD_CITIES W\n",
    "WHERE B.BICYCLES >= 15000 AND B.BICYCLES <=20000 AND \n",
    "B.CITY = W.CITY')"
   ]
  },
  {
   "cell_type": "code",
   "execution_count": null,
   "metadata": {},
   "outputs": [],
   "source": [
    "close(conn)"
   ]
  },
  {
   "cell_type": "markdown",
   "metadata": {},
   "source": [
    "## Author(s)\n",
    "\n",
    "<h4> Jeff Grossman </h4>\n",
    "<h4> Lakshmi Holla </h4>\n",
    "\n",
    "\n",
    "## Other Contributor(s)\n",
    "\n",
    "<h4>  Malika Singla </h4>\n",
    "\n",
    "## Change log\n",
    "\n",
    "| Date (YYYY-MM-DD) | Version | Changed By | Change Description                 |\n",
    "| ----------------- | ------- | ---------- | ---------------------------------- |\n",
    "| 2022-03-03        | 1.0     |Lakshmi Holla  | Created lab using sqlite3          |\n",
    "\n",
    "## <h3 align=\"center\"> © IBM Corporation 2022. All rights reserved. <h3/>\n"
   ]
  }
 ],
 "metadata": {
  "kernelspec": {
   "display_name": "R",
   "language": "R",
   "name": "conda-env-r-r"
  },
  "language_info": {
   "codemirror_mode": "r",
   "file_extension": ".r",
   "mimetype": "text/x-r-source",
   "name": "R",
   "pygments_lexer": "r",
   "version": "3.5.1"
  }
 },
 "nbformat": 4,
 "nbformat_minor": 4
}
