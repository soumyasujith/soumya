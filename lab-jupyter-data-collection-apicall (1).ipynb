{
 "cells": [
  {
   "cell_type": "markdown",
   "metadata": {},
   "source": [
    "<center>\n",
    "<img src=\"https://cf-courses-data.s3.us.cloud-object-storage.appdomain.cloud/IBMDeveloperSkillsNetwork-RP0321EN-SkillsNetwork/labs/module_1/images/SN_web_lightmode.png\" width=\"300\"> \n",
    "</center>\n"
   ]
  },
  {
   "cell_type": "markdown",
   "metadata": {},
   "source": [
    "<h1>OpenWeather APIs Calls</h1>\n",
    "\n",
    "Estimated time needed: **40** minutes\n"
   ]
  },
  {
   "cell_type": "markdown",
   "metadata": {},
   "source": [
    "## Lab Overview:\n",
    "\n",
    "In this lab, you will be collecting real-time current and forecasted weather data for cities using the **OpenWeather API**. It can give you current weather data for any location including over 200,000 cities and 5 day forecasts for free (with limited API usage). You just need to use HTTP requests to call those weather APIs and get the weather data.\n",
    "\n",
    "You will be given instructions to set up a free OpenWeather API account with an API key for authentication. Then, you will be shown, with code examples, how to get the current weather for a given city. After you are familiar with OpenWeather API, you will be asked to get 5-day forecast data for a list of cities.\n"
   ]
  },
  {
   "cell_type": "markdown",
   "metadata": {},
   "source": [
    "## Setup OpenWeather API account\n"
   ]
  },
  {
   "cell_type": "markdown",
   "metadata": {},
   "source": [
    "You can create an OpenWeather API account [here](https://home.openweathermap.org/users/sign_up?utm_medium=Exinfluencer&utm_source=Exinfluencer&utm_content=000026UJ&utm_term=10006555&utm_id=NA-SkillsNetwork-Channel-SkillsNetworkCoursesIBMDeveloperSkillsNetworkRP0321ENSkillsNetwork878-2022-01-01). After your account has been created and verified, you can go to Account -> My API Keys:\n"
   ]
  },
  {
   "cell_type": "markdown",
   "metadata": {},
   "source": [
    "<a href=\"https://cognitiveclass.ai/?utm_medium=Exinfluencer&utm_source=Exinfluencer&utm_content=000026UJ&utm_term=10006555&utm_id=NA-SkillsNetwork-Channel-SkillsNetworkCoursesIBMDeveloperSkillsNetworkRP0321ENSkillsNetwork878-2022-01-01\">\n",
    "    <img src=\"https://cf-courses-data.s3.us.cloud-object-storage.appdomain.cloud/IBMDeveloperSkillsNetwork-RP0321EN-SkillsNetwork/labs/module_1/images/l2-openweather-apikey.png\" width=\"400\" align=\"center\">\n",
    "</a>\n"
   ]
  },
  {
   "cell_type": "markdown",
   "metadata": {},
   "source": [
    "and find your API key here:\n"
   ]
  },
  {
   "cell_type": "markdown",
   "metadata": {},
   "source": [
    "<a href=\"https://cognitiveclass.ai/?utm_medium=Exinfluencer&utm_source=Exinfluencer&utm_content=000026UJ&utm_term=10006555&utm_id=NA-SkillsNetwork-Channel-SkillsNetworkCoursesIBMDeveloperSkillsNetworkRP0321ENSkillsNetwork878-2022-01-01\">\n",
    "    <img src=\"https://cf-courses-data.s3.us.cloud-object-storage.appdomain.cloud/IBMDeveloperSkillsNetwork-RP0321EN-SkillsNetwork/labs/module_1/images/l2-openweather-apikey-value.png\" width=\"400\" align=\"center\">\n",
    "</a>\n"
   ]
  },
  {
   "cell_type": "markdown",
   "metadata": {},
   "source": [
    "Now mark down your generated API key, which will be used to authenticate your HTTP requests to OpenWeather API.\n",
    "\n",
    "Note that a new API key may take some time to be activated. You may quickly try the following URL using a web browser.\n",
    "\n",
    "With the `{your_api_key}` URL parameter replaced by your own API key and go to the following URL:\n",
    "\n",
    "https://api.openweathermap.org/data/2.5/weather?q=Seoul&appid={your_api_key}\n"
   ]
  },
  {
   "cell_type": "markdown",
   "metadata": {},
   "source": [
    "\n",
    "until you see some weather data returned (instead of 401 or other error status), similar to the following JSON result:\n",
    "\n",
    "```\n",
    "{\"coord\":{\"lon\":126.9778,\"lat\":37.5683},\n",
    "\"weather\":[{\"id\":800,\"main\":\"Clear\",\"description\":\"clear sky\",\"icon\":\"01n\"}],\n",
    "\"base\":\"stations\",\n",
    "\"main\":{\"temp\":285.16,\"feels_like\":284.04,\"temp_min\":284.15,\"temp_max\":287.15,\"pressure\":1020,\"humidity\":62},\n",
    "\"visibility\":10000,\n",
    "\"wind\":{\"speed\":1.03,\"deg\":220},\"clouds\":{\"all\":0},\"dt\":1617718307,\"sys\":{\"type\":1,\"id\":8105,\"country\":\"KR\",\"sunrise\":1617657021,\"sunset\":1617703103},\"timezone\":32400,\"id\":1835848,\"name\":\"Seoul\",\"cod\":200}\n",
    "```\n"
   ]
  },
  {
   "cell_type": "markdown",
   "metadata": {},
   "source": [
    "## Coding Practice: Get the current weather data for a city using OpenWeather API\n"
   ]
  },
  {
   "cell_type": "markdown",
   "metadata": {},
   "source": [
    "First import `httr` library\n"
   ]
  },
  {
   "cell_type": "code",
   "execution_count": 1,
   "metadata": {},
   "outputs": [
    {
     "name": "stderr",
     "output_type": "stream",
     "text": [
      "Updating HTML index of packages in '.Library'\n",
      "Making 'packages.html' ... done\n",
      "Updating HTML index of packages in '.Library'\n",
      "Making 'packages.html' ... done\n"
     ]
    }
   ],
   "source": [
    "install.packages(\"httr\")\n",
    "install.packages(\"rvest\")"
   ]
  },
  {
   "cell_type": "code",
   "execution_count": 14,
   "metadata": {},
   "outputs": [],
   "source": [
    "# Check if need to install rvest` library\n",
    "require(\"httr\")\n",
    "\n",
    "library(httr)"
   ]
  },
  {
   "cell_type": "markdown",
   "metadata": {},
   "source": [
    "The API base URL to get current weather is https://api.openweathermap.org/data/2.5/weather\n"
   ]
  },
  {
   "cell_type": "code",
   "execution_count": 2,
   "metadata": {},
   "outputs": [],
   "source": [
    "# URL for Current Weather API\n",
    "current_weather_url <- 'https://api.openweathermap.org/data/2.5/weather'"
   ]
  },
  {
   "cell_type": "markdown",
   "metadata": {},
   "source": [
    "Next, let's create a list to hold URL parameters for current weather API\n"
   ]
  },
  {
   "cell_type": "code",
   "execution_count": 3,
   "metadata": {},
   "outputs": [],
   "source": [
    "# need to be replaced by your real API key\n",
    "your_api_key <- \"34d6963066330811186aa630ecf722a5\"\n",
    "# Input `q` is the city name\n",
    "# Input `appid` is your API KEY, \n",
    "# Input `units` are preferred units such as Metric or Imperial\n",
    "current_query <- list(q = \"Seoul\", appid = your_api_key, units=\"metric\")"
   ]
  },
  {
   "cell_type": "markdown",
   "metadata": {},
   "source": [
    "Now we can make a HTTP request to the current weather API\n"
   ]
  },
  {
   "cell_type": "code",
   "execution_count": 4,
   "metadata": {},
   "outputs": [],
   "source": [
    "response <- GET(current_weather_url, query=current_query)"
   ]
  },
  {
   "cell_type": "markdown",
   "metadata": {},
   "source": [
    "If we check the response type, we can see it is in JSON format\n"
   ]
  },
  {
   "cell_type": "code",
   "execution_count": 5,
   "metadata": {},
   "outputs": [
    {
     "data": {
      "text/html": [
       "'application/json'"
      ],
      "text/latex": [
       "'application/json'"
      ],
      "text/markdown": [
       "'application/json'"
      ],
      "text/plain": [
       "[1] \"application/json\""
      ]
     },
     "metadata": {},
     "output_type": "display_data"
    }
   ],
   "source": [
    "http_type(response)"
   ]
  },
  {
   "cell_type": "markdown",
   "metadata": {},
   "source": [
    "JSON is an open standard file and data interchange format that uses human-readable text to store and transmit data objects. To read the JSON HTTP response, you can use the `content()` function to parse it as a named list in R.\n"
   ]
  },
  {
   "cell_type": "code",
   "execution_count": 6,
   "metadata": {},
   "outputs": [],
   "source": [
    "json_result <- content(response, as=\"parsed\")"
   ]
  },
  {
   "cell_type": "markdown",
   "metadata": {},
   "source": [
    "If you use the `class()` function, you can see it is a R `List` object\n"
   ]
  },
  {
   "cell_type": "code",
   "execution_count": 7,
   "metadata": {},
   "outputs": [
    {
     "data": {
      "text/html": [
       "'list'"
      ],
      "text/latex": [
       "'list'"
      ],
      "text/markdown": [
       "'list'"
      ],
      "text/plain": [
       "[1] \"list\""
      ]
     },
     "metadata": {},
     "output_type": "display_data"
    }
   ],
   "source": [
    "class(json_result)"
   ]
  },
  {
   "cell_type": "markdown",
   "metadata": {},
   "source": [
    "Now let's print the JSON result.\n"
   ]
  },
  {
   "cell_type": "code",
   "execution_count": 8,
   "metadata": {},
   "outputs": [
    {
     "data": {
      "text/html": [
       "<dl>\n",
       "\t<dt>$coord</dt>\n",
       "\t\t<dd><dl>\n",
       "\t<dt>$lon</dt>\n",
       "\t\t<dd>126.9778</dd>\n",
       "\t<dt>$lat</dt>\n",
       "\t\t<dd>37.5683</dd>\n",
       "</dl>\n",
       "</dd>\n",
       "\t<dt>$weather</dt>\n",
       "\t\t<dd><ol>\n",
       "\t<li><dl>\n",
       "\t<dt>$id</dt>\n",
       "\t\t<dd>721</dd>\n",
       "\t<dt>$main</dt>\n",
       "\t\t<dd>'Haze'</dd>\n",
       "\t<dt>$description</dt>\n",
       "\t\t<dd>'haze'</dd>\n",
       "\t<dt>$icon</dt>\n",
       "\t\t<dd>'50d'</dd>\n",
       "</dl>\n",
       "</li>\n",
       "</ol>\n",
       "</dd>\n",
       "\t<dt>$base</dt>\n",
       "\t\t<dd>'stations'</dd>\n",
       "\t<dt>$main</dt>\n",
       "\t\t<dd><dl>\n",
       "\t<dt>$temp</dt>\n",
       "\t\t<dd>7.43</dd>\n",
       "\t<dt>$feels_like</dt>\n",
       "\t\t<dd>4.78</dd>\n",
       "\t<dt>$temp_min</dt>\n",
       "\t\t<dd>4.69</dd>\n",
       "\t<dt>$temp_max</dt>\n",
       "\t\t<dd>8.66</dd>\n",
       "\t<dt>$pressure</dt>\n",
       "\t\t<dd>1021</dd>\n",
       "\t<dt>$humidity</dt>\n",
       "\t\t<dd>47</dd>\n",
       "</dl>\n",
       "</dd>\n",
       "\t<dt>$visibility</dt>\n",
       "\t\t<dd>6000</dd>\n",
       "\t<dt>$wind</dt>\n",
       "\t\t<dd><dl>\n",
       "\t<dt>$speed</dt>\n",
       "\t\t<dd>4.12</dd>\n",
       "\t<dt>$deg</dt>\n",
       "\t\t<dd>320</dd>\n",
       "</dl>\n",
       "</dd>\n",
       "\t<dt>$clouds</dt>\n",
       "\t\t<dd><strong>$all</strong> = 75</dd>\n",
       "\t<dt>$dt</dt>\n",
       "\t\t<dd>1675669068</dd>\n",
       "\t<dt>$sys</dt>\n",
       "\t\t<dd><dl>\n",
       "\t<dt>$type</dt>\n",
       "\t\t<dd>1</dd>\n",
       "\t<dt>$id</dt>\n",
       "\t\t<dd>8105</dd>\n",
       "\t<dt>$country</dt>\n",
       "\t\t<dd>'KR'</dd>\n",
       "\t<dt>$sunrise</dt>\n",
       "\t\t<dd>1675636321</dd>\n",
       "\t<dt>$sunset</dt>\n",
       "\t\t<dd>1675674013</dd>\n",
       "</dl>\n",
       "</dd>\n",
       "\t<dt>$timezone</dt>\n",
       "\t\t<dd>32400</dd>\n",
       "\t<dt>$id</dt>\n",
       "\t\t<dd>1835848</dd>\n",
       "\t<dt>$name</dt>\n",
       "\t\t<dd>'Seoul'</dd>\n",
       "\t<dt>$cod</dt>\n",
       "\t\t<dd>200</dd>\n",
       "</dl>\n"
      ],
      "text/latex": [
       "\\begin{description}\n",
       "\\item[\\$coord] \\begin{description}\n",
       "\\item[\\$lon] 126.9778\n",
       "\\item[\\$lat] 37.5683\n",
       "\\end{description}\n",
       "\n",
       "\\item[\\$weather] \\begin{enumerate}\n",
       "\\item \\begin{description}\n",
       "\\item[\\$id] 721\n",
       "\\item[\\$main] 'Haze'\n",
       "\\item[\\$description] 'haze'\n",
       "\\item[\\$icon] '50d'\n",
       "\\end{description}\n",
       "\n",
       "\\end{enumerate}\n",
       "\n",
       "\\item[\\$base] 'stations'\n",
       "\\item[\\$main] \\begin{description}\n",
       "\\item[\\$temp] 7.43\n",
       "\\item[\\$feels\\_like] 4.78\n",
       "\\item[\\$temp\\_min] 4.69\n",
       "\\item[\\$temp\\_max] 8.66\n",
       "\\item[\\$pressure] 1021\n",
       "\\item[\\$humidity] 47\n",
       "\\end{description}\n",
       "\n",
       "\\item[\\$visibility] 6000\n",
       "\\item[\\$wind] \\begin{description}\n",
       "\\item[\\$speed] 4.12\n",
       "\\item[\\$deg] 320\n",
       "\\end{description}\n",
       "\n",
       "\\item[\\$clouds] \\textbf{\\$all} = 75\n",
       "\\item[\\$dt] 1675669068\n",
       "\\item[\\$sys] \\begin{description}\n",
       "\\item[\\$type] 1\n",
       "\\item[\\$id] 8105\n",
       "\\item[\\$country] 'KR'\n",
       "\\item[\\$sunrise] 1675636321\n",
       "\\item[\\$sunset] 1675674013\n",
       "\\end{description}\n",
       "\n",
       "\\item[\\$timezone] 32400\n",
       "\\item[\\$id] 1835848\n",
       "\\item[\\$name] 'Seoul'\n",
       "\\item[\\$cod] 200\n",
       "\\end{description}\n"
      ],
      "text/markdown": [
       "$coord\n",
       ":   $lon\n",
       ":   126.9778\n",
       "$lat\n",
       ":   37.5683\n",
       "\n",
       "\n",
       "\n",
       "$weather\n",
       ":   1. $id\n",
       ":   721\n",
       "$main\n",
       ":   'Haze'\n",
       "$description\n",
       ":   'haze'\n",
       "$icon\n",
       ":   '50d'\n",
       "\n",
       "\n",
       "\n",
       "\n",
       "\n",
       "\n",
       "$base\n",
       ":   'stations'\n",
       "$main\n",
       ":   $temp\n",
       ":   7.43\n",
       "$feels_like\n",
       ":   4.78\n",
       "$temp_min\n",
       ":   4.69\n",
       "$temp_max\n",
       ":   8.66\n",
       "$pressure\n",
       ":   1021\n",
       "$humidity\n",
       ":   47\n",
       "\n",
       "\n",
       "\n",
       "$visibility\n",
       ":   6000\n",
       "$wind\n",
       ":   $speed\n",
       ":   4.12\n",
       "$deg\n",
       ":   320\n",
       "\n",
       "\n",
       "\n",
       "$clouds\n",
       ":   **$all** = 75\n",
       "$dt\n",
       ":   1675669068\n",
       "$sys\n",
       ":   $type\n",
       ":   1\n",
       "$id\n",
       ":   8105\n",
       "$country\n",
       ":   'KR'\n",
       "$sunrise\n",
       ":   1675636321\n",
       "$sunset\n",
       ":   1675674013\n",
       "\n",
       "\n",
       "\n",
       "$timezone\n",
       ":   32400\n",
       "$id\n",
       ":   1835848\n",
       "$name\n",
       ":   'Seoul'\n",
       "$cod\n",
       ":   200\n",
       "\n",
       "\n"
      ],
      "text/plain": [
       "$coord\n",
       "$coord$lon\n",
       "[1] 126.9778\n",
       "\n",
       "$coord$lat\n",
       "[1] 37.5683\n",
       "\n",
       "\n",
       "$weather\n",
       "$weather[[1]]\n",
       "$weather[[1]]$id\n",
       "[1] 721\n",
       "\n",
       "$weather[[1]]$main\n",
       "[1] \"Haze\"\n",
       "\n",
       "$weather[[1]]$description\n",
       "[1] \"haze\"\n",
       "\n",
       "$weather[[1]]$icon\n",
       "[1] \"50d\"\n",
       "\n",
       "\n",
       "\n",
       "$base\n",
       "[1] \"stations\"\n",
       "\n",
       "$main\n",
       "$main$temp\n",
       "[1] 7.43\n",
       "\n",
       "$main$feels_like\n",
       "[1] 4.78\n",
       "\n",
       "$main$temp_min\n",
       "[1] 4.69\n",
       "\n",
       "$main$temp_max\n",
       "[1] 8.66\n",
       "\n",
       "$main$pressure\n",
       "[1] 1021\n",
       "\n",
       "$main$humidity\n",
       "[1] 47\n",
       "\n",
       "\n",
       "$visibility\n",
       "[1] 6000\n",
       "\n",
       "$wind\n",
       "$wind$speed\n",
       "[1] 4.12\n",
       "\n",
       "$wind$deg\n",
       "[1] 320\n",
       "\n",
       "\n",
       "$clouds\n",
       "$clouds$all\n",
       "[1] 75\n",
       "\n",
       "\n",
       "$dt\n",
       "[1] 1675669068\n",
       "\n",
       "$sys\n",
       "$sys$type\n",
       "[1] 1\n",
       "\n",
       "$sys$id\n",
       "[1] 8105\n",
       "\n",
       "$sys$country\n",
       "[1] \"KR\"\n",
       "\n",
       "$sys$sunrise\n",
       "[1] 1675636321\n",
       "\n",
       "$sys$sunset\n",
       "[1] 1675674013\n",
       "\n",
       "\n",
       "$timezone\n",
       "[1] 32400\n",
       "\n",
       "$id\n",
       "[1] 1835848\n",
       "\n",
       "$name\n",
       "[1] \"Seoul\"\n",
       "\n",
       "$cod\n",
       "[1] 200\n"
      ]
     },
     "metadata": {},
     "output_type": "display_data"
    }
   ],
   "source": [
    "json_result"
   ]
  },
  {
   "cell_type": "markdown",
   "metadata": {},
   "source": [
    "It contains very detailed weather data about the city of `Seoul`. Feel free to try other cities as well. We need to convert the named list to a data frame so that we can use data frame operations to process the data. Below is a simple example, which you may implement your own way to convert it to a data frame.\n"
   ]
  },
  {
   "cell_type": "code",
   "execution_count": 9,
   "metadata": {},
   "outputs": [],
   "source": [
    "# Create some empty vectors to hold data temporarily\n",
    "weather <- c()\n",
    "visibility <- c()\n",
    "temp <- c()\n",
    "temp_min <- c()\n",
    "temp_max <- c()\n",
    "pressure <- c()\n",
    "humidity <- c()\n",
    "wind_speed <- c()\n",
    "wind_deg <- c()\n"
   ]
  },
  {
   "cell_type": "markdown",
   "metadata": {},
   "source": [
    "Now assign the values in the `json_result` list into different vectors\n"
   ]
  },
  {
   "cell_type": "code",
   "execution_count": 10,
   "metadata": {},
   "outputs": [],
   "source": [
    "# $weather is also a list with one element, its $main element indicates the weather status such as clear or rain\n",
    "weather <- c(weather, json_result$weather[[1]]$main)\n",
    "# Get Visibility\n",
    "visibility <- c(visibility, json_result$visibility)\n",
    "# Get current temperature \n",
    "temp <- c(temp, json_result$main$temp)\n",
    "# Get min temperature \n",
    "temp_min <- c(temp_min, json_result$main$temp_min)\n",
    "# Get max temperature \n",
    "temp_max <- c(temp_max, json_result$main$temp_max)\n",
    "# Get pressure\n",
    "pressure <- c(pressure, json_result$main$pressure)\n",
    "# Get humidity\n",
    "humidity <- c(humidity, json_result$main$humidity)\n",
    "# Get wind speed\n",
    "wind_speed <- c(wind_speed, json_result$wind$speed)\n",
    "# Get wind direction\n",
    "wind_deg <- c(wind_deg, json_result$wind$deg)\n"
   ]
  },
  {
   "cell_type": "markdown",
   "metadata": {},
   "source": [
    "Combine all vectors as columns of a data frame\n"
   ]
  },
  {
   "cell_type": "code",
   "execution_count": 11,
   "metadata": {},
   "outputs": [],
   "source": [
    "# Combine all vectors\n",
    "weather_data_frame <- data.frame(weather=weather, \n",
    "                                 visibility=visibility, \n",
    "                                 temp=temp, \n",
    "                                 temp_min=temp_min, \n",
    "                                 temp_max=temp_max, \n",
    "                                 pressure=pressure, \n",
    "                                 humidity=humidity, \n",
    "                                 wind_speed=wind_speed, \n",
    "                                 wind_deg=wind_deg)"
   ]
  },
  {
   "cell_type": "code",
   "execution_count": 12,
   "metadata": {},
   "outputs": [
    {
     "name": "stdout",
     "output_type": "stream",
     "text": [
      "  weather visibility temp temp_min temp_max pressure humidity wind_speed\n",
      "1    Haze       6000 7.43     4.69     8.66     1021       47       4.12\n",
      "  wind_deg\n",
      "1      320\n"
     ]
    }
   ],
   "source": [
    "# Check the generated data frame\n",
    "print(weather_data_frame)"
   ]
  },
  {
   "cell_type": "markdown",
   "metadata": {},
   "source": [
    "# TASK:  Get 5-day weather forecasts for a list of cities using the OpenWeather API\n"
   ]
  },
  {
   "cell_type": "markdown",
   "metadata": {},
   "source": [
    "Now you should be familiar with the usage of OpenWeather API. Next, you need to complete a task to get 5-day weather forecasts for a list of cities\n"
   ]
  },
  {
   "cell_type": "markdown",
   "metadata": {},
   "source": [
    "_TODO:_ Write a function to return a data frame containing 5-day weather forecasts for a list of cities\n"
   ]
  },
  {
   "cell_type": "code",
   "execution_count": 15,
   "metadata": {},
   "outputs": [],
   "source": [
    "# Create some empty vectors to hold data temporarily\n",
    "\n",
    "# City name column\n",
    "city <- c()\n",
    "# Weather column, rainy or cloudy, etc\n",
    "weather <- c()\n",
    "# Sky visibility column\n",
    "visibility <- c()\n",
    "# Current temperature column\n",
    "temp <- c()\n",
    "# Max temperature column\n",
    "temp_min <- c()\n",
    "# Min temperature column\n",
    "temp_max <- c()\n",
    "# Pressure column\n",
    "pressure <- c()\n",
    "# Humidity column\n",
    "humidity <- c()\n",
    "# Wind speed column\n",
    "wind_speed <- c()\n",
    "# Wind direction column\n",
    "wind_deg <- c()\n",
    "# Forecast timestamp\n",
    "forecast_datetime <- c()\n",
    "# Season column\n",
    "# Note that for season, you can hard code a season value from levels Spring, Summer, Autumn, and Winter based on your current month.\n",
    "season <- c()\n"
   ]
  },
  {
   "cell_type": "code",
   "execution_count": 17,
   "metadata": {},
   "outputs": [],
   "source": [
    "# Get forecast data for a given city list\n",
    "get_weather_forecaset_by_cities <- function(city_names){\n",
    "    df <- data.frame()\n",
    "    for (city_name in city_names){\n",
    "        # Forecast API URL\n",
    "        forecast_url <- 'https://api.openweathermap.org/data/2.5/forecast'\n",
    "        # Create query parameters\n",
    "        forecast_query <- list(q = city_name, appid = \"34d6963066330811186aa630ecf722a5\", units=\"metric\")\n",
    "        # Make HTTP GET call for the given city\n",
    "        response<- GET(forecast_url, query= forecast_query)\n",
    "        json_result <- content(response, as=\"parsed\")\n",
    "        # Note that the 5-day forecast JSON result is a list of lists. You can print the reponse to check the results\n",
    "        #results <- json_list$list\n",
    "        results <-json_result\n",
    "        # Loop the json result\n",
    "        for(result in results) {\n",
    "         city <- c(city, city_name)\n",
    " weather <- c(weather, result$weather[[1]]$main)\n",
    "# Get Visibility\n",
    "visibility <- c(visibility, result$visibility)\n",
    "# Get current temperature \n",
    "temp <- c(temp,result$main$temp)\n",
    "# Get min temperature \n",
    "temp_min <- c(temp_min,result$main$temp_min)\n",
    "# Get max temperature \n",
    "temp_max <- c(temp_max, result$main$temp_max)\n",
    "# Get pressure\n",
    "pressure <- c(pressure, result$main$pressure)\n",
    "# Get humidity\n",
    "humidity <- c(humidity,result$main$humidity)\n",
    "# Get wind speed\n",
    "wind_speed <- c(wind_speed,result$wind$speed)\n",
    "# Get wind direction\n",
    "wind_deg <- c(wind_deg, result$wind$deg)\n",
    " }\n",
    "                                                                                                                                                      \n",
    "forecast_datetime <- c(forecast_datetime,result$forecast_datetime)\n",
    "season <- c(season,\"spring\")\n",
    "        # Add the R Lists into a data frame\n",
    "\n",
    "                         df <- data.frame(\n",
    "                                 city=city,\n",
    "                                 weather=weather, \n",
    "                                 visibility=visibility, \n",
    "                                 temp=temp, \n",
    "                                 temp_min=temp_min, \n",
    "                                 temp_max=temp_max, \n",
    "                                 pressure=pressure, \n",
    "                                 humidity=humidity, \n",
    "                                 wind_speed=wind_speed, \n",
    "                                 wind_deg=wind_deg,\n",
    "                                 forecast_datetime=forecast_datetime,\n",
    "                                 season=season)\n",
    "\n",
    "    }\n",
    "    \n",
    "    # Return a data frame\n",
    "    return(df)\n",
    "    \n",
    "}\n"
   ]
  },
  {
   "cell_type": "markdown",
   "metadata": {},
   "source": [
    "Complete and call `get_weather_forecaset_by_cities` function with a list of cities, and write the data frame into a csv file called `cities_weather_forecast.csv`\n"
   ]
  },
  {
   "cell_type": "code",
   "execution_count": 18,
   "metadata": {},
   "outputs": [
    {
     "ename": "ERROR",
     "evalue": "Error: $ operator is invalid for atomic vectors\n",
     "execution_count": 18,
     "output_type": "error",
     "traceback": [
      "Error: $ operator is invalid for atomic vectors\nTraceback:\n",
      "1. get_weather_forecaset_by_cities(cities)"
     ]
    }
   ],
   "source": [
    "cities <- c(\"Seoul\", \"Washington, D.C.\", \"Paris\", \"Suzhou\")\n",
    "cities_weather_df <- get_weather_forecaset_by_cities(cities)\n",
    "head(cities_weather_df)    \n"
   ]
  },
  {
   "cell_type": "code",
   "execution_count": 21,
   "metadata": {},
   "outputs": [
    {
     "ename": "ERROR",
     "evalue": "Error in print(cities_weather_df): object 'cities_weather_df' not found\n",
     "execution_count": 21,
     "output_type": "error",
     "traceback": [
      "Error in print(cities_weather_df): object 'cities_weather_df' not found\nTraceback:\n",
      "1. print(cities_weather_df)"
     ]
    }
   ],
   "source": [
    "print(cities_weather_df)"
   ]
  },
  {
   "cell_type": "code",
   "execution_count": 22,
   "metadata": {},
   "outputs": [
    {
     "ename": "ERROR",
     "evalue": "Error in is.data.frame(x): object 'cities_weather_df' not found\n",
     "execution_count": 22,
     "output_type": "error",
     "traceback": [
      "Error in is.data.frame(x): object 'cities_weather_df' not found\nTraceback:\n",
      "1. write.csv(cities_weather_df, \"cities_weather_forecast.csv\", row.names = FALSE)",
      "2. eval.parent(Call)",
      "3. eval(expr, p)",
      "4. eval(expr, p)",
      "5. write.table(cities_weather_df, \"cities_weather_forecast.csv\", \n .     row.names = FALSE, col.names = TRUE, sep = \",\", dec = \".\", \n .     qmethod = \"double\")",
      "6. is.data.frame(x)"
     ]
    }
   ],
   "source": [
    "# Write cities_weather_df to `cities_weather_forecast.csv`\n",
    "write.csv(cities_weather_df, \"cities_weather_forecast.csv\", row.names=FALSE)"
   ]
  },
  {
   "cell_type": "markdown",
   "metadata": {},
   "source": [
    "For more details about HTTP requests with `httr`, please refer to the previous HTTP request notebook here: \n",
    "\n",
    "[HTTP request in R](https://cf-courses-data.s3.us.cloud-object-storage.appdomain.cloud/IBMDeveloperSkillsNetwork-RP0101EN-Coursera/v2/M4_Working_With_Data/lab2_jupyter_http-request.ipynb)\n"
   ]
  },
  {
   "cell_type": "markdown",
   "metadata": {},
   "source": [
    "## TASK: Download datasets as csv files from cloud storage\n"
   ]
  },
  {
   "cell_type": "markdown",
   "metadata": {},
   "source": [
    "The last task of this lab is straightforward: download some aggregated datasets from cloud storage\n"
   ]
  },
  {
   "cell_type": "code",
   "execution_count": null,
   "metadata": {},
   "outputs": [],
   "source": [
    "# Download several datasets\n",
    "\n",
    "# Download some general city information such as name and locations\n",
    "url <- \"https://cf-courses-data.s3.us.cloud-object-storage.appdomain.cloud/IBMDeveloperSkillsNetwork-RP0321EN-SkillsNetwork/labs/datasets/raw_worldcities.csv\"\n",
    "# download the file\n",
    "download.file(url, destfile = \"raw_worldcities.csv\")\n",
    "\n",
    "# Download a specific hourly Seoul bike sharing demand dataset\n",
    "url <- \"https://cf-courses-data.s3.us.cloud-object-storage.appdomain.cloud/IBMDeveloperSkillsNetwork-RP0321EN-SkillsNetwork/labs/datasets/raw_seoul_bike_sharing.csv\"\n",
    "# download the file\n",
    "download.file(url, destfile = \"raw_seoul_bike_sharing.csv\")"
   ]
  },
  {
   "cell_type": "markdown",
   "metadata": {},
   "source": [
    "## Next Step\n"
   ]
  },
  {
   "cell_type": "markdown",
   "metadata": {},
   "source": [
    "Now you should collect all datasets required for this project, all in csv format. Feel free to explore them preliminarily now. However, they are the raw datasets and have to be processed for further data visualization or data analysis.\n",
    "\n",
    "In the next module, you will improve their quality by performing data wrangling tasks.\n"
   ]
  },
  {
   "cell_type": "markdown",
   "metadata": {},
   "source": [
    "## Authors\n",
    "\n",
    "<a href=\"https://www.linkedin.com/in/yan-luo-96288783/?utm_medium=Exinfluencer&utm_source=Exinfluencer&utm_content=000026UJ&utm_term=10006555&utm_id=NA-SkillsNetwork-Channel-SkillsNetworkCoursesIBMDeveloperSkillsNetworkRP0321ENSkillsNetwork878-2022-01-01\" target=\"_blank\">Yan Luo</a>\n"
   ]
  },
  {
   "cell_type": "markdown",
   "metadata": {},
   "source": [
    "### Other Contributors\n"
   ]
  },
  {
   "cell_type": "markdown",
   "metadata": {},
   "source": [
    "## Change Log\n",
    "\n",
    "| Date (YYYY-MM-DD) | Version | Changed By | Change Description           |\n",
    "| ----------------- | ------- | ---------- | ---------------------------- |\n",
    "| 2021-04-05        | 0.1     | Yan        | Initial version created      |\n",
    "|                   |         |            |                              |\n",
    "|                   |         |            |                              |\n",
    "\n",
    "## <h3 align=\"center\"> © IBM Corporation 2021. All rights reserved. <h3/>\n"
   ]
  }
 ],
 "metadata": {
  "kernelspec": {
   "display_name": "R",
   "language": "R",
   "name": "conda-env-r-r"
  },
  "language_info": {
   "codemirror_mode": "r",
   "file_extension": ".r",
   "mimetype": "text/x-r-source",
   "name": "R",
   "pygments_lexer": "r",
   "version": "3.5.1"
  }
 },
 "nbformat": 4,
 "nbformat_minor": 4
}
