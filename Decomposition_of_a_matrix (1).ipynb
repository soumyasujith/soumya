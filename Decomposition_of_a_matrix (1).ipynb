{
  "nbformat": 4,
  "nbformat_minor": 0,
  "metadata": {
    "colab": {
      "name": "Decomposition of a matrix.ipynb",
      "provenance": []
    },
    "kernelspec": {
      "name": "python3",
      "display_name": "Python 3"
    }
  },
  "cells": [
    {
      "cell_type": "code",
      "metadata": {
        "colab": {
          "base_uri": "https://localhost:8080/"
        },
        "id": "QteHHgKG6nmz",
        "outputId": "d4b62778-6fc8-461d-bb77-78183275ad4f"
      },
      "source": [
        "print('Cesar phillip Guia, 2nd year, Civil Engineering')"
      ],
      "execution_count": 2,
      "outputs": [
        {
          "output_type": "stream",
          "text": [
            "Cesar phillip Guia, 2nd year, Civil Engineering\n"
          ],
          "name": "stdout"
        }
      ]
    },
    {
      "cell_type": "code",
      "metadata": {
        "colab": {
          "base_uri": "https://localhost:8080/"
        },
        "id": "5YVbMSmR7jIa",
        "outputId": "5a35bea4-8def-4dda-d79b-f6caaf368d92"
      },
      "source": [
        "import numpy as np\r\n",
        "\r\n",
        "A = np.array([ [3,-9], [2,4] ])\r\n",
        "b = np.array([-42,2])\r\n",
        "z = np.linalg.solve(A,b)\r\n",
        "print(z)\r\n",
        "\r\n",
        "M = np.array([ [1,-2,-1], [2,2,-1], [-1,-1,2] ])\r\n",
        "c = np.array([6,1,1])\r\n",
        "y = np.linalg.solve(M,c)\r\n",
        "print(y)"
      ],
      "execution_count": 3,
      "outputs": [
        {
          "output_type": "stream",
          "text": [
            "[-5.  3.]\n",
            "[ 3. -2.  1.]\n"
          ],
          "name": "stdout"
        }
      ]
    }
  ]
}