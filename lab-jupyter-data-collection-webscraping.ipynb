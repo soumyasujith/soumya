{
 "cells": [
  {
   "cell_type": "markdown",
   "metadata": {},
   "source": [
    "<center>\n",
    "<img src=\"https://cf-courses-data.s3.us.cloud-object-storage.appdomain.cloud/IBMDeveloperSkillsNetwork-RP0321EN-SkillsNetwork/labs/module_1/images/SN_web_lightmode.png\" width=\"300\"> \n",
    "</center>\n"
   ]
  },
  {
   "cell_type": "markdown",
   "metadata": {},
   "source": [
    "<h1>Web scrape a Global Bike-Sharing Systems Wiki Page</h1>\n",
    "\n",
    "Estimated time needed: **20** minutes\n"
   ]
  },
  {
   "cell_type": "markdown",
   "metadata": {},
   "source": [
    "## Lab Overview:\n",
    "\n",
    "Before getting your hands dirty on the actual data analysis tasks, you first need to obtain some background and context information about well-known bike sharing systems worldwide, such as their location, launch date, rental bike size, and so on.\n",
    "\n",
    "You can get such information from this Wiki page: \n",
    "\n",
    "https://en.wikipedia.org/wiki/List_of_bicycle-sharing_systems\n",
    "\n",
    "<a href=\"https://cognitiveclass.ai/?utm_medium=Exinfluencer&utm_source=Exinfluencer&utm_content=000026UJ&utm_term=10006555&utm_id=NA-SkillsNetwork-Channel-SkillsNetworkCoursesIBMDeveloperSkillsNetworkRP0321ENSkillsNetwork878-2022-01-01\">\n",
    "    <img src=\"https://cf-courses-data.s3.us.cloud-object-storage.appdomain.cloud/IBMDeveloperSkillsNetwork-RP0321EN-SkillsNetwork/labs/module_1/images/l2-list-bike-sharing-systems.png\" width=\"600\" align=\"center\">\n",
    "</a>\n"
   ]
  },
  {
   "cell_type": "markdown",
   "metadata": {},
   "source": [
    "First import necessary libraries for the webscraping task.\n"
   ]
  },
  {
   "cell_type": "markdown",
   "metadata": {},
   "source": [
    "\n",
    "In this lab, you need to use the `rvest` library to obtain the bike sharing systems table from the above web page, convert the table into a data frame, and write the data frame to a csv file for future data wrangling and analysis tasks.\n"
   ]
  },
  {
   "cell_type": "code",
   "execution_count": 2,
   "metadata": {},
   "outputs": [
    {
     "name": "stderr",
     "output_type": "stream",
     "text": [
      "also installing the dependencies ‘cli’, ‘lifecycle’, ‘rlang’\n",
      "\n",
      "Updating HTML index of packages in '.Library'\n",
      "Making 'packages.html' ... done\n"
     ]
    }
   ],
   "source": [
    "# Check if need to install rvest` library\n",
    "install.packages(\"rvest\")\n",
    "require(\"rvest\")\n",
    "\n"
   ]
  },
  {
   "cell_type": "code",
   "execution_count": 1,
   "metadata": {},
   "outputs": [],
   "source": [
    "library(rvest)"
   ]
  },
  {
   "cell_type": "markdown",
   "metadata": {},
   "source": [
    "# TASK: Extract bike sharing systems HTML table from a Wiki page and convert it into a data frame\n"
   ]
  },
  {
   "cell_type": "markdown",
   "metadata": {},
   "source": [
    "_TODO:_ Get the root HTML node\n"
   ]
  },
  {
   "cell_type": "code",
   "execution_count": 2,
   "metadata": {},
   "outputs": [
    {
     "data": {
      "text/plain": [
       "{html_document}\n",
       "<html class=\"client-nojs\" lang=\"en\" dir=\"ltr\">\n",
       "[1] <head>\\n<meta http-equiv=\"Content-Type\" content=\"text/html; charset=UTF-8 ...\n",
       "[2] <body class=\"skin-vector skin-vector-search-vue vector-toc-pinned mediawi ..."
      ]
     },
     "metadata": {},
     "output_type": "display_data"
    }
   ],
   "source": [
    "url <- \"https://en.wikipedia.org/wiki/List_of_bicycle-sharing_systems\"\n",
    "# Get the root HTML node by calling the `read_html()` method with URL\n",
    "download.file(url,destfile='bike.html')\n",
    "root_node <- read_html('bike.html')\n",
    "root_node"
   ]
  },
  {
   "cell_type": "code",
   "execution_count": 5,
   "metadata": {},
   "outputs": [
    {
     "data": {
      "text/plain": [
       "{xml_nodeset (4)}\n",
       "[1] <table class=\"wikitable sortable\" style=\"text-align:left\"><tbody>\\n<tr>\\n ...\n",
       "[2] <table class=\"nowraplinks mw-collapsible autocollapse navbox-inner\" style ...\n",
       "[3] <table class=\"nowraplinks navbox-subgroup\" style=\"border-spacing:0\"><tbod ...\n",
       "[4] <table class=\"nowraplinks navbox-subgroup\" style=\"border-spacing:0\"><tbod ..."
      ]
     },
     "metadata": {},
     "output_type": "display_data"
    }
   ],
   "source": [
    "table_nodes <- html_nodes(root_node,\"table\")\n",
    "table_nodes"
   ]
  },
  {
   "cell_type": "markdown",
   "metadata": {},
   "source": [
    "Note that this HTML page at least contains three child `<table>` nodes under the root HTML node. So, you will need to use `html_nodes(root_node, \"table\")` function to get all its child `<table>` nodes:\n",
    "\n",
    "```\n",
    "<html>\n",
    "  <table>(table1)</table>\n",
    "  <table>(table2)</table>\n",
    "  <table>(table3)</table>\n",
    "  ...\n",
    "</html>\n",
    "```\n"
   ]
  },
  {
   "cell_type": "markdown",
   "metadata": {},
   "source": [
    "table_nodes <- html_nodes(root_node, \"table\")\n"
   ]
  },
  {
   "cell_type": "markdown",
   "metadata": {},
   "source": [
    "You can use a `for` loop to print each table, and then you will see that the actual the bike sharing table is the second element `table_nodes[[2]]`.\n"
   ]
  },
  {
   "cell_type": "markdown",
   "metadata": {},
   "source": [
    "Next, you need to convert this HTML table into a data frame using the `html_table()` function. You may choose to include `fill = TRUE` argument to fill any empty table rows/columns.\n"
   ]
  },
  {
   "cell_type": "code",
   "execution_count": 11,
   "metadata": {},
   "outputs": [
    {
     "data": {
      "text/html": [
       "<table>\n",
       "<caption>A tibble: 6 × 10</caption>\n",
       "<thead>\n",
       "\t<tr><th scope=col>.mw-parser-output .navbar{display:inline;font-size:88%;font-weight:normal}.mw-parser-output .navbar-collapse{float:left;text-align:left}.mw-parser-output .navbar-boxtext{word-spacing:0}.mw-parser-output .navbar ul{display:inline-block;white-space:nowrap;line-height:inherit}.mw-parser-output .navbar-brackets::before{margin-right:-0.125em;content:\"[ \"}.mw-parser-output .navbar-brackets::after{margin-left:-0.125em;content:\" ]\"}.mw-parser-output .navbar li{word-spacing:-0.125em}.mw-parser-output .navbar a&gt;span,.mw-parser-output .navbar a&gt;abbr{text-decoration:inherit}.mw-parser-output .navbar-mini abbr{font-variant:small-caps;border-bottom:none;text-decoration:none;cursor:inherit}.mw-parser-output .navbar-ct-full{font-size:114%;margin:0 7em}.mw-parser-output .navbar-ct-mini{font-size:114%;margin:0 4em}vteBicycle-sharing systems</th><th scope=col>.mw-parser-output .navbar{display:inline;font-size:88%;font-weight:normal}.mw-parser-output .navbar-collapse{float:left;text-align:left}.mw-parser-output .navbar-boxtext{word-spacing:0}.mw-parser-output .navbar ul{display:inline-block;white-space:nowrap;line-height:inherit}.mw-parser-output .navbar-brackets::before{margin-right:-0.125em;content:\"[ \"}.mw-parser-output .navbar-brackets::after{margin-left:-0.125em;content:\" ]\"}.mw-parser-output .navbar li{word-spacing:-0.125em}.mw-parser-output .navbar a&gt;span,.mw-parser-output .navbar a&gt;abbr{text-decoration:inherit}.mw-parser-output .navbar-mini abbr{font-variant:small-caps;border-bottom:none;text-decoration:none;cursor:inherit}.mw-parser-output .navbar-ct-full{font-size:114%;margin:0 7em}.mw-parser-output .navbar-ct-mini{font-size:114%;margin:0 4em}vteBicycle-sharing systems</th><th scope=col></th><th scope=col></th><th scope=col></th><th scope=col></th><th scope=col></th><th scope=col></th><th scope=col></th><th scope=col></th></tr>\n",
       "\t<tr><th scope=col>&lt;chr&gt;</th><th scope=col>&lt;chr&gt;</th><th scope=col>&lt;chr&gt;</th><th scope=col>&lt;chr&gt;</th><th scope=col>&lt;chr&gt;</th><th scope=col>&lt;chr&gt;</th><th scope=col>&lt;chr&gt;</th><th scope=col>&lt;chr&gt;</th><th scope=col>&lt;chr&gt;</th><th scope=col>&lt;chr&gt;</th></tr>\n",
       "</thead>\n",
       "<tbody>\n",
       "\t<tr><td>List of bicycle-sharing systems</td><td>List of bicycle-sharing systems                                                                                                                                                                                                                                                                                                                                                                                                                                                                                                                                                                                                                                                                                                                                            </td><td>NA       </td><td>NA                                                                                                                                                                                                                                                                                                                                                                                     </td><td>NA        </td><td>NA                                                                           </td><td>NA       </td><td>NA                                                                                                                                                                                                                     </td><td>NA          </td><td>NA                              </td></tr>\n",
       "\t<tr><td>Asia                           </td><td>East Asia\n",
       "Anywheel (Singapore)\n",
       "CityBike (Kaohsiung, Taiwan)\n",
       "Ddareungi (Seoul, South Korea)\n",
       "Gobee.bike (Hong Kong)\n",
       "Hoba Bike (Hong Kong)\n",
       "Ketch' Up Bike (Hong Kong)\n",
       "Hangzhou Public Bicycle (Hangzhou, China)\n",
       "LinkBike (George Town, Penang, Malaysia)\n",
       "LocoBike (Hong Kong)\n",
       "Mobike (China and Singapore)\n",
       "Moov Technology (Singapore)\n",
       "ofo (China)\n",
       "SG Bike (Singapore)\n",
       "YouBike (Taiwan)South Asia\n",
       "JoBike (Bangladesh)\n",
       "Ola Pedal (India)\n",
       "Tiruchirappalli Bicycle Share (India)West Asia\n",
       "Antbis (Antalya)\n",
       "Bdood (Tehran, Shiraz)\n",
       "Bisim (İzmir)\n",
       "Cyacle Bikeshare (Abu Dhabi)\n",
       "Esbis (Eskişehir)\n",
       "İsbike (Istanbul)\n",
       "Kaybis (Kayseri)\n",
       "Kobis (Kocaeli)\n",
       "nextbike (Konya)\n",
       "Sambis (Samsun)\n",
       "Tel-O-Fun (Tel Aviv)Central Asia\n",
       "Astana Bike (Astana, Kazakhstan)</td><td>East Asia</td><td>Anywheel (Singapore)\n",
       "CityBike (Kaohsiung, Taiwan)\n",
       "Ddareungi (Seoul, South Korea)\n",
       "Gobee.bike (Hong Kong)\n",
       "Hoba Bike (Hong Kong)\n",
       "Ketch' Up Bike (Hong Kong)\n",
       "Hangzhou Public Bicycle (Hangzhou, China)\n",
       "LinkBike (George Town, Penang, Malaysia)\n",
       "LocoBike (Hong Kong)\n",
       "Mobike (China and Singapore)\n",
       "Moov Technology (Singapore)\n",
       "ofo (China)\n",
       "SG Bike (Singapore)\n",
       "YouBike (Taiwan)</td><td>South Asia</td><td>JoBike (Bangladesh)\n",
       "Ola Pedal (India)\n",
       "Tiruchirappalli Bicycle Share (India)</td><td>West Asia</td><td>Antbis (Antalya)\n",
       "Bdood (Tehran, Shiraz)\n",
       "Bisim (İzmir)\n",
       "Cyacle Bikeshare (Abu Dhabi)\n",
       "Esbis (Eskişehir)\n",
       "İsbike (Istanbul)\n",
       "Kaybis (Kayseri)\n",
       "Kobis (Kocaeli)\n",
       "nextbike (Konya)\n",
       "Sambis (Samsun)\n",
       "Tel-O-Fun (Tel Aviv)</td><td>Central Asia</td><td>Astana Bike (Astana, Kazakhstan)</td></tr>\n",
       "\t<tr><td>East Asia                      </td><td>Anywheel (Singapore)\n",
       "CityBike (Kaohsiung, Taiwan)\n",
       "Ddareungi (Seoul, South Korea)\n",
       "Gobee.bike (Hong Kong)\n",
       "Hoba Bike (Hong Kong)\n",
       "Ketch' Up Bike (Hong Kong)\n",
       "Hangzhou Public Bicycle (Hangzhou, China)\n",
       "LinkBike (George Town, Penang, Malaysia)\n",
       "LocoBike (Hong Kong)\n",
       "Mobike (China and Singapore)\n",
       "Moov Technology (Singapore)\n",
       "ofo (China)\n",
       "SG Bike (Singapore)\n",
       "YouBike (Taiwan)                                                                                                                                                                                                                                                                                                                                                                                    </td><td>NA       </td><td>NA                                                                                                                                                                                                                                                                                                                                                                                     </td><td>NA        </td><td>NA                                                                           </td><td>NA       </td><td>NA                                                                                                                                                                                                                     </td><td>NA          </td><td>NA                              </td></tr>\n",
       "\t<tr><td>South Asia                     </td><td>JoBike (Bangladesh)\n",
       "Ola Pedal (India)\n",
       "Tiruchirappalli Bicycle Share (India)                                                                                                                                                                                                                                                                                                                                                                                                                                                                                                                                                                                                                                                                                              </td><td>NA       </td><td>NA                                                                                                                                                                                                                                                                                                                                                                                     </td><td>NA        </td><td>NA                                                                           </td><td>NA       </td><td>NA                                                                                                                                                                                                                     </td><td>NA          </td><td>NA                              </td></tr>\n",
       "\t<tr><td>West Asia                      </td><td>Antbis (Antalya)\n",
       "Bdood (Tehran, Shiraz)\n",
       "Bisim (İzmir)\n",
       "Cyacle Bikeshare (Abu Dhabi)\n",
       "Esbis (Eskişehir)\n",
       "İsbike (Istanbul)\n",
       "Kaybis (Kayseri)\n",
       "Kobis (Kocaeli)\n",
       "nextbike (Konya)\n",
       "Sambis (Samsun)\n",
       "Tel-O-Fun (Tel Aviv)                                                                                                                                                                                                                                                                                                                                                                                                                                                                                                                                                    </td><td>NA       </td><td>NA                                                                                                                                                                                                                                                                                                                                                                                     </td><td>NA        </td><td>NA                                                                           </td><td>NA       </td><td>NA                                                                                                                                                                                                                     </td><td>NA          </td><td>NA                              </td></tr>\n",
       "\t<tr><td>Central Asia                   </td><td>Astana Bike (Astana, Kazakhstan)                                                                                                                                                                                                                                                                                                                                                                                                                                                                                                                                                                                                                                                                                                                                           </td><td>NA       </td><td>NA                                                                                                                                                                                                                                                                                                                                                                                     </td><td>NA        </td><td>NA                                                                           </td><td>NA       </td><td>NA                                                                                                                                                                                                                     </td><td>NA          </td><td>NA                              </td></tr>\n",
       "</tbody>\n",
       "</table>\n"
      ],
      "text/latex": [
       "A tibble: 6 × 10\n",
       "\\begin{tabular}{llllllllll}\n",
       " .mw-parser-output .navbar\\{display:inline;font-size:88\\%;font-weight:normal\\}.mw-parser-output .navbar-collapse\\{float:left;text-align:left\\}.mw-parser-output .navbar-boxtext\\{word-spacing:0\\}.mw-parser-output .navbar ul\\{display:inline-block;white-space:nowrap;line-height:inherit\\}.mw-parser-output .navbar-brackets::before\\{margin-right:-0.125em;content:\"{[} \"\\}.mw-parser-output .navbar-brackets::after\\{margin-left:-0.125em;content:\" {]}\"\\}.mw-parser-output .navbar li\\{word-spacing:-0.125em\\}.mw-parser-output .navbar a>span,.mw-parser-output .navbar a>abbr\\{text-decoration:inherit\\}.mw-parser-output .navbar-mini abbr\\{font-variant:small-caps;border-bottom:none;text-decoration:none;cursor:inherit\\}.mw-parser-output .navbar-ct-full\\{font-size:114\\%;margin:0 7em\\}.mw-parser-output .navbar-ct-mini\\{font-size:114\\%;margin:0 4em\\}vteBicycle-sharing systems & .mw-parser-output .navbar\\{display:inline;font-size:88\\%;font-weight:normal\\}.mw-parser-output .navbar-collapse\\{float:left;text-align:left\\}.mw-parser-output .navbar-boxtext\\{word-spacing:0\\}.mw-parser-output .navbar ul\\{display:inline-block;white-space:nowrap;line-height:inherit\\}.mw-parser-output .navbar-brackets::before\\{margin-right:-0.125em;content:\"{[} \"\\}.mw-parser-output .navbar-brackets::after\\{margin-left:-0.125em;content:\" {]}\"\\}.mw-parser-output .navbar li\\{word-spacing:-0.125em\\}.mw-parser-output .navbar a>span,.mw-parser-output .navbar a>abbr\\{text-decoration:inherit\\}.mw-parser-output .navbar-mini abbr\\{font-variant:small-caps;border-bottom:none;text-decoration:none;cursor:inherit\\}.mw-parser-output .navbar-ct-full\\{font-size:114\\%;margin:0 7em\\}.mw-parser-output .navbar-ct-mini\\{font-size:114\\%;margin:0 4em\\}vteBicycle-sharing systems &  &  &  &  &  &  &  & \\\\\n",
       " <chr> & <chr> & <chr> & <chr> & <chr> & <chr> & <chr> & <chr> & <chr> & <chr>\\\\\n",
       "\\hline\n",
       "\t List of bicycle-sharing systems & List of bicycle-sharing systems                                                                                                                                                                                                                                                                                                                                                                                                                                                                                                                                                                                                                                                                                                                                             & NA        & NA                                                                                                                                                                                                                                                                                                                                                                                      & NA         & NA                                                                            & NA        & NA                                                                                                                                                                                                                      & NA           & NA                              \\\\\n",
       "\t Asia                            & East Asia\n",
       "Anywheel (Singapore)\n",
       "CityBike (Kaohsiung, Taiwan)\n",
       "Ddareungi (Seoul, South Korea)\n",
       "Gobee.bike (Hong Kong)\n",
       "Hoba Bike (Hong Kong)\n",
       "Ketch' Up Bike (Hong Kong)\n",
       "Hangzhou Public Bicycle (Hangzhou, China)\n",
       "LinkBike (George Town, Penang, Malaysia)\n",
       "LocoBike (Hong Kong)\n",
       "Mobike (China and Singapore)\n",
       "Moov Technology (Singapore)\n",
       "ofo (China)\n",
       "SG Bike (Singapore)\n",
       "YouBike (Taiwan)South Asia\n",
       "JoBike (Bangladesh)\n",
       "Ola Pedal (India)\n",
       "Tiruchirappalli Bicycle Share (India)West Asia\n",
       "Antbis (Antalya)\n",
       "Bdood (Tehran, Shiraz)\n",
       "Bisim (İzmir)\n",
       "Cyacle Bikeshare (Abu Dhabi)\n",
       "Esbis (Eskişehir)\n",
       "İsbike (Istanbul)\n",
       "Kaybis (Kayseri)\n",
       "Kobis (Kocaeli)\n",
       "nextbike (Konya)\n",
       "Sambis (Samsun)\n",
       "Tel-O-Fun (Tel Aviv)Central Asia\n",
       "Astana Bike (Astana, Kazakhstan) & East Asia & Anywheel (Singapore)\n",
       "CityBike (Kaohsiung, Taiwan)\n",
       "Ddareungi (Seoul, South Korea)\n",
       "Gobee.bike (Hong Kong)\n",
       "Hoba Bike (Hong Kong)\n",
       "Ketch' Up Bike (Hong Kong)\n",
       "Hangzhou Public Bicycle (Hangzhou, China)\n",
       "LinkBike (George Town, Penang, Malaysia)\n",
       "LocoBike (Hong Kong)\n",
       "Mobike (China and Singapore)\n",
       "Moov Technology (Singapore)\n",
       "ofo (China)\n",
       "SG Bike (Singapore)\n",
       "YouBike (Taiwan) & South Asia & JoBike (Bangladesh)\n",
       "Ola Pedal (India)\n",
       "Tiruchirappalli Bicycle Share (India) & West Asia & Antbis (Antalya)\n",
       "Bdood (Tehran, Shiraz)\n",
       "Bisim (İzmir)\n",
       "Cyacle Bikeshare (Abu Dhabi)\n",
       "Esbis (Eskişehir)\n",
       "İsbike (Istanbul)\n",
       "Kaybis (Kayseri)\n",
       "Kobis (Kocaeli)\n",
       "nextbike (Konya)\n",
       "Sambis (Samsun)\n",
       "Tel-O-Fun (Tel Aviv) & Central Asia & Astana Bike (Astana, Kazakhstan)\\\\\n",
       "\t East Asia                       & Anywheel (Singapore)\n",
       "CityBike (Kaohsiung, Taiwan)\n",
       "Ddareungi (Seoul, South Korea)\n",
       "Gobee.bike (Hong Kong)\n",
       "Hoba Bike (Hong Kong)\n",
       "Ketch' Up Bike (Hong Kong)\n",
       "Hangzhou Public Bicycle (Hangzhou, China)\n",
       "LinkBike (George Town, Penang, Malaysia)\n",
       "LocoBike (Hong Kong)\n",
       "Mobike (China and Singapore)\n",
       "Moov Technology (Singapore)\n",
       "ofo (China)\n",
       "SG Bike (Singapore)\n",
       "YouBike (Taiwan)                                                                                                                                                                                                                                                                                                                                                                                     & NA        & NA                                                                                                                                                                                                                                                                                                                                                                                      & NA         & NA                                                                            & NA        & NA                                                                                                                                                                                                                      & NA           & NA                              \\\\\n",
       "\t South Asia                      & JoBike (Bangladesh)\n",
       "Ola Pedal (India)\n",
       "Tiruchirappalli Bicycle Share (India)                                                                                                                                                                                                                                                                                                                                                                                                                                                                                                                                                                                                                                                                                               & NA        & NA                                                                                                                                                                                                                                                                                                                                                                                      & NA         & NA                                                                            & NA        & NA                                                                                                                                                                                                                      & NA           & NA                              \\\\\n",
       "\t West Asia                       & Antbis (Antalya)\n",
       "Bdood (Tehran, Shiraz)\n",
       "Bisim (İzmir)\n",
       "Cyacle Bikeshare (Abu Dhabi)\n",
       "Esbis (Eskişehir)\n",
       "İsbike (Istanbul)\n",
       "Kaybis (Kayseri)\n",
       "Kobis (Kocaeli)\n",
       "nextbike (Konya)\n",
       "Sambis (Samsun)\n",
       "Tel-O-Fun (Tel Aviv)                                                                                                                                                                                                                                                                                                                                                                                                                                                                                                                                                     & NA        & NA                                                                                                                                                                                                                                                                                                                                                                                      & NA         & NA                                                                            & NA        & NA                                                                                                                                                                                                                      & NA           & NA                              \\\\\n",
       "\t Central Asia                    & Astana Bike (Astana, Kazakhstan)                                                                                                                                                                                                                                                                                                                                                                                                                                                                                                                                                                                                                                                                                                                                            & NA        & NA                                                                                                                                                                                                                                                                                                                                                                                      & NA         & NA                                                                            & NA        & NA                                                                                                                                                                                                                      & NA           & NA                              \\\\\n",
       "\\end{tabular}\n"
      ],
      "text/markdown": [
       "\n",
       "A tibble: 6 × 10\n",
       "\n",
       "| .mw-parser-output .navbar{display:inline;font-size:88%;font-weight:normal}.mw-parser-output .navbar-collapse{float:left;text-align:left}.mw-parser-output .navbar-boxtext{word-spacing:0}.mw-parser-output .navbar ul{display:inline-block;white-space:nowrap;line-height:inherit}.mw-parser-output .navbar-brackets::before{margin-right:-0.125em;content:\"[ \"}.mw-parser-output .navbar-brackets::after{margin-left:-0.125em;content:\" ]\"}.mw-parser-output .navbar li{word-spacing:-0.125em}.mw-parser-output .navbar a&gt;span,.mw-parser-output .navbar a&gt;abbr{text-decoration:inherit}.mw-parser-output .navbar-mini abbr{font-variant:small-caps;border-bottom:none;text-decoration:none;cursor:inherit}.mw-parser-output .navbar-ct-full{font-size:114%;margin:0 7em}.mw-parser-output .navbar-ct-mini{font-size:114%;margin:0 4em}vteBicycle-sharing systems &lt;chr&gt; | .mw-parser-output .navbar{display:inline;font-size:88%;font-weight:normal}.mw-parser-output .navbar-collapse{float:left;text-align:left}.mw-parser-output .navbar-boxtext{word-spacing:0}.mw-parser-output .navbar ul{display:inline-block;white-space:nowrap;line-height:inherit}.mw-parser-output .navbar-brackets::before{margin-right:-0.125em;content:\"[ \"}.mw-parser-output .navbar-brackets::after{margin-left:-0.125em;content:\" ]\"}.mw-parser-output .navbar li{word-spacing:-0.125em}.mw-parser-output .navbar a&gt;span,.mw-parser-output .navbar a&gt;abbr{text-decoration:inherit}.mw-parser-output .navbar-mini abbr{font-variant:small-caps;border-bottom:none;text-decoration:none;cursor:inherit}.mw-parser-output .navbar-ct-full{font-size:114%;margin:0 7em}.mw-parser-output .navbar-ct-mini{font-size:114%;margin:0 4em}vteBicycle-sharing systems &lt;chr&gt; | <!----> &lt;chr&gt; | <!----> &lt;chr&gt; | <!----> &lt;chr&gt; | <!----> &lt;chr&gt; | <!----> &lt;chr&gt; | <!----> &lt;chr&gt; | <!----> &lt;chr&gt; | <!----> &lt;chr&gt; |\n",
       "|---|---|---|---|---|---|---|---|---|---|\n",
       "| List of bicycle-sharing systems | List of bicycle-sharing systems                                                                                                                                                                                                                                                                                                                                                                                                                                                                                                                                                                                                                                                                                                                                             | NA        | NA                                                                                                                                                                                                                                                                                                                                                                                      | NA         | NA                                                                            | NA        | NA                                                                                                                                                                                                                      | NA           | NA                               |\n",
       "| Asia                            | East Asia\n",
       "Anywheel (Singapore)\n",
       "CityBike (Kaohsiung, Taiwan)\n",
       "Ddareungi (Seoul, South Korea)\n",
       "Gobee.bike (Hong Kong)\n",
       "Hoba Bike (Hong Kong)\n",
       "Ketch' Up Bike (Hong Kong)\n",
       "Hangzhou Public Bicycle (Hangzhou, China)\n",
       "LinkBike (George Town, Penang, Malaysia)\n",
       "LocoBike (Hong Kong)\n",
       "Mobike (China and Singapore)\n",
       "Moov Technology (Singapore)\n",
       "ofo (China)\n",
       "SG Bike (Singapore)\n",
       "YouBike (Taiwan)South Asia\n",
       "JoBike (Bangladesh)\n",
       "Ola Pedal (India)\n",
       "Tiruchirappalli Bicycle Share (India)West Asia\n",
       "Antbis (Antalya)\n",
       "Bdood (Tehran, Shiraz)\n",
       "Bisim (İzmir)\n",
       "Cyacle Bikeshare (Abu Dhabi)\n",
       "Esbis (Eskişehir)\n",
       "İsbike (Istanbul)\n",
       "Kaybis (Kayseri)\n",
       "Kobis (Kocaeli)\n",
       "nextbike (Konya)\n",
       "Sambis (Samsun)\n",
       "Tel-O-Fun (Tel Aviv)Central Asia\n",
       "Astana Bike (Astana, Kazakhstan) | East Asia | Anywheel (Singapore)\n",
       "CityBike (Kaohsiung, Taiwan)\n",
       "Ddareungi (Seoul, South Korea)\n",
       "Gobee.bike (Hong Kong)\n",
       "Hoba Bike (Hong Kong)\n",
       "Ketch' Up Bike (Hong Kong)\n",
       "Hangzhou Public Bicycle (Hangzhou, China)\n",
       "LinkBike (George Town, Penang, Malaysia)\n",
       "LocoBike (Hong Kong)\n",
       "Mobike (China and Singapore)\n",
       "Moov Technology (Singapore)\n",
       "ofo (China)\n",
       "SG Bike (Singapore)\n",
       "YouBike (Taiwan) | South Asia | JoBike (Bangladesh)\n",
       "Ola Pedal (India)\n",
       "Tiruchirappalli Bicycle Share (India) | West Asia | Antbis (Antalya)\n",
       "Bdood (Tehran, Shiraz)\n",
       "Bisim (İzmir)\n",
       "Cyacle Bikeshare (Abu Dhabi)\n",
       "Esbis (Eskişehir)\n",
       "İsbike (Istanbul)\n",
       "Kaybis (Kayseri)\n",
       "Kobis (Kocaeli)\n",
       "nextbike (Konya)\n",
       "Sambis (Samsun)\n",
       "Tel-O-Fun (Tel Aviv) | Central Asia | Astana Bike (Astana, Kazakhstan) |\n",
       "| East Asia                       | Anywheel (Singapore)\n",
       "CityBike (Kaohsiung, Taiwan)\n",
       "Ddareungi (Seoul, South Korea)\n",
       "Gobee.bike (Hong Kong)\n",
       "Hoba Bike (Hong Kong)\n",
       "Ketch' Up Bike (Hong Kong)\n",
       "Hangzhou Public Bicycle (Hangzhou, China)\n",
       "LinkBike (George Town, Penang, Malaysia)\n",
       "LocoBike (Hong Kong)\n",
       "Mobike (China and Singapore)\n",
       "Moov Technology (Singapore)\n",
       "ofo (China)\n",
       "SG Bike (Singapore)\n",
       "YouBike (Taiwan)                                                                                                                                                                                                                                                                                                                                                                                     | NA        | NA                                                                                                                                                                                                                                                                                                                                                                                      | NA         | NA                                                                            | NA        | NA                                                                                                                                                                                                                      | NA           | NA                               |\n",
       "| South Asia                      | JoBike (Bangladesh)\n",
       "Ola Pedal (India)\n",
       "Tiruchirappalli Bicycle Share (India)                                                                                                                                                                                                                                                                                                                                                                                                                                                                                                                                                                                                                                                                                               | NA        | NA                                                                                                                                                                                                                                                                                                                                                                                      | NA         | NA                                                                            | NA        | NA                                                                                                                                                                                                                      | NA           | NA                               |\n",
       "| West Asia                       | Antbis (Antalya)\n",
       "Bdood (Tehran, Shiraz)\n",
       "Bisim (İzmir)\n",
       "Cyacle Bikeshare (Abu Dhabi)\n",
       "Esbis (Eskişehir)\n",
       "İsbike (Istanbul)\n",
       "Kaybis (Kayseri)\n",
       "Kobis (Kocaeli)\n",
       "nextbike (Konya)\n",
       "Sambis (Samsun)\n",
       "Tel-O-Fun (Tel Aviv)                                                                                                                                                                                                                                                                                                                                                                                                                                                                                                                                                     | NA        | NA                                                                                                                                                                                                                                                                                                                                                                                      | NA         | NA                                                                            | NA        | NA                                                                                                                                                                                                                      | NA           | NA                               |\n",
       "| Central Asia                    | Astana Bike (Astana, Kazakhstan)                                                                                                                                                                                                                                                                                                                                                                                                                                                                                                                                                                                                                                                                                                                                            | NA        | NA                                                                                                                                                                                                                                                                                                                                                                                      | NA         | NA                                                                            | NA        | NA                                                                                                                                                                                                                      | NA           | NA                               |\n",
       "\n"
      ],
      "text/plain": [
       "  .mw-parser-output .navbar{display:inline;font-size:88%;font-weight:normal}.mw-parser-output .navbar-collapse{float:left;text-align:left}.mw-parser-output .navbar-boxtext{word-spacing:0}.mw-parser-output .navbar ul{display:inline-block;white-space:nowrap;line-height:inherit}.mw-parser-output .navbar-brackets::before{margin-right:-0.125em;content:\"[ \"}.mw-parser-output .navbar-brackets::after{margin-left:-0.125em;content:\" ]\"}.mw-parser-output .navbar li{word-spacing:-0.125em}.mw-parser-output .navbar a>span,.mw-parser-output .navbar a>abbr{text-decoration:inherit}.mw-parser-output .navbar-mini abbr{font-variant:small-caps;border-bottom:none;text-decoration:none;cursor:inherit}.mw-parser-output .navbar-ct-full{font-size:114%;margin:0 7em}.mw-parser-output .navbar-ct-mini{font-size:114%;margin:0 4em}vteBicycle-sharing systems\n",
       "1 List of bicycle-sharing systems                                                                                                                                                                                                                                                                                                                                                                                                                                                                                                                                                                                                                                                                                                                                                                                                                                   \n",
       "2 Asia                                                                                                                                                                                                                                                                                                                                                                                                                                                                                                                                                                                                                                                                                                                                                                                                                                                              \n",
       "3 East Asia                                                                                                                                                                                                                                                                                                                                                                                                                                                                                                                                                                                                                                                                                                                                                                                                                                                         \n",
       "4 South Asia                                                                                                                                                                                                                                                                                                                                                                                                                                                                                                                                                                                                                                                                                                                                                                                                                                                        \n",
       "5 West Asia                                                                                                                                                                                                                                                                                                                                                                                                                                                                                                                                                                                                                                                                                                                                                                                                                                                         \n",
       "6 Central Asia                                                                                                                                                                                                                                                                                                                                                                                                                                                                                                                                                                                                                                                                                                                                                                                                                                                      \n",
       "  .mw-parser-output .navbar{display:inline;font-size:88%;font-weight:normal}.mw-parser-output .navbar-collapse{float:left;text-align:left}.mw-parser-output .navbar-boxtext{word-spacing:0}.mw-parser-output .navbar ul{display:inline-block;white-space:nowrap;line-height:inherit}.mw-parser-output .navbar-brackets::before{margin-right:-0.125em;content:\"[ \"}.mw-parser-output .navbar-brackets::after{margin-left:-0.125em;content:\" ]\"}.mw-parser-output .navbar li{word-spacing:-0.125em}.mw-parser-output .navbar a>span,.mw-parser-output .navbar a>abbr{text-decoration:inherit}.mw-parser-output .navbar-mini abbr{font-variant:small-caps;border-bottom:none;text-decoration:none;cursor:inherit}.mw-parser-output .navbar-ct-full{font-size:114%;margin:0 7em}.mw-parser-output .navbar-ct-mini{font-size:114%;margin:0 4em}vteBicycle-sharing systems\n",
       "1 List of bicycle-sharing systems                                                                                                                                                                                                                                                                                                                                                                                                                                                                                                                                                                                                                                                                                                                                                                                                                                   \n",
       "2 East Asia\\nAnywheel (Singapore)\\nCityBike (Kaohsiung, Taiwan)\\nDdareungi (Seoul, South Korea)\\nGobee.bike (Hong Kong)\\nHoba Bike (Hong Kong)\\nKetch' Up Bike (Hong Kong)\\nHangzhou Public Bicycle (Hangzhou, China)\\nLinkBike (George Town, Penang, Malaysia)\\nLocoBike (Hong Kong)\\nMobike (China and Singapore)\\nMoov Technology (Singapore)\\nofo (China)\\nSG Bike (Singapore)\\nYouBike (Taiwan)South Asia\\nJoBike (Bangladesh)\\nOla Pedal (India)\\nTiruchirappalli Bicycle Share (India)West Asia\\nAntbis (Antalya)\\nBdood (Tehran, Shiraz)\\nBisim (İzmir)\\nCyacle Bikeshare (Abu Dhabi)\\nEsbis (Eskişehir)\\nİsbike (Istanbul)\\nKaybis (Kayseri)\\nKobis (Kocaeli)\\nnextbike (Konya)\\nSambis (Samsun)\\nTel-O-Fun (Tel Aviv)Central Asia\\nAstana Bike (Astana, Kazakhstan)                                                                                       \n",
       "3 Anywheel (Singapore)\\nCityBike (Kaohsiung, Taiwan)\\nDdareungi (Seoul, South Korea)\\nGobee.bike (Hong Kong)\\nHoba Bike (Hong Kong)\\nKetch' Up Bike (Hong Kong)\\nHangzhou Public Bicycle (Hangzhou, China)\\nLinkBike (George Town, Penang, Malaysia)\\nLocoBike (Hong Kong)\\nMobike (China and Singapore)\\nMoov Technology (Singapore)\\nofo (China)\\nSG Bike (Singapore)\\nYouBike (Taiwan)                                                                                                                                                                                                                                                                                                                                                                                                                                                                           \n",
       "4 JoBike (Bangladesh)\\nOla Pedal (India)\\nTiruchirappalli Bicycle Share (India)                                                                                                                                                                                                                                                                                                                                                                                                                                                                                                                                                                                                                                                                                                                                                                                     \n",
       "5 Antbis (Antalya)\\nBdood (Tehran, Shiraz)\\nBisim (İzmir)\\nCyacle Bikeshare (Abu Dhabi)\\nEsbis (Eskişehir)\\nİsbike (Istanbul)\\nKaybis (Kayseri)\\nKobis (Kocaeli)\\nnextbike (Konya)\\nSambis (Samsun)\\nTel-O-Fun (Tel Aviv)                                                                                                                                                                                                                                                                                                                                                                                                                                                                                                                                                                                                                                           \n",
       "6 Astana Bike (Astana, Kazakhstan)                                                                                                                                                                                                                                                                                                                                                                                                                                                                                                                                                                                                                                                                                                                                                                                                                                  \n",
       "           \n",
       "1 NA       \n",
       "2 East Asia\n",
       "3 NA       \n",
       "4 NA       \n",
       "5 NA       \n",
       "6 NA       \n",
       "                                                                                                                                                                                                                                                                                                                                                                                         \n",
       "1 NA                                                                                                                                                                                                                                                                                                                                                                                     \n",
       "2 Anywheel (Singapore)\\nCityBike (Kaohsiung, Taiwan)\\nDdareungi (Seoul, South Korea)\\nGobee.bike (Hong Kong)\\nHoba Bike (Hong Kong)\\nKetch' Up Bike (Hong Kong)\\nHangzhou Public Bicycle (Hangzhou, China)\\nLinkBike (George Town, Penang, Malaysia)\\nLocoBike (Hong Kong)\\nMobike (China and Singapore)\\nMoov Technology (Singapore)\\nofo (China)\\nSG Bike (Singapore)\\nYouBike (Taiwan)\n",
       "3 NA                                                                                                                                                                                                                                                                                                                                                                                     \n",
       "4 NA                                                                                                                                                                                                                                                                                                                                                                                     \n",
       "5 NA                                                                                                                                                                                                                                                                                                                                                                                     \n",
       "6 NA                                                                                                                                                                                                                                                                                                                                                                                     \n",
       "            \n",
       "1 NA        \n",
       "2 South Asia\n",
       "3 NA        \n",
       "4 NA        \n",
       "5 NA        \n",
       "6 NA        \n",
       "                                                                               \n",
       "1 NA                                                                           \n",
       "2 JoBike (Bangladesh)\\nOla Pedal (India)\\nTiruchirappalli Bicycle Share (India)\n",
       "3 NA                                                                           \n",
       "4 NA                                                                           \n",
       "5 NA                                                                           \n",
       "6 NA                                                                           \n",
       "           \n",
       "1 NA       \n",
       "2 West Asia\n",
       "3 NA       \n",
       "4 NA       \n",
       "5 NA       \n",
       "6 NA       \n",
       "                                                                                                                                                                                                                         \n",
       "1 NA                                                                                                                                                                                                                     \n",
       "2 Antbis (Antalya)\\nBdood (Tehran, Shiraz)\\nBisim (İzmir)\\nCyacle Bikeshare (Abu Dhabi)\\nEsbis (Eskişehir)\\nİsbike (Istanbul)\\nKaybis (Kayseri)\\nKobis (Kocaeli)\\nnextbike (Konya)\\nSambis (Samsun)\\nTel-O-Fun (Tel Aviv)\n",
       "3 NA                                                                                                                                                                                                                     \n",
       "4 NA                                                                                                                                                                                                                     \n",
       "5 NA                                                                                                                                                                                                                     \n",
       "6 NA                                                                                                                                                                                                                     \n",
       "                                               \n",
       "1 NA           NA                              \n",
       "2 Central Asia Astana Bike (Astana, Kazakhstan)\n",
       "3 NA           NA                              \n",
       "4 NA           NA                              \n",
       "5 NA           NA                              \n",
       "6 NA           NA                              "
      ]
     },
     "metadata": {},
     "output_type": "display_data"
    }
   ],
   "source": [
    "# Convert the bike-sharing system table into a dataframe\n",
    "bicycle <- html_table(table_nodes, header=TRUE,fill=TRUE)[[2]]\n",
    "head(bicycle)                   "
   ]
  },
  {
   "cell_type": "markdown",
   "metadata": {},
   "source": [
    "Summarize the bike sharing system data frame\n"
   ]
  },
  {
   "cell_type": "code",
   "execution_count": 12,
   "metadata": {},
   "outputs": [
    {
     "data": {
      "text/plain": [
       " .mw-parser-output .navbar{display:inline;font-size:88%;font-weight:normal}.mw-parser-output .navbar-collapse{float:left;text-align:left}.mw-parser-output .navbar-boxtext{word-spacing:0}.mw-parser-output .navbar ul{display:inline-block;white-space:nowrap;line-height:inherit}.mw-parser-output .navbar-brackets::before{margin-right:-0.125em;content:\"[ \"}.mw-parser-output .navbar-brackets::after{margin-left:-0.125em;content:\" ]\"}.mw-parser-output .navbar li{word-spacing:-0.125em}.mw-parser-output .navbar a>span,.mw-parser-output .navbar a>abbr{text-decoration:inherit}.mw-parser-output .navbar-mini abbr{font-variant:small-caps;border-bottom:none;text-decoration:none;cursor:inherit}.mw-parser-output .navbar-ct-full{font-size:114%;margin:0 7em}.mw-parser-output .navbar-ct-mini{font-size:114%;margin:0 4em}vteBicycle-sharing systems\n",
       " Length:15                                                                                                                                                                                                                                                                                                                                                                                                                                                                                                                                                                                                                                                                                                                                                                                                                                                         \n",
       " Class :character                                                                                                                                                                                                                                                                                                                                                                                                                                                                                                                                                                                                                                                                                                                                                                                                                                                  \n",
       " Mode  :character                                                                                                                                                                                                                                                                                                                                                                                                                                                                                                                                                                                                                                                                                                                                                                                                                                                  \n",
       " .mw-parser-output .navbar{display:inline;font-size:88%;font-weight:normal}.mw-parser-output .navbar-collapse{float:left;text-align:left}.mw-parser-output .navbar-boxtext{word-spacing:0}.mw-parser-output .navbar ul{display:inline-block;white-space:nowrap;line-height:inherit}.mw-parser-output .navbar-brackets::before{margin-right:-0.125em;content:\"[ \"}.mw-parser-output .navbar-brackets::after{margin-left:-0.125em;content:\" ]\"}.mw-parser-output .navbar li{word-spacing:-0.125em}.mw-parser-output .navbar a>span,.mw-parser-output .navbar a>abbr{text-decoration:inherit}.mw-parser-output .navbar-mini abbr{font-variant:small-caps;border-bottom:none;text-decoration:none;cursor:inherit}.mw-parser-output .navbar-ct-full{font-size:114%;margin:0 7em}.mw-parser-output .navbar-ct-mini{font-size:114%;margin:0 4em}vteBicycle-sharing systems\n",
       " Length:15                                                                                                                                                                                                                                                                                                                                                                                                                                                                                                                                                                                                                                                                                                                                                                                                                                                         \n",
       " Class :character                                                                                                                                                                                                                                                                                                                                                                                                                                                                                                                                                                                                                                                                                                                                                                                                                                                  \n",
       " Mode  :character                                                                                                                                                                                                                                                                                                                                                                                                                                                                                                                                                                                                                                                                                                                                                                                                                                                  \n",
       "                                                                            \n",
       " Length:15          Length:15          Length:15          Length:15         \n",
       " Class :character   Class :character   Class :character   Class :character  \n",
       " Mode  :character   Mode  :character   Mode  :character   Mode  :character  \n",
       "                                                                            \n",
       " Length:15          Length:15          Length:15          Length:15         \n",
       " Class :character   Class :character   Class :character   Class :character  \n",
       " Mode  :character   Mode  :character   Mode  :character   Mode  :character  "
      ]
     },
     "metadata": {},
     "output_type": "display_data"
    }
   ],
   "source": [
    "# Summarize the dataframe\n",
    "summary(bicycle)"
   ]
  },
  {
   "cell_type": "markdown",
   "metadata": {},
   "source": [
    "Export the data frame as a csv file called `raw_bike_sharing_systems.csv`\n"
   ]
  },
  {
   "cell_type": "code",
   "execution_count": 10,
   "metadata": {},
   "outputs": [
    {
     "name": "stderr",
     "output_type": "stream",
     "text": [
      "Warning message in write.csv(bicycle, file = \"raw_bike_sharing_systems.csv\", sep = \",\"):\n",
      "“attempt to set 'sep' ignored”"
     ]
    }
   ],
   "source": [
    "# Export the dataframe into a csv file\n",
    "write.csv(bicycle,file=\"raw_bike_sharing_systems.csv\",sep=\",\")"
   ]
  },
  {
   "cell_type": "markdown",
   "metadata": {},
   "source": [
    "For more details about webscraping with `rvest`, please refer to the previous webscraping notebook here:\n",
    "\n",
    "[Webscraping in R](https://cf-courses-data.s3.us.cloud-object-storage.appdomain.cloud/IBMDeveloperSkillsNetwork-RP0101EN-Coursera/v2/M4_Working_With_Data/lab3_jupyter_webscraping.ipynb)\n"
   ]
  },
  {
   "cell_type": "markdown",
   "metadata": {},
   "source": [
    "## Authors\n",
    "\n",
    "<a href=\"https://www.linkedin.com/in/yan-luo-96288783/?utm_medium=Exinfluencer&utm_source=Exinfluencer&utm_content=000026UJ&utm_term=10006555&utm_id=NA-SkillsNetwork-Channel-SkillsNetworkCoursesIBMDeveloperSkillsNetworkRP0321ENSkillsNetwork878-2022-01-01\" target=\"_blank\">Yan Luo</a>\n"
   ]
  },
  {
   "cell_type": "markdown",
   "metadata": {},
   "source": [
    "### Other Contributors\n"
   ]
  },
  {
   "cell_type": "markdown",
   "metadata": {},
   "source": [
    "## Change Log\n",
    "\n",
    "| Date (YYYY-MM-DD) | Version | Changed By | Change Description           |\n",
    "| ----------------- | ------- | ---------- | ---------------------------- |\n",
    "| 2021-04-05        | 0.1     | Yan        | Initial version created      |\n",
    "|                   |         |            |                              |\n",
    "|                   |         |            |                              |\n",
    "\n",
    "## <h3 align=\"center\"> © IBM Corporation 2021. All rights reserved. <h3/>\n"
   ]
  }
 ],
 "metadata": {
  "kernelspec": {
   "display_name": "R",
   "language": "R",
   "name": "conda-env-r-r"
  },
  "language_info": {
   "codemirror_mode": "r",
   "file_extension": ".r",
   "mimetype": "text/x-r-source",
   "name": "R",
   "pygments_lexer": "r",
   "version": "3.5.1"
  }
 },
 "nbformat": 4,
 "nbformat_minor": 4
}
